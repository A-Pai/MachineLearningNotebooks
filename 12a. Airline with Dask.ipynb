{
 "cells": [
  {
   "cell_type": "markdown",
   "metadata": {},
   "source": [
    "# Out of Core Processing\n",
    "In this notebook we will look at formulating inference on data when its large enough that it does not fit in memory. Specifically, we will compare different toolkits for loading and processing the data. The data that we will use comes from a traditional example, the 'Airline' dataset of all air traffic in the US over a period of years.\n",
    "\n",
    "Let's start by downloading the data to our machines.\n",
    "\n",
    "You can access descriptions of the data files from here: http://stat-computing.org/dataexpo/2009/the-data.html. You can manually download each of the zipped files OR run the following scripts to download the files into a folder in the same directory as this notebook called \"large_data\".\n",
    "\n",
    "In the following blocks of code, we download the data and then decompress the files into .csv files. Each csv contains data for one year of airline flights. Later on we will try two different packages for analyzing this data and building models to predict upon it:\n",
    "- Dask (using python 3.5 or later), this notebook (12a)\n",
    "- Graphlab (using python 2.7), another notebook (12b). Note: *A beta version of graphlab for python 3.5 exists, but currently is not recommended. That's fine--because we are using anaconda we can easily setup an environment for running python 2.7.*\n"
   ]
  },
  {
   "cell_type": "code",
   "execution_count": 1,
   "metadata": {
    "collapsed": true
   },
   "outputs": [],
   "source": [
    "# standard imports\n",
    "import os, sys\n",
    "import os.path\n",
    "import urllib.request # this is part of the standard library for python\n",
    "import bz2 # this is also part of the python standard library\n",
    "\n",
    "# common third party imports \n",
    "import numpy as np\n",
    "import pandas as pd\n",
    "from scipy import sparse\n",
    "from matplotlib import pyplot as plt\n",
    "%matplotlib inline\n",
    "\n",
    "# for parallelization\n",
    "from joblib import Parallel, delayed"
   ]
  },
  {
   "cell_type": "code",
   "execution_count": 2,
   "metadata": {
    "collapsed": false
   },
   "outputs": [],
   "source": [
    "# create a Data directory if not done already\n",
    "path = \"large_data\"\n",
    "if not os.path.exists(path):\n",
    "    os.mkdir( path )"
   ]
  },
  {
   "cell_type": "code",
   "execution_count": 3,
   "metadata": {
    "collapsed": false
   },
   "outputs": [
    {
     "name": "stdout",
     "output_type": "stream",
     "text": [
      "Downloading http://stat-computing.org/dataexpo/2009/1987.csv.bz2 to large_data/1987.csv.bz2\n",
      "Downloading http://stat-computing.org/dataexpo/2009/1990.csv.bz2 to large_data/1990.csv.bz2\n",
      "Downloading http://stat-computing.org/dataexpo/2009/1988.csv.bz2 to large_data/1988.csv.bz2\n",
      "Downloading http://stat-computing.org/dataexpo/2009/1992.csv.bz2 to large_data/1992.csv.bz2\n",
      "Downloading http://stat-computing.org/dataexpo/2009/1993.csv.bz2 to large_data/1993.csv.bz2\n",
      "Downloading http://stat-computing.org/dataexpo/2009/1991.csv.bz2 to large_data/1991.csv.bz2\n",
      "Downloading http://stat-computing.org/dataexpo/2009/1989.csv.bz2 to large_data/1989.csv.bz2\n",
      "Downloading http://stat-computing.org/dataexpo/2009/1994.csv.bz2 to large_data/1994.csv.bz2\n",
      "Downloading http://stat-computing.org/dataexpo/2009/1995.csv.bz2 to large_data/1995.csv.bz2\n",
      "Downloading http://stat-computing.org/dataexpo/2009/1997.csv.bz2 to large_data/1997.csv.bz2\n",
      "Downloading http://stat-computing.org/dataexpo/2009/1996.csv.bz2 to large_data/1996.csv.bz2\n",
      "Downloading http://stat-computing.org/dataexpo/2009/1998.csv.bz2 to large_data/1998.csv.bz2\n",
      "Downloading http://stat-computing.org/dataexpo/2009/1999.csv.bz2 to large_data/1999.csv.bz2\n",
      "Downloading http://stat-computing.org/dataexpo/2009/2000.csv.bz2 to large_data/2000.csv.bz2\n",
      "Downloading http://stat-computing.org/dataexpo/2009/2002.csv.bz2 to large_data/2002.csv.bz2\n",
      "Downloading http://stat-computing.org/dataexpo/2009/2001.csv.bz2 to large_data/2001.csv.bz2\n",
      "Downloading http://stat-computing.org/dataexpo/2009/2003.csv.bz2 to large_data/2003.csv.bz2\n",
      "Downloading http://stat-computing.org/dataexpo/2009/2004.csv.bz2 to large_data/2004.csv.bz2\n",
      "Downloading http://stat-computing.org/dataexpo/2009/2005.csv.bz2 to large_data/2005.csv.bz2\n",
      "Downloading http://stat-computing.org/dataexpo/2009/2007.csv.bz2 to large_data/2007.csv.bz2\n",
      "Downloading http://stat-computing.org/dataexpo/2009/2008.csv.bz2 to large_data/2008.csv.bz2\n",
      "Downloading http://stat-computing.org/dataexpo/2009/2006.csv.bz2 to large_data/2006.csv.bz2\n",
      "CPU times: user 162 ms, sys: 61.1 ms, total: 223 ms\n",
      "Wall time: 2min 5s\n",
      "['large_data/1987.csv.bz2', 'large_data/1988.csv.bz2', 'large_data/1989.csv.bz2', 'large_data/1990.csv.bz2', 'large_data/1991.csv.bz2', 'large_data/1992.csv.bz2', 'large_data/1993.csv.bz2', 'large_data/1994.csv.bz2', 'large_data/1995.csv.bz2', 'large_data/1996.csv.bz2', 'large_data/1997.csv.bz2', 'large_data/1998.csv.bz2', 'large_data/1999.csv.bz2', 'large_data/2000.csv.bz2', 'large_data/2001.csv.bz2', 'large_data/2002.csv.bz2', 'large_data/2003.csv.bz2', 'large_data/2004.csv.bz2', 'large_data/2005.csv.bz2', 'large_data/2006.csv.bz2', 'large_data/2007.csv.bz2', 'large_data/2008.csv.bz2']\n",
      "CPU times: user 163 ms, sys: 61.8 ms, total: 225 ms\n",
      "Wall time: 2min 5s\n"
     ]
    }
   ],
   "source": [
    "%%time\n",
    "# download all this stuff in parallel\n",
    "years_to_download = range(1987,2009) # get the years 1987 through 2008\n",
    "baseurl = 'http://stat-computing.org/dataexpo/2009/%d.csv.bz2' \n",
    "\n",
    "# define function for performing single task\n",
    "def download_files(url,filepath):\n",
    "    if not os.path.isfile(filepath): \n",
    "        urllib.request.urlretrieve(url, filepath) #execute download\n",
    "        print('Downloading %s to %s'%(url,filepath))\n",
    "\n",
    "# put together what the files and URLs are\n",
    "files = []\n",
    "urls = []\n",
    "for i,year in enumerate(years_to_download):\n",
    "    # prepare strings\n",
    "    url_of_data_file = baseurl%(year) # get the URL for the data file\n",
    "    save_as_filename = '%s/%d.csv.bz2'%(path, year) # save as this\n",
    "    files += [save_as_filename] # save name of the compressed file\n",
    "    urls += [url_of_data_file]\n",
    "    \n",
    "# download files in parallel\n",
    "backend = 'multiprocessing' #'multiprocessing','threading'\n",
    "%time Parallel(n_jobs=-1,backend=backend)(delayed(download_files)(url, file) for (url,file) in zip(urls,files))\n",
    "    \n",
    "# depending on your download speed this will take a few minutes to perform\n",
    "print(files)"
   ]
  },
  {
   "cell_type": "code",
   "execution_count": 4,
   "metadata": {
    "collapsed": false
   },
   "outputs": [
    {
     "name": "stdout",
     "output_type": "stream",
     "text": [
      "CPU times: user 60.7 ms, sys: 21.8 ms, total: 82.4 ms\n",
      "Wall time: 187 ms\n",
      "Done!\n",
      "CPU times: user 65.5 ms, sys: 22.6 ms, total: 88.1 ms\n",
      "Wall time: 193 ms\n"
     ]
    }
   ],
   "source": [
    "%%time\n",
    "# decompress each of the files in parallel\n",
    "def decompress(filename):\n",
    "    # get file names\n",
    "    filepath = filename\n",
    "    newfilepath = filename[:-4]\n",
    "    if not os.path.isfile(newfilepath):\n",
    "        print('Decompressing', filepath,'to', newfilepath)\n",
    "\n",
    "        # go through the decompressed chunks and write out to a decompressed file\n",
    "        with open(newfilepath, 'wb') as new_file, bz2.BZ2File(filepath, 'rb') as file:\n",
    "            for data in iter(lambda : file.read(100 * 1024), b''):\n",
    "                new_file.write(data)\n",
    "    \n",
    "# this will also take several minutes to decompress\n",
    "%time Parallel(n_jobs=-1,backend=backend)(delayed(decompress)(file) for file in files)\n",
    "print('Done!')"
   ]
  },
  {
   "cell_type": "markdown",
   "metadata": {},
   "source": [
    "### If you want to delete the compressed files\n",
    "Run the following block ONLY if you want to delete the compressed bz2 files from your system."
   ]
  },
  {
   "cell_type": "code",
   "execution_count": 5,
   "metadata": {
    "collapsed": true
   },
   "outputs": [],
   "source": [
    "!rm large_data/*.bz2"
   ]
  },
  {
   "cell_type": "markdown",
   "metadata": {},
   "source": [
    "___\n",
    "Now let's take a look at the data that we downloaded."
   ]
  },
  {
   "cell_type": "code",
   "execution_count": 6,
   "metadata": {
    "collapsed": false
   },
   "outputs": [
    {
     "name": "stdout",
     "output_type": "stream",
     "text": [
      "CSV File Format\n",
      "==================\n",
      "Year,Month,DayofMonth,DayOfWeek,DepTime,CRSDepTime,ArrTime,CRSArrTime,UniqueCarrier,FlightNum,TailNum,ActualElapsedTime,CRSElapsedTime,AirTime,ArrDelay,DepDelay,Origin,Dest,Distance,TaxiIn,TaxiOut,Cancelled,CancellationCode,Diverted,CarrierDelay,WeatherDelay,NASDelay,SecurityDelay,LateAircraftDelay\n",
      "1987,10,14,3,741,730,912,849,PS,1451,NA,91,79,NA,23,11,SAN,SFO,447,NA,NA,0,NA,0,NA,NA,NA,NA,NA\n",
      "1987,10,15,4,729,730,903,849,PS,1451,NA,94,79,NA,14,-1,SAN,SFO,447,NA,NA,0,NA,0,NA,NA,NA,NA,NA\n",
      "1987,10,17,6,741,730,918,849,PS,1451,NA,97,79,NA,29,11,SAN,SFO,447,NA,NA,0,NA,0,NA,NA,NA,NA,NA\n",
      "1987,10,18,7,729,730,847,849,PS,1451,NA,78,79,NA,-2,-1,SAN,SFO,447,NA,NA,0,NA,0,NA,NA,NA,NA,NA\n",
      "1987,10,19,1,749,730,922,849,PS,1451,NA,93,79,NA,33,19,SAN,SFO,447,NA,NA,0,NA,0,NA,NA,NA,NA,NA\n",
      "1987,10,21,3,728,730,848,849,PS,1451,NA,80,79,NA,-1,-2,SAN,SFO,447,NA,NA,0,NA,0,NA,NA,NA,NA,NA\n",
      "1987,10,22,4,728,730,852,849,PS,1451,NA,84,79,NA,3,-2,SAN,SFO,447,NA,NA,0,NA,0,NA,NA,NA,NA,NA\n",
      "1987,10,23,5,731,730,902,849,PS,1451,NA,91,79,NA,13,1,SAN,SFO,447,NA,NA,0,NA,0,NA,NA,NA,NA,NA\n",
      "1987,10,24,6,744,730,908,849,PS,1451,NA,84,79,NA,19,14,SAN,SFO,447,NA,NA,0,NA,0,NA,NA,NA,NA,NA\n"
     ]
    }
   ],
   "source": [
    "print('CSV File Format\\n==================')\n",
    "\n",
    "# run a terminal command to peak into file\n",
    "!head large_data/1987.csv"
   ]
  },
  {
   "cell_type": "code",
   "execution_count": 7,
   "metadata": {
    "collapsed": false
   },
   "outputs": [
    {
     "name": "stdout",
     "output_type": "stream",
     "text": [
      "2001\n",
      "2002\n",
      "CPU times: user 1.62 s, sys: 2.88 s, total: 4.5 s\n",
      "Wall time: 6.63 s\n"
     ]
    }
   ],
   "source": [
    "%%time\n",
    "# there is a problem in this dataset, however\n",
    "# years 2001 and 2002 will fail to read in the column 'TailNum'\n",
    "# because of odd-encoded bytes that pandas/dask can't resolve\n",
    "\n",
    "# a solution comes from just replacing those improperly encoded bytes with '?'\n",
    "# http://stackoverflow.com/questions/38728366/pandas-cannot-load-data-csv-encoding-mystery\n",
    "for year in [2001,2002]:\n",
    "    print(year)\n",
    "    in_filename = 'large_data/%d.csv'%(year)\n",
    "    out_filename = 'large_data/%d_repaired.csv'%(year)\n",
    "\n",
    "    from functools import partial\n",
    "    chunksize = 100*1024*1024 # read 100MB at a time\n",
    "\n",
    "    # Decode with UTF-8 and replace errors with \"?\"\n",
    "    with open(in_filename, 'rb') as in_file:\n",
    "        with open(out_filename, 'w') as out_file:\n",
    "            for byte_fragment in iter(partial(in_file.read, chunksize), b''):\n",
    "                out_file.write(byte_fragment.decode(encoding='utf_8', errors='replace'))\n",
    "            \n",
    "    os.remove(in_filename)\n",
    "    os.rename(out_filename, in_filename)\n",
    "                \n"
   ]
  },
  {
   "cell_type": "markdown",
   "metadata": {},
   "source": [
    "___\n",
    "# Analyzing the Data with Dask\n",
    "Let's perform some analysis of the data using the Dask framework, which is an open source implementation that breaks apart the data using multiple pandas arrays saved as structs on disk (conceptually this is an okay way to think about Dask). \n",
    "\n",
    "Many examples from this code come from \"Jim Crist at Continuum Analytics\". Especially this example:\n",
    "- https://jcrist.github.io/dask-sklearn-part-3.html \n",
    "\n",
    "But I would check out all of the posts, they are great learning tools for the dask environment (in addition to dask-learn):\n",
    "- https://jcrist.github.io/dask-sklearn-part-1.html\n",
    "- https://jcrist.github.io/dask-sklearn-part-2.html\n",
    "- https://jcrist.github.io/dask-sklearn-part-3.html "
   ]
  },
  {
   "cell_type": "code",
   "execution_count": 8,
   "metadata": {
    "collapsed": false
   },
   "outputs": [
    {
     "name": "stderr",
     "output_type": "stream",
     "text": [
      "/Users/eclarson/anaconda/envs/MLEnv/lib/python3.5/site-packages/sklearn/cross_validation.py:44: DeprecationWarning: This module was deprecated in version 0.18 in favor of the model_selection module into which all the refactored classes and functions are moved. Also note that the interface of the new CV iterators are different from that of this module. This module will be removed in 0.20.\n",
      "  \"This module will be removed in 0.20.\", DeprecationWarning)\n",
      "/Users/eclarson/anaconda/envs/MLEnv/lib/python3.5/site-packages/sklearn/grid_search.py:43: DeprecationWarning: This module was deprecated in version 0.18 in favor of the model_selection module into which all the refactored classes and functions are moved. This module will be removed in 0.20.\n",
      "  DeprecationWarning)\n"
     ]
    }
   ],
   "source": [
    "# standard dask imports\n",
    "import dask.dataframe as dd\n",
    "from dask.diagnostics import ProgressBar\n",
    "from distributed import Client\n",
    "\n",
    "# experimental dask-learn imports (these will likely change)\n",
    "import dklearn.matrix as dm\n",
    "from dklearn.cross_validation import train_test_split\n",
    "from dklearn.cross_validation import RandomSplit\n",
    "from dklearn.grid_search import GridSearchCV\n",
    "from dklearn import Averaged\n",
    "\n",
    "# scikit-learn imports\n",
    "from sklearn.linear_model import SGDClassifier\n",
    "from sklearn.metrics import accuracy_score, f1_score"
   ]
  },
  {
   "cell_type": "code",
   "execution_count": 1,
   "metadata": {
    "collapsed": false
   },
   "outputs": [],
   "source": [
    "import dask.dataframe as dd\n",
    "\n",
    "# you can run distributed here, if you have more than one machine\n",
    "#    but for lecture, we will just use the laptop\n",
    "\n",
    "# These can be used for a distributed setup, but since we are running from a laptop...\n",
    "#   we won't run them\n",
    "# from distributed import Client\n",
    "# client = Client() # start a LocalCluster for testing purposes\n",
    "# print(client) # shows where local asynchronous server (or distributed cluster) is running "
   ]
  },
  {
   "cell_type": "code",
   "execution_count": 9,
   "metadata": {
    "collapsed": false
   },
   "outputs": [
    {
     "data": {
      "text/plain": [
       "dd.DataFrame<from-de..., npartitions=104>"
      ]
     },
     "execution_count": 9,
     "metadata": {},
     "output_type": "execute_result"
    }
   ],
   "source": [
    "# Subset of the columns to use\n",
    "cols = ['Year', 'Month', 'DayOfWeek', 'DepDelay',\n",
    "        'CRSDepTime', 'UniqueCarrier', 'Origin', 'Dest', 'TailNum']\n",
    "\n",
    "# Create the dataframe\n",
    "df = dd.read_csv('large_data/*.csv',\n",
    "                 usecols=cols,           # names\n",
    "                 blocksize=int(128e6),   # size of chunks\n",
    "                 dtype = {'TailNum':object}) # specify type of hard to interpret columns\n",
    "df"
   ]
  },
  {
   "cell_type": "code",
   "execution_count": 10,
   "metadata": {
    "collapsed": true
   },
   "outputs": [],
   "source": [
    "df = (df.drop(['DepDelay', 'CRSDepTime'], axis=1).assign(\n",
    "        hour=df.CRSDepTime.clip(upper=2399)//100, \n",
    "        # make hour go up to midnight, floor division to make hourly\n",
    "        delayed=(df.DepDelay.fillna(16) > 15).astype('i8')\n",
    "        # fill na with 16 and save true/false as 8 bit integer\n",
    "    ))"
   ]
  },
  {
   "cell_type": "code",
   "execution_count": 11,
   "metadata": {
    "collapsed": false
   },
   "outputs": [
    {
     "name": "stdout",
     "output_type": "stream",
     "text": [
      "CPU times: user 5min 3s, sys: 1min 26s, total: 6min 30s\n",
      "Wall time: 3min 33s\n"
     ]
    },
    {
     "data": {
      "text/html": [
       "<div>\n",
       "<table border=\"1\" class=\"dataframe\">\n",
       "  <thead>\n",
       "    <tr style=\"text-align: right;\">\n",
       "      <th></th>\n",
       "      <th>Year</th>\n",
       "      <th>Month</th>\n",
       "      <th>DayOfWeek</th>\n",
       "      <th>UniqueCarrier</th>\n",
       "      <th>TailNum</th>\n",
       "      <th>Origin</th>\n",
       "      <th>Dest</th>\n",
       "      <th>delayed</th>\n",
       "      <th>hour</th>\n",
       "    </tr>\n",
       "  </thead>\n",
       "  <tbody>\n",
       "    <tr>\n",
       "      <th>0</th>\n",
       "      <td>1987</td>\n",
       "      <td>10</td>\n",
       "      <td>3</td>\n",
       "      <td>PS</td>\n",
       "      <td>NaN</td>\n",
       "      <td>SAN</td>\n",
       "      <td>SFO</td>\n",
       "      <td>0</td>\n",
       "      <td>7</td>\n",
       "    </tr>\n",
       "    <tr>\n",
       "      <th>1</th>\n",
       "      <td>1987</td>\n",
       "      <td>10</td>\n",
       "      <td>4</td>\n",
       "      <td>PS</td>\n",
       "      <td>NaN</td>\n",
       "      <td>SAN</td>\n",
       "      <td>SFO</td>\n",
       "      <td>0</td>\n",
       "      <td>7</td>\n",
       "    </tr>\n",
       "    <tr>\n",
       "      <th>2</th>\n",
       "      <td>1987</td>\n",
       "      <td>10</td>\n",
       "      <td>6</td>\n",
       "      <td>PS</td>\n",
       "      <td>NaN</td>\n",
       "      <td>SAN</td>\n",
       "      <td>SFO</td>\n",
       "      <td>0</td>\n",
       "      <td>7</td>\n",
       "    </tr>\n",
       "    <tr>\n",
       "      <th>3</th>\n",
       "      <td>1987</td>\n",
       "      <td>10</td>\n",
       "      <td>7</td>\n",
       "      <td>PS</td>\n",
       "      <td>NaN</td>\n",
       "      <td>SAN</td>\n",
       "      <td>SFO</td>\n",
       "      <td>0</td>\n",
       "      <td>7</td>\n",
       "    </tr>\n",
       "    <tr>\n",
       "      <th>4</th>\n",
       "      <td>1987</td>\n",
       "      <td>10</td>\n",
       "      <td>1</td>\n",
       "      <td>PS</td>\n",
       "      <td>NaN</td>\n",
       "      <td>SAN</td>\n",
       "      <td>SFO</td>\n",
       "      <td>1</td>\n",
       "      <td>7</td>\n",
       "    </tr>\n",
       "    <tr>\n",
       "      <th>5</th>\n",
       "      <td>1987</td>\n",
       "      <td>10</td>\n",
       "      <td>3</td>\n",
       "      <td>PS</td>\n",
       "      <td>NaN</td>\n",
       "      <td>SAN</td>\n",
       "      <td>SFO</td>\n",
       "      <td>0</td>\n",
       "      <td>7</td>\n",
       "    </tr>\n",
       "    <tr>\n",
       "      <th>6</th>\n",
       "      <td>1987</td>\n",
       "      <td>10</td>\n",
       "      <td>4</td>\n",
       "      <td>PS</td>\n",
       "      <td>NaN</td>\n",
       "      <td>SAN</td>\n",
       "      <td>SFO</td>\n",
       "      <td>0</td>\n",
       "      <td>7</td>\n",
       "    </tr>\n",
       "    <tr>\n",
       "      <th>7</th>\n",
       "      <td>1987</td>\n",
       "      <td>10</td>\n",
       "      <td>5</td>\n",
       "      <td>PS</td>\n",
       "      <td>NaN</td>\n",
       "      <td>SAN</td>\n",
       "      <td>SFO</td>\n",
       "      <td>0</td>\n",
       "      <td>7</td>\n",
       "    </tr>\n",
       "    <tr>\n",
       "      <th>8</th>\n",
       "      <td>1987</td>\n",
       "      <td>10</td>\n",
       "      <td>6</td>\n",
       "      <td>PS</td>\n",
       "      <td>NaN</td>\n",
       "      <td>SAN</td>\n",
       "      <td>SFO</td>\n",
       "      <td>0</td>\n",
       "      <td>7</td>\n",
       "    </tr>\n",
       "    <tr>\n",
       "      <th>9</th>\n",
       "      <td>1987</td>\n",
       "      <td>10</td>\n",
       "      <td>7</td>\n",
       "      <td>PS</td>\n",
       "      <td>NaN</td>\n",
       "      <td>SAN</td>\n",
       "      <td>SFO</td>\n",
       "      <td>0</td>\n",
       "      <td>7</td>\n",
       "    </tr>\n",
       "    <tr>\n",
       "      <th>10</th>\n",
       "      <td>1987</td>\n",
       "      <td>10</td>\n",
       "      <td>1</td>\n",
       "      <td>PS</td>\n",
       "      <td>NaN</td>\n",
       "      <td>SAN</td>\n",
       "      <td>SFO</td>\n",
       "      <td>0</td>\n",
       "      <td>7</td>\n",
       "    </tr>\n",
       "    <tr>\n",
       "      <th>11</th>\n",
       "      <td>1987</td>\n",
       "      <td>10</td>\n",
       "      <td>3</td>\n",
       "      <td>PS</td>\n",
       "      <td>NaN</td>\n",
       "      <td>SAN</td>\n",
       "      <td>SFO</td>\n",
       "      <td>1</td>\n",
       "      <td>7</td>\n",
       "    </tr>\n",
       "    <tr>\n",
       "      <th>12</th>\n",
       "      <td>1987</td>\n",
       "      <td>10</td>\n",
       "      <td>4</td>\n",
       "      <td>PS</td>\n",
       "      <td>NaN</td>\n",
       "      <td>SAN</td>\n",
       "      <td>SFO</td>\n",
       "      <td>1</td>\n",
       "      <td>7</td>\n",
       "    </tr>\n",
       "    <tr>\n",
       "      <th>13</th>\n",
       "      <td>1987</td>\n",
       "      <td>10</td>\n",
       "      <td>6</td>\n",
       "      <td>PS</td>\n",
       "      <td>NaN</td>\n",
       "      <td>SAN</td>\n",
       "      <td>SFO</td>\n",
       "      <td>0</td>\n",
       "      <td>7</td>\n",
       "    </tr>\n",
       "    <tr>\n",
       "      <th>14</th>\n",
       "      <td>1987</td>\n",
       "      <td>10</td>\n",
       "      <td>4</td>\n",
       "      <td>PS</td>\n",
       "      <td>NaN</td>\n",
       "      <td>SFO</td>\n",
       "      <td>RNO</td>\n",
       "      <td>1</td>\n",
       "      <td>9</td>\n",
       "    </tr>\n",
       "    <tr>\n",
       "      <th>15</th>\n",
       "      <td>1987</td>\n",
       "      <td>10</td>\n",
       "      <td>5</td>\n",
       "      <td>PS</td>\n",
       "      <td>NaN</td>\n",
       "      <td>SFO</td>\n",
       "      <td>RNO</td>\n",
       "      <td>0</td>\n",
       "      <td>9</td>\n",
       "    </tr>\n",
       "    <tr>\n",
       "      <th>16</th>\n",
       "      <td>1987</td>\n",
       "      <td>10</td>\n",
       "      <td>6</td>\n",
       "      <td>PS</td>\n",
       "      <td>NaN</td>\n",
       "      <td>SFO</td>\n",
       "      <td>RNO</td>\n",
       "      <td>0</td>\n",
       "      <td>9</td>\n",
       "    </tr>\n",
       "    <tr>\n",
       "      <th>17</th>\n",
       "      <td>1987</td>\n",
       "      <td>10</td>\n",
       "      <td>7</td>\n",
       "      <td>PS</td>\n",
       "      <td>NaN</td>\n",
       "      <td>SFO</td>\n",
       "      <td>RNO</td>\n",
       "      <td>0</td>\n",
       "      <td>9</td>\n",
       "    </tr>\n",
       "    <tr>\n",
       "      <th>18</th>\n",
       "      <td>1987</td>\n",
       "      <td>10</td>\n",
       "      <td>1</td>\n",
       "      <td>PS</td>\n",
       "      <td>NaN</td>\n",
       "      <td>SFO</td>\n",
       "      <td>RNO</td>\n",
       "      <td>1</td>\n",
       "      <td>9</td>\n",
       "    </tr>\n",
       "    <tr>\n",
       "      <th>19</th>\n",
       "      <td>1987</td>\n",
       "      <td>10</td>\n",
       "      <td>2</td>\n",
       "      <td>PS</td>\n",
       "      <td>NaN</td>\n",
       "      <td>SFO</td>\n",
       "      <td>RNO</td>\n",
       "      <td>1</td>\n",
       "      <td>9</td>\n",
       "    </tr>\n",
       "    <tr>\n",
       "      <th>20</th>\n",
       "      <td>1987</td>\n",
       "      <td>10</td>\n",
       "      <td>3</td>\n",
       "      <td>PS</td>\n",
       "      <td>NaN</td>\n",
       "      <td>SFO</td>\n",
       "      <td>RNO</td>\n",
       "      <td>1</td>\n",
       "      <td>9</td>\n",
       "    </tr>\n",
       "    <tr>\n",
       "      <th>21</th>\n",
       "      <td>1987</td>\n",
       "      <td>10</td>\n",
       "      <td>4</td>\n",
       "      <td>PS</td>\n",
       "      <td>NaN</td>\n",
       "      <td>SFO</td>\n",
       "      <td>RNO</td>\n",
       "      <td>1</td>\n",
       "      <td>9</td>\n",
       "    </tr>\n",
       "    <tr>\n",
       "      <th>22</th>\n",
       "      <td>1987</td>\n",
       "      <td>10</td>\n",
       "      <td>5</td>\n",
       "      <td>PS</td>\n",
       "      <td>NaN</td>\n",
       "      <td>SFO</td>\n",
       "      <td>RNO</td>\n",
       "      <td>1</td>\n",
       "      <td>9</td>\n",
       "    </tr>\n",
       "    <tr>\n",
       "      <th>23</th>\n",
       "      <td>1987</td>\n",
       "      <td>10</td>\n",
       "      <td>6</td>\n",
       "      <td>PS</td>\n",
       "      <td>NaN</td>\n",
       "      <td>SFO</td>\n",
       "      <td>RNO</td>\n",
       "      <td>0</td>\n",
       "      <td>9</td>\n",
       "    </tr>\n",
       "    <tr>\n",
       "      <th>24</th>\n",
       "      <td>1987</td>\n",
       "      <td>10</td>\n",
       "      <td>7</td>\n",
       "      <td>PS</td>\n",
       "      <td>NaN</td>\n",
       "      <td>SFO</td>\n",
       "      <td>RNO</td>\n",
       "      <td>0</td>\n",
       "      <td>9</td>\n",
       "    </tr>\n",
       "    <tr>\n",
       "      <th>25</th>\n",
       "      <td>1987</td>\n",
       "      <td>10</td>\n",
       "      <td>1</td>\n",
       "      <td>PS</td>\n",
       "      <td>NaN</td>\n",
       "      <td>SFO</td>\n",
       "      <td>RNO</td>\n",
       "      <td>1</td>\n",
       "      <td>9</td>\n",
       "    </tr>\n",
       "    <tr>\n",
       "      <th>26</th>\n",
       "      <td>1987</td>\n",
       "      <td>10</td>\n",
       "      <td>2</td>\n",
       "      <td>PS</td>\n",
       "      <td>NaN</td>\n",
       "      <td>SFO</td>\n",
       "      <td>RNO</td>\n",
       "      <td>1</td>\n",
       "      <td>9</td>\n",
       "    </tr>\n",
       "    <tr>\n",
       "      <th>27</th>\n",
       "      <td>1987</td>\n",
       "      <td>10</td>\n",
       "      <td>3</td>\n",
       "      <td>PS</td>\n",
       "      <td>NaN</td>\n",
       "      <td>SFO</td>\n",
       "      <td>RNO</td>\n",
       "      <td>0</td>\n",
       "      <td>9</td>\n",
       "    </tr>\n",
       "    <tr>\n",
       "      <th>28</th>\n",
       "      <td>1987</td>\n",
       "      <td>10</td>\n",
       "      <td>4</td>\n",
       "      <td>PS</td>\n",
       "      <td>NaN</td>\n",
       "      <td>SFO</td>\n",
       "      <td>RNO</td>\n",
       "      <td>0</td>\n",
       "      <td>9</td>\n",
       "    </tr>\n",
       "    <tr>\n",
       "      <th>29</th>\n",
       "      <td>1987</td>\n",
       "      <td>10</td>\n",
       "      <td>6</td>\n",
       "      <td>PS</td>\n",
       "      <td>NaN</td>\n",
       "      <td>SFO</td>\n",
       "      <td>RNO</td>\n",
       "      <td>1</td>\n",
       "      <td>9</td>\n",
       "    </tr>\n",
       "    <tr>\n",
       "      <th>...</th>\n",
       "      <td>...</td>\n",
       "      <td>...</td>\n",
       "      <td>...</td>\n",
       "      <td>...</td>\n",
       "      <td>...</td>\n",
       "      <td>...</td>\n",
       "      <td>...</td>\n",
       "      <td>...</td>\n",
       "      <td>...</td>\n",
       "    </tr>\n",
       "    <tr>\n",
       "      <th>499187</th>\n",
       "      <td>2008</td>\n",
       "      <td>12</td>\n",
       "      <td>6</td>\n",
       "      <td>DL</td>\n",
       "      <td>N907DE</td>\n",
       "      <td>CLT</td>\n",
       "      <td>ATL</td>\n",
       "      <td>0</td>\n",
       "      <td>16</td>\n",
       "    </tr>\n",
       "    <tr>\n",
       "      <th>499188</th>\n",
       "      <td>2008</td>\n",
       "      <td>12</td>\n",
       "      <td>6</td>\n",
       "      <td>DL</td>\n",
       "      <td>N977DL</td>\n",
       "      <td>IND</td>\n",
       "      <td>ATL</td>\n",
       "      <td>1</td>\n",
       "      <td>12</td>\n",
       "    </tr>\n",
       "    <tr>\n",
       "      <th>499189</th>\n",
       "      <td>2008</td>\n",
       "      <td>12</td>\n",
       "      <td>6</td>\n",
       "      <td>DL</td>\n",
       "      <td>N925DL</td>\n",
       "      <td>ATL</td>\n",
       "      <td>SDF</td>\n",
       "      <td>0</td>\n",
       "      <td>18</td>\n",
       "    </tr>\n",
       "    <tr>\n",
       "      <th>499190</th>\n",
       "      <td>2008</td>\n",
       "      <td>12</td>\n",
       "      <td>6</td>\n",
       "      <td>DL</td>\n",
       "      <td>N395DN</td>\n",
       "      <td>SLC</td>\n",
       "      <td>PHX</td>\n",
       "      <td>1</td>\n",
       "      <td>15</td>\n",
       "    </tr>\n",
       "    <tr>\n",
       "      <th>499191</th>\n",
       "      <td>2008</td>\n",
       "      <td>12</td>\n",
       "      <td>6</td>\n",
       "      <td>DL</td>\n",
       "      <td>N916DN</td>\n",
       "      <td>MCI</td>\n",
       "      <td>ATL</td>\n",
       "      <td>0</td>\n",
       "      <td>15</td>\n",
       "    </tr>\n",
       "    <tr>\n",
       "      <th>499192</th>\n",
       "      <td>2008</td>\n",
       "      <td>12</td>\n",
       "      <td>6</td>\n",
       "      <td>DL</td>\n",
       "      <td>N927DA</td>\n",
       "      <td>ATL</td>\n",
       "      <td>CHS</td>\n",
       "      <td>0</td>\n",
       "      <td>19</td>\n",
       "    </tr>\n",
       "    <tr>\n",
       "      <th>499193</th>\n",
       "      <td>2008</td>\n",
       "      <td>12</td>\n",
       "      <td>6</td>\n",
       "      <td>DL</td>\n",
       "      <td>N973DL</td>\n",
       "      <td>IND</td>\n",
       "      <td>ATL</td>\n",
       "      <td>0</td>\n",
       "      <td>14</td>\n",
       "    </tr>\n",
       "    <tr>\n",
       "      <th>499194</th>\n",
       "      <td>2008</td>\n",
       "      <td>12</td>\n",
       "      <td>6</td>\n",
       "      <td>DL</td>\n",
       "      <td>N907DE</td>\n",
       "      <td>ATL</td>\n",
       "      <td>PBI</td>\n",
       "      <td>1</td>\n",
       "      <td>8</td>\n",
       "    </tr>\n",
       "    <tr>\n",
       "      <th>499195</th>\n",
       "      <td>2008</td>\n",
       "      <td>12</td>\n",
       "      <td>6</td>\n",
       "      <td>DL</td>\n",
       "      <td>N914DL</td>\n",
       "      <td>MSY</td>\n",
       "      <td>ATL</td>\n",
       "      <td>0</td>\n",
       "      <td>14</td>\n",
       "    </tr>\n",
       "    <tr>\n",
       "      <th>499196</th>\n",
       "      <td>2008</td>\n",
       "      <td>12</td>\n",
       "      <td>6</td>\n",
       "      <td>DL</td>\n",
       "      <td>N914DL</td>\n",
       "      <td>ATL</td>\n",
       "      <td>BDL</td>\n",
       "      <td>0</td>\n",
       "      <td>17</td>\n",
       "    </tr>\n",
       "    <tr>\n",
       "      <th>499197</th>\n",
       "      <td>2008</td>\n",
       "      <td>12</td>\n",
       "      <td>6</td>\n",
       "      <td>DL</td>\n",
       "      <td>N949DL</td>\n",
       "      <td>LEX</td>\n",
       "      <td>ATL</td>\n",
       "      <td>0</td>\n",
       "      <td>7</td>\n",
       "    </tr>\n",
       "    <tr>\n",
       "      <th>499198</th>\n",
       "      <td>2008</td>\n",
       "      <td>12</td>\n",
       "      <td>6</td>\n",
       "      <td>DL</td>\n",
       "      <td>N905DE</td>\n",
       "      <td>HSV</td>\n",
       "      <td>ATL</td>\n",
       "      <td>1</td>\n",
       "      <td>15</td>\n",
       "    </tr>\n",
       "    <tr>\n",
       "      <th>499199</th>\n",
       "      <td>2008</td>\n",
       "      <td>12</td>\n",
       "      <td>6</td>\n",
       "      <td>DL</td>\n",
       "      <td>N938DL</td>\n",
       "      <td>MSP</td>\n",
       "      <td>ATL</td>\n",
       "      <td>1</td>\n",
       "      <td>12</td>\n",
       "    </tr>\n",
       "    <tr>\n",
       "      <th>499200</th>\n",
       "      <td>2008</td>\n",
       "      <td>12</td>\n",
       "      <td>6</td>\n",
       "      <td>DL</td>\n",
       "      <td>N935DL</td>\n",
       "      <td>MSY</td>\n",
       "      <td>ATL</td>\n",
       "      <td>0</td>\n",
       "      <td>10</td>\n",
       "    </tr>\n",
       "    <tr>\n",
       "      <th>499201</th>\n",
       "      <td>2008</td>\n",
       "      <td>12</td>\n",
       "      <td>6</td>\n",
       "      <td>DL</td>\n",
       "      <td>N3738B</td>\n",
       "      <td>SLC</td>\n",
       "      <td>DEN</td>\n",
       "      <td>0</td>\n",
       "      <td>8</td>\n",
       "    </tr>\n",
       "    <tr>\n",
       "      <th>499202</th>\n",
       "      <td>2008</td>\n",
       "      <td>12</td>\n",
       "      <td>6</td>\n",
       "      <td>DL</td>\n",
       "      <td>N3742C</td>\n",
       "      <td>LAX</td>\n",
       "      <td>CVG</td>\n",
       "      <td>0</td>\n",
       "      <td>8</td>\n",
       "    </tr>\n",
       "    <tr>\n",
       "      <th>499203</th>\n",
       "      <td>2008</td>\n",
       "      <td>12</td>\n",
       "      <td>6</td>\n",
       "      <td>DL</td>\n",
       "      <td>N621DL</td>\n",
       "      <td>SAV</td>\n",
       "      <td>ATL</td>\n",
       "      <td>0</td>\n",
       "      <td>5</td>\n",
       "    </tr>\n",
       "    <tr>\n",
       "      <th>499204</th>\n",
       "      <td>2008</td>\n",
       "      <td>12</td>\n",
       "      <td>6</td>\n",
       "      <td>DL</td>\n",
       "      <td>N920DL</td>\n",
       "      <td>ATL</td>\n",
       "      <td>MCI</td>\n",
       "      <td>0</td>\n",
       "      <td>8</td>\n",
       "    </tr>\n",
       "    <tr>\n",
       "      <th>499205</th>\n",
       "      <td>2008</td>\n",
       "      <td>12</td>\n",
       "      <td>6</td>\n",
       "      <td>DL</td>\n",
       "      <td>N653DL</td>\n",
       "      <td>ATL</td>\n",
       "      <td>RSW</td>\n",
       "      <td>0</td>\n",
       "      <td>9</td>\n",
       "    </tr>\n",
       "    <tr>\n",
       "      <th>499206</th>\n",
       "      <td>2008</td>\n",
       "      <td>12</td>\n",
       "      <td>6</td>\n",
       "      <td>DL</td>\n",
       "      <td>N3743H</td>\n",
       "      <td>RIC</td>\n",
       "      <td>ATL</td>\n",
       "      <td>1</td>\n",
       "      <td>6</td>\n",
       "    </tr>\n",
       "    <tr>\n",
       "      <th>499207</th>\n",
       "      <td>2008</td>\n",
       "      <td>12</td>\n",
       "      <td>6</td>\n",
       "      <td>DL</td>\n",
       "      <td>N909DA</td>\n",
       "      <td>ATL</td>\n",
       "      <td>IAH</td>\n",
       "      <td>1</td>\n",
       "      <td>8</td>\n",
       "    </tr>\n",
       "    <tr>\n",
       "      <th>499208</th>\n",
       "      <td>2008</td>\n",
       "      <td>12</td>\n",
       "      <td>6</td>\n",
       "      <td>DL</td>\n",
       "      <td>N604DL</td>\n",
       "      <td>JAX</td>\n",
       "      <td>ATL</td>\n",
       "      <td>0</td>\n",
       "      <td>6</td>\n",
       "    </tr>\n",
       "    <tr>\n",
       "      <th>499209</th>\n",
       "      <td>2008</td>\n",
       "      <td>12</td>\n",
       "      <td>6</td>\n",
       "      <td>DL</td>\n",
       "      <td>N642DL</td>\n",
       "      <td>MSY</td>\n",
       "      <td>ATL</td>\n",
       "      <td>0</td>\n",
       "      <td>8</td>\n",
       "    </tr>\n",
       "    <tr>\n",
       "      <th>499210</th>\n",
       "      <td>2008</td>\n",
       "      <td>12</td>\n",
       "      <td>6</td>\n",
       "      <td>DL</td>\n",
       "      <td>N907DA</td>\n",
       "      <td>GEG</td>\n",
       "      <td>SLC</td>\n",
       "      <td>0</td>\n",
       "      <td>6</td>\n",
       "    </tr>\n",
       "    <tr>\n",
       "      <th>499211</th>\n",
       "      <td>2008</td>\n",
       "      <td>12</td>\n",
       "      <td>6</td>\n",
       "      <td>DL</td>\n",
       "      <td>N646DL</td>\n",
       "      <td>SAV</td>\n",
       "      <td>ATL</td>\n",
       "      <td>0</td>\n",
       "      <td>7</td>\n",
       "    </tr>\n",
       "    <tr>\n",
       "      <th>499212</th>\n",
       "      <td>2008</td>\n",
       "      <td>12</td>\n",
       "      <td>6</td>\n",
       "      <td>DL</td>\n",
       "      <td>N646DL</td>\n",
       "      <td>ATL</td>\n",
       "      <td>IAD</td>\n",
       "      <td>0</td>\n",
       "      <td>9</td>\n",
       "    </tr>\n",
       "    <tr>\n",
       "      <th>499213</th>\n",
       "      <td>2008</td>\n",
       "      <td>12</td>\n",
       "      <td>6</td>\n",
       "      <td>DL</td>\n",
       "      <td>N908DL</td>\n",
       "      <td>ATL</td>\n",
       "      <td>SAT</td>\n",
       "      <td>0</td>\n",
       "      <td>8</td>\n",
       "    </tr>\n",
       "    <tr>\n",
       "      <th>499214</th>\n",
       "      <td>2008</td>\n",
       "      <td>12</td>\n",
       "      <td>6</td>\n",
       "      <td>DL</td>\n",
       "      <td>N671DN</td>\n",
       "      <td>PBI</td>\n",
       "      <td>ATL</td>\n",
       "      <td>0</td>\n",
       "      <td>7</td>\n",
       "    </tr>\n",
       "    <tr>\n",
       "      <th>499215</th>\n",
       "      <td>2008</td>\n",
       "      <td>12</td>\n",
       "      <td>6</td>\n",
       "      <td>DL</td>\n",
       "      <td>N646DL</td>\n",
       "      <td>IAD</td>\n",
       "      <td>ATL</td>\n",
       "      <td>0</td>\n",
       "      <td>12</td>\n",
       "    </tr>\n",
       "    <tr>\n",
       "      <th>499216</th>\n",
       "      <td>2008</td>\n",
       "      <td>12</td>\n",
       "      <td>6</td>\n",
       "      <td>DL</td>\n",
       "      <td>N908DL</td>\n",
       "      <td>SAT</td>\n",
       "      <td>ATL</td>\n",
       "      <td>0</td>\n",
       "      <td>11</td>\n",
       "    </tr>\n",
       "  </tbody>\n",
       "</table>\n",
       "<p>123534969 rows × 9 columns</p>\n",
       "</div>"
      ],
      "text/plain": [
       "        Year  Month  DayOfWeek UniqueCarrier TailNum Origin Dest  delayed  \\\n",
       "0       1987     10          3            PS     NaN    SAN  SFO        0   \n",
       "1       1987     10          4            PS     NaN    SAN  SFO        0   \n",
       "2       1987     10          6            PS     NaN    SAN  SFO        0   \n",
       "3       1987     10          7            PS     NaN    SAN  SFO        0   \n",
       "4       1987     10          1            PS     NaN    SAN  SFO        1   \n",
       "5       1987     10          3            PS     NaN    SAN  SFO        0   \n",
       "6       1987     10          4            PS     NaN    SAN  SFO        0   \n",
       "7       1987     10          5            PS     NaN    SAN  SFO        0   \n",
       "8       1987     10          6            PS     NaN    SAN  SFO        0   \n",
       "9       1987     10          7            PS     NaN    SAN  SFO        0   \n",
       "10      1987     10          1            PS     NaN    SAN  SFO        0   \n",
       "11      1987     10          3            PS     NaN    SAN  SFO        1   \n",
       "12      1987     10          4            PS     NaN    SAN  SFO        1   \n",
       "13      1987     10          6            PS     NaN    SAN  SFO        0   \n",
       "14      1987     10          4            PS     NaN    SFO  RNO        1   \n",
       "15      1987     10          5            PS     NaN    SFO  RNO        0   \n",
       "16      1987     10          6            PS     NaN    SFO  RNO        0   \n",
       "17      1987     10          7            PS     NaN    SFO  RNO        0   \n",
       "18      1987     10          1            PS     NaN    SFO  RNO        1   \n",
       "19      1987     10          2            PS     NaN    SFO  RNO        1   \n",
       "20      1987     10          3            PS     NaN    SFO  RNO        1   \n",
       "21      1987     10          4            PS     NaN    SFO  RNO        1   \n",
       "22      1987     10          5            PS     NaN    SFO  RNO        1   \n",
       "23      1987     10          6            PS     NaN    SFO  RNO        0   \n",
       "24      1987     10          7            PS     NaN    SFO  RNO        0   \n",
       "25      1987     10          1            PS     NaN    SFO  RNO        1   \n",
       "26      1987     10          2            PS     NaN    SFO  RNO        1   \n",
       "27      1987     10          3            PS     NaN    SFO  RNO        0   \n",
       "28      1987     10          4            PS     NaN    SFO  RNO        0   \n",
       "29      1987     10          6            PS     NaN    SFO  RNO        1   \n",
       "...      ...    ...        ...           ...     ...    ...  ...      ...   \n",
       "499187  2008     12          6            DL  N907DE    CLT  ATL        0   \n",
       "499188  2008     12          6            DL  N977DL    IND  ATL        1   \n",
       "499189  2008     12          6            DL  N925DL    ATL  SDF        0   \n",
       "499190  2008     12          6            DL  N395DN    SLC  PHX        1   \n",
       "499191  2008     12          6            DL  N916DN    MCI  ATL        0   \n",
       "499192  2008     12          6            DL  N927DA    ATL  CHS        0   \n",
       "499193  2008     12          6            DL  N973DL    IND  ATL        0   \n",
       "499194  2008     12          6            DL  N907DE    ATL  PBI        1   \n",
       "499195  2008     12          6            DL  N914DL    MSY  ATL        0   \n",
       "499196  2008     12          6            DL  N914DL    ATL  BDL        0   \n",
       "499197  2008     12          6            DL  N949DL    LEX  ATL        0   \n",
       "499198  2008     12          6            DL  N905DE    HSV  ATL        1   \n",
       "499199  2008     12          6            DL  N938DL    MSP  ATL        1   \n",
       "499200  2008     12          6            DL  N935DL    MSY  ATL        0   \n",
       "499201  2008     12          6            DL  N3738B    SLC  DEN        0   \n",
       "499202  2008     12          6            DL  N3742C    LAX  CVG        0   \n",
       "499203  2008     12          6            DL  N621DL    SAV  ATL        0   \n",
       "499204  2008     12          6            DL  N920DL    ATL  MCI        0   \n",
       "499205  2008     12          6            DL  N653DL    ATL  RSW        0   \n",
       "499206  2008     12          6            DL  N3743H    RIC  ATL        1   \n",
       "499207  2008     12          6            DL  N909DA    ATL  IAH        1   \n",
       "499208  2008     12          6            DL  N604DL    JAX  ATL        0   \n",
       "499209  2008     12          6            DL  N642DL    MSY  ATL        0   \n",
       "499210  2008     12          6            DL  N907DA    GEG  SLC        0   \n",
       "499211  2008     12          6            DL  N646DL    SAV  ATL        0   \n",
       "499212  2008     12          6            DL  N646DL    ATL  IAD        0   \n",
       "499213  2008     12          6            DL  N908DL    ATL  SAT        0   \n",
       "499214  2008     12          6            DL  N671DN    PBI  ATL        0   \n",
       "499215  2008     12          6            DL  N646DL    IAD  ATL        0   \n",
       "499216  2008     12          6            DL  N908DL    SAT  ATL        0   \n",
       "\n",
       "        hour  \n",
       "0          7  \n",
       "1          7  \n",
       "2          7  \n",
       "3          7  \n",
       "4          7  \n",
       "5          7  \n",
       "6          7  \n",
       "7          7  \n",
       "8          7  \n",
       "9          7  \n",
       "10         7  \n",
       "11         7  \n",
       "12         7  \n",
       "13         7  \n",
       "14         9  \n",
       "15         9  \n",
       "16         9  \n",
       "17         9  \n",
       "18         9  \n",
       "19         9  \n",
       "20         9  \n",
       "21         9  \n",
       "22         9  \n",
       "23         9  \n",
       "24         9  \n",
       "25         9  \n",
       "26         9  \n",
       "27         9  \n",
       "28         9  \n",
       "29         9  \n",
       "...      ...  \n",
       "499187    16  \n",
       "499188    12  \n",
       "499189    18  \n",
       "499190    15  \n",
       "499191    15  \n",
       "499192    19  \n",
       "499193    14  \n",
       "499194     8  \n",
       "499195    14  \n",
       "499196    17  \n",
       "499197     7  \n",
       "499198    15  \n",
       "499199    12  \n",
       "499200    10  \n",
       "499201     8  \n",
       "499202     8  \n",
       "499203     5  \n",
       "499204     8  \n",
       "499205     9  \n",
       "499206     6  \n",
       "499207     8  \n",
       "499208     6  \n",
       "499209     8  \n",
       "499210     6  \n",
       "499211     7  \n",
       "499212     9  \n",
       "499213     8  \n",
       "499214     7  \n",
       "499215    12  \n",
       "499216    11  \n",
       "\n",
       "[123534969 rows x 9 columns]"
      ]
     },
     "execution_count": 11,
     "metadata": {},
     "output_type": "execute_result"
    }
   ],
   "source": [
    "# this call to compute tells dask to run \n",
    "#  and then return the results to the scheduler\n",
    "#  since we are running on a laptop, the results are already here\n",
    "#  but in a cluster, this would trigger data transfer back to the local machine\n",
    "\n",
    "# we could instead call client.persist(df) to trigger computation\n",
    "#   but the results would stay in memory on the workers, instead of sending back\n",
    "#   to the scheduler\n",
    "%time df.compute()"
   ]
  },
  {
   "cell_type": "code",
   "execution_count": 12,
   "metadata": {
    "collapsed": false
   },
   "outputs": [
    {
     "name": "stdout",
     "output_type": "stream",
     "text": [
      "<class 'dask.dataframe.core.DataFrame'>\n",
      "Data columns (total 9 columns):\n",
      "Year               int64\n",
      "Month              int64\n",
      "DayOfWeek          int64\n",
      "UniqueCarrier      object\n",
      "TailNum            object\n",
      "Origin             object\n",
      "Dest               object\n",
      "delayed            int64\n",
      "hour               int64\n",
      "dtypes: int64(5), object(4)None\n"
     ]
    }
   ],
   "source": [
    "print(df.info())"
   ]
  },
  {
   "cell_type": "code",
   "execution_count": 13,
   "metadata": {
    "collapsed": false
   },
   "outputs": [
    {
     "name": "stdout",
     "output_type": "stream",
     "text": [
      "[########################################] | 100% Completed |  3min 13.5s\n",
      "CPU times: user 5min 48s, sys: 1min 15s, total: 7min 3s\n",
      "Wall time: 3min 13s\n"
     ]
    }
   ],
   "source": [
    "%%time\n",
    "# now let's also use some cool feedback while processing, like the progress bar\n",
    "from dask.diagnostics import ProgressBar\n",
    "\n",
    "# Define some aggregations to plot\n",
    "aggregations = (df.groupby('Year').delayed.mean(), \n",
    "                df.groupby('Month').delayed.mean(),\n",
    "                df.groupby('hour').delayed.mean(),\n",
    "                df.groupby('UniqueCarrier').delayed.mean().nlargest(15), #get largest delays from 15 carriers\n",
    "                df.groupby('TailNum').delayed.mean().nlargest(30), # a specific plane that is delayed\n",
    "               )\n",
    "\n",
    "with ProgressBar():\n",
    "    # Compute them all in a single pass over the data\n",
    "    (delayed_by_year,  \n",
    "     delayed_by_month, \n",
    "     delayed_by_hour,  \n",
    "     delayed_by_carrier,\n",
    "     delayed_by_plane) = dd.compute(*aggregations)\n"
   ]
  },
  {
   "cell_type": "code",
   "execution_count": 14,
   "metadata": {
    "collapsed": false,
    "scrolled": false
   },
   "outputs": [
    {
     "data": {
      "image/png": "[encoded data removed]",
      "text/plain": [
       "<matplotlib.figure.Figure at 0x10c061b70>"
      ]
     },
     "metadata": {},
     "output_type": "display_data"
    },
    {
     "data": {
      "image/png": "[encoded data removed]",
      "text/plain": [
       "<matplotlib.figure.Figure at 0x10db3af98>"
      ]
     },
     "metadata": {},
     "output_type": "display_data"
    },
    {
     "data": {
      "image/png": "[encoded data removed]",
      "text/plain": [
       "<matplotlib.figure.Figure at 0x122794438>"
      ]
     },
     "metadata": {},
     "output_type": "display_data"
    },
    {
     "data": {
      "image/png": "[encoded data removed]",
      "text/plain": [
       "<matplotlib.figure.Figure at 0x116f62ef0>"
      ]
     },
     "metadata": {},
     "output_type": "display_data"
    },
    {
     "data": {
      "image/png": "[encoded data removed]",
      "text/plain": [
       "<matplotlib.figure.Figure at 0x12357f240>"
      ]
     },
     "metadata": {},
     "output_type": "display_data"
    }
   ],
   "source": [
    "from matplotlib import pyplot as plt\n",
    "%matplotlib inline\n",
    "plt.style.use('ggplot')\n",
    "\n",
    "vals = (delayed_by_year,delayed_by_month,delayed_by_hour,delayed_by_carrier,delayed_by_plane)\n",
    "names = ('Year','Month','Hour','Carrier','Plane')\n",
    "for val,name in zip(vals,names):\n",
    "    plt.figure()\n",
    "    val.plot(kind='bar')\n",
    "    plt.xlabel(name)\n",
    "    plt.ylabel('Percentage of Flights Delayed (%)')\n",
    "    plt.grid(True)\n",
    "    \n",
    "plt.show()"
   ]
  },
  {
   "cell_type": "markdown",
   "metadata": {},
   "source": [
    "Wow! REALLY?, these planes never flew without being delayed? How many flights did these planes actually take?"
   ]
  },
  {
   "cell_type": "code",
   "execution_count": 21,
   "metadata": {
    "collapsed": false
   },
   "outputs": [],
   "source": [
    "idxs = df.TailNum=='N291BR'\n",
    "df_plane = df[idxs]"
   ]
  },
  {
   "cell_type": "code",
   "execution_count": 23,
   "metadata": {
    "collapsed": false
   },
   "outputs": [
    {
     "name": "stdout",
     "output_type": "stream",
     "text": [
      "[#                                       ] | 2% Completed |  7.8s"
     ]
    },
    {
     "name": "stderr",
     "output_type": "stream",
     "text": [
      "/Users/eclarson/anaconda/envs/MLEnv/lib/python3.5/site-packages/dask/async.py:263: UserWarning: Boolean Series key will be reindexed to match DataFrame index.\n",
      "  result = _execute_task(task, data)\n"
     ]
    },
    {
     "name": "stdout",
     "output_type": "stream",
     "text": [
      "[########################################] | 100% Completed |  2min 43.0s\n",
      "(DayOfWeek        1\n",
      "Dest             1\n",
      "Month            1\n",
      "Origin           1\n",
      "TailNum          1\n",
      "UniqueCarrier    1\n",
      "Year             1\n",
      "delayed          1\n",
      "hour             1\n",
      "dtype: int64,)\n",
      "CPU times: user 5min 8s, sys: 1min 1s, total: 6min 9s\n",
      "Wall time: 2min 43s\n"
     ]
    }
   ],
   "source": [
    "%%time\n",
    "with ProgressBar():\n",
    "    num_flights = dd.compute(df_plane[idxs].count())\n",
    "    \n",
    "print(num_flights)"
   ]
  },
  {
   "cell_type": "markdown",
   "metadata": {},
   "source": [
    "Oh! so these planes probably only flew one time and that one flight was delayed...\n",
    "\n",
    "How can we customize a groupby pass through the dataset such that we only look at flights flown many times? "
   ]
  },
  {
   "cell_type": "code",
   "execution_count": 24,
   "metadata": {
    "collapsed": false
   },
   "outputs": [
    {
     "name": "stdout",
     "output_type": "stream",
     "text": [
      "[########################################] | 100% Completed |  2min 47.6s\n",
      "CPU times: user 5min 15s, sys: 1min 2s, total: 6min 18s\n",
      "Wall time: 2min 47s\n"
     ]
    }
   ],
   "source": [
    "%%time\n",
    "agg = (df.groupby('TailNum').delayed.mean(),\n",
    "       df.groupby('TailNum').delayed.count())\n",
    "#get these aggregations in a single pass\n",
    "with ProgressBar():\n",
    "    (delay_mean,delay_count) = dd.compute(*agg)"
   ]
  },
  {
   "cell_type": "code",
   "execution_count": 25,
   "metadata": {
    "collapsed": false
   },
   "outputs": [
    {
     "data": {
      "text/plain": [
       "<matplotlib.axes._subplots.AxesSubplot at 0x10f2732e8>"
      ]
     },
     "execution_count": 25,
     "metadata": {},
     "output_type": "execute_result"
    },
    {
     "data": {
      "image/png": "[encoded data removed]",
      "text/plain": [
       "<matplotlib.figure.Figure at 0x112c42d30>"
      ]
     },
     "metadata": {},
     "output_type": "display_data"
    },
    {
     "data": {
      "image/png": "[encoded data removed]",
      "text/plain": [
       "<matplotlib.figure.Figure at 0x12d86df28>"
      ]
     },
     "metadata": {},
     "output_type": "display_data"
    }
   ],
   "source": [
    "n_flights = 100\n",
    "delay_mean_large = delay_mean[delay_count.values>n_flights]\n",
    "delay_mean_large.nlargest(30).plot(kind='bar')\n",
    "plt.figure()\n",
    "delay_mean_large.nsmallest(30).plot(kind='bar')"
   ]
  },
  {
   "cell_type": "markdown",
   "metadata": {},
   "source": [
    "___\n",
    "\n",
    "# Using Machine Learning with Dask\n",
    "So here is where the beta parts of Dask get uncovered. Even still, there is some basic functionality for using Dask that are quite powerful, and they mirror the syntax of scikit-learn that we already understand. \n",
    "\n",
    "Again, these examples have been manipualted from the blog of \"Jim Crist at Continuum Analytics\":\n",
    "- https://jcrist.github.io/dask-sklearn-part-1.html\n",
    "- https://jcrist.github.io/dask-sklearn-part-2.html\n",
    "- https://jcrist.github.io/dask-sklearn-part-3.html "
   ]
  },
  {
   "cell_type": "code",
   "execution_count": 26,
   "metadata": {
    "collapsed": false
   },
   "outputs": [],
   "source": [
    "import pandas as pd\n",
    "import numpy as np\n",
    "from dask import delayed\n",
    "from scipy import sparse\n",
    "\n",
    "def one_hot_encode_series(s, categories, dtype='f8'):\n",
    "    \"\"\"Transform a pandas.Series into a sparse matrix by one-hot-encoding\n",
    "    for the given `categories`\"\"\"\n",
    "    cat = pd.Categorical(s, np.asarray(categories))\n",
    "    codes = cat.codes\n",
    "    n_features = len(cat.categories)\n",
    "    n_samples = codes.size\n",
    "    mask = codes != -1\n",
    "    if np.any(~mask):\n",
    "        raise ValueError(\"unknown categorical features present %s \"\n",
    "                        \"during transform.\" % np.unique(s[~mask]))\n",
    "    row_indices = np.arange(n_samples, dtype=np.int32)\n",
    "    col_indices = codes\n",
    "    data = np.ones(row_indices.size)\n",
    "    \n",
    "    # this is the line where the magic actually happens for \n",
    "    # one hot encoding\n",
    "    return sparse.coo_matrix((data, (row_indices, col_indices)),\n",
    "                            shape=(n_samples, n_features),\n",
    "                            dtype=dtype).tocsr()\n",
    "\n",
    "\n",
    "@delayed(pure=True)\n",
    "def one_hot_encode(df, categories, dtype='f8'):\n",
    "    \"\"\"One-hot-encode a pandas.DataFrame.\n",
    "\n",
    "    Parameters\n",
    "    ----------\n",
    "    df : pandas.DataFrame\n",
    "    categories : dict\n",
    "        A mapping of column name to an sequence of categories for the column.\n",
    "    dtype : str, optional\n",
    "        The dtype of the output array. Default is 'float64'.\n",
    "    \"\"\"\n",
    "    arrs = [one_hot_encode_series(df[col], cats, dtype=dtype)\n",
    "            for col, cats in sorted(categories.items())]\n",
    "    return sparse.hstack(arrs).tocsr()"
   ]
  },
  {
   "cell_type": "markdown",
   "metadata": {},
   "source": [
    "## Self Test: Is there an error in the code below?\n",
    "- A. No, it runs\n",
    "- B. No, each value can correctly be interpretted as categorical\n",
    "- C. Yes. Ordinal data is present.\n",
    "- D. Yes. Dynamic range of integers is squashed."
   ]
  },
  {
   "cell_type": "code",
   "execution_count": 27,
   "metadata": {
    "collapsed": false
   },
   "outputs": [
    {
     "name": "stdout",
     "output_type": "stream",
     "text": [
      "[########################################] | 100% Completed |  2min 40.6s\n"
     ]
    }
   ],
   "source": [
    "# Extract categories for each feature\n",
    "categories = dict(Year=np.arange(1987, 2009),\n",
    "                  Month=np.arange(1, 13),\n",
    "                  DayOfWeek=np.arange(1, 8),\n",
    "                  hour=np.arange(24),\n",
    "                  UniqueCarrier=df.UniqueCarrier.unique(),\n",
    "                  Origin=df.Origin.unique(),\n",
    "                  Dest=df.Dest.unique(),\n",
    "                  TailNum=df.TailNum.unique())\n",
    "\n",
    "# Compute all the categories in one pass\n",
    "with ProgressBar(): \n",
    "    categories = delayed(categories).compute()"
   ]
  },
  {
   "cell_type": "code",
   "execution_count": 28,
   "metadata": {
    "collapsed": false
   },
   "outputs": [],
   "source": [
    "# what about usingbetter visuals as part of Dask?\n",
    "# Extract categories for each feature\n",
    "\n",
    "categories = dict(Year=np.arange(1987, 2009),\n",
    "                  Month=np.arange(1, 13),\n",
    "                  DayOfWeek=np.arange(1, 8),\n",
    "                  hour=np.arange(24),\n",
    "                  UniqueCarrier=df.UniqueCarrier.unique(),\n",
    "                  Origin=df.Origin.unique(),\n",
    "                  Dest=df.Dest.unique(),\n",
    "                  TailNum=df.TailNum.unique())\n",
    "\n",
    "from dask.diagnostics import Profiler, ResourceProfiler, CacheProfiler\n",
    "with Profiler() as prof, ResourceProfiler(dt=0.25) as rprof:\n",
    "    categories = delayed(categories).compute()"
   ]
  },
  {
   "cell_type": "code",
   "execution_count": 29,
   "metadata": {
    "collapsed": false
   },
   "outputs": [
    {
     "name": "stderr",
     "output_type": "stream",
     "text": [
      "/Users/eclarson/anaconda/envs/MLEnv/lib/python3.5/site-packages/bokeh/core/validation/check.py - WARNING - W-1001 (NO_DATA_RENDERERS): Plot has no data renderers: Figure(id='bbc4d306-0e86-461a-b963-329f010673c3', ...)\n",
      "/Users/eclarson/anaconda/envs/MLEnv/lib/python3.5/site-packages/bokeh/core/validation/check.py - WARNING - W-1001 (NO_DATA_RENDERERS): Plot has no data renderers: Figure(id='73962658-c87c-498f-bee0-9a0f10536871', ...)\n",
      "/Users/eclarson/anaconda/envs/MLEnv/lib/python3.5/site-packages/bokeh/core/validation/check.py - WARNING - W-1001 (NO_DATA_RENDERERS): Plot has no data renderers: Figure(id='18b8b8b5-761e-4ee8-b2be-84e709530fcc', ...)\n",
      "/Users/eclarson/anaconda/envs/MLEnv/lib/python3.5/site-packages/bokeh/core/validation/check.py - WARNING - W-1001 (NO_DATA_RENDERERS): Plot has no data renderers: Figure(id='bbc4d306-0e86-461a-b963-329f010673c3', ...)\n",
      "/Users/eclarson/anaconda/envs/MLEnv/lib/python3.5/site-packages/bokeh/core/validation/check.py - WARNING - W-1001 (NO_DATA_RENDERERS): Plot has no data renderers: Figure(id='73962658-c87c-498f-bee0-9a0f10536871', ...)\n",
      "/Users/eclarson/anaconda/envs/MLEnv/lib/python3.5/site-packages/bokeh/core/validation/check.py - WARNING - W-1001 (NO_DATA_RENDERERS): Plot has no data renderers: Figure(id='18b8b8b5-761e-4ee8-b2be-84e709530fcc', ...)\n"
     ]
    },
    {
     "data": {
      "text/html": [
       "<div style=\"display: table;\"><div style=\"display: table-row;\"><div style=\"display: table-cell;\"><b title=\"bokeh.models.layouts.Column\">Column</b>(</div><div style=\"display: table-cell;\">id&nbsp;=&nbsp;'131cae26-702e-4d19-8fa1-f7fb78cef8a8', <span id=\"fe1fdf3c-cefa-4a00-8f11-4010a37c363b\" style=\"cursor: pointer;\">&hellip;)</span></div></div><div class=\"2561b07a-e349-43ef-82b1-421351ec160d\" style=\"display: none;\"><div style=\"display: table-cell;\"></div><div style=\"display: table-cell;\">children&nbsp;=&nbsp;[ToolbarBox(id='5b7ca871-0f90-4530-aa91-3fabcf1a4714', ...), Column(id='f79c8624-870d-424c-9858-03086d45c90f', ...)],</div></div><div class=\"2561b07a-e349-43ef-82b1-421351ec160d\" style=\"display: none;\"><div style=\"display: table-cell;\"></div><div style=\"display: table-cell;\">disabled&nbsp;=&nbsp;False,</div></div><div class=\"2561b07a-e349-43ef-82b1-421351ec160d\" style=\"display: none;\"><div style=\"display: table-cell;\"></div><div style=\"display: table-cell;\">height&nbsp;=&nbsp;None,</div></div><div class=\"2561b07a-e349-43ef-82b1-421351ec160d\" style=\"display: none;\"><div style=\"display: table-cell;\"></div><div style=\"display: table-cell;\">name&nbsp;=&nbsp;None,</div></div><div class=\"2561b07a-e349-43ef-82b1-421351ec160d\" style=\"display: none;\"><div style=\"display: table-cell;\"></div><div style=\"display: table-cell;\">sizing_mode&nbsp;=&nbsp;'fixed',</div></div><div class=\"2561b07a-e349-43ef-82b1-421351ec160d\" style=\"display: none;\"><div style=\"display: table-cell;\"></div><div style=\"display: table-cell;\">tags&nbsp;=&nbsp;[],</div></div><div class=\"2561b07a-e349-43ef-82b1-421351ec160d\" style=\"display: none;\"><div style=\"display: table-cell;\"></div><div style=\"display: table-cell;\">width&nbsp;=&nbsp;None)</div></div></div>\n",
       "<script>\n",
       "(function() {\n",
       "  var expanded = false;\n",
       "  var ellipsis = document.getElementById(\"fe1fdf3c-cefa-4a00-8f11-4010a37c363b\");\n",
       "  ellipsis.addEventListener(\"click\", function() {\n",
       "    var rows = document.getElementsByClassName(\"2561b07a-e349-43ef-82b1-421351ec160d\");\n",
       "    for (var i = 0; i < rows.length; i++) {\n",
       "      var el = rows[i];\n",
       "      el.style.display = expanded ? \"none\" : \"table-row\";\n",
       "    }\n",
       "    ellipsis.innerHTML = expanded ? \"&hellip;)\" : \"&lsaquo;&lsaquo;&lsaquo;\";\n",
       "    expanded = !expanded;\n",
       "  });\n",
       "})();\n",
       "</script>\n"
      ],
      "text/plain": [
       "Column(id='131cae26-702e-4d19-8fa1-f7fb78cef8a8', ...)"
      ]
     },
     "execution_count": 29,
     "metadata": {},
     "output_type": "execute_result"
    }
   ],
   "source": [
    "from dask.diagnostics import visualize\n",
    "visualize([prof, rprof])"
   ]
  },
  {
   "cell_type": "code",
   "execution_count": 28,
   "metadata": {
    "collapsed": false
   },
   "outputs": [
    {
     "data": {
      "text/plain": [
       "(dklearn.matrix<matrix-..., npartitions=104, dtype=float64>,\n",
       " dklearn.matrix<matrix-..., npartitions=104, dtype=int64>)"
      ]
     },
     "execution_count": 28,
     "metadata": {},
     "output_type": "execute_result"
    }
   ],
   "source": [
    "# you will need an experimental setup as described here:\n",
    "# pip install git+https://github.com/dask/dask-learn\n",
    "\n",
    "# Dask Learn is an experimental project, but you \n",
    "#   can still use it as a ML expert!\n",
    "import dklearn.matrix as dm\n",
    "\n",
    "# Convert the series `delayed` into a `Matrix`\n",
    "y = dm.from_series(df.delayed)\n",
    "\n",
    "# `to_delayed` returns a list of `dask.Delayed` objects, each representing\n",
    "# one partition in the total `dask.dataframe`\n",
    "# Sorry about the delayed syntax for this example...\n",
    "chunks = df.to_delayed() # delayed paritions\n",
    "\n",
    "# Apply `one_hot_encode` to each chunk, and then convert all the\n",
    "# chunks into a `Matrix`\n",
    "X = dm.from_delayed([one_hot_encode(x, categories) for x in chunks],\n",
    "                    dtype='f8')\n",
    "X, y"
   ]
  },
  {
   "cell_type": "code",
   "execution_count": 29,
   "metadata": {
    "collapsed": false
   },
   "outputs": [],
   "source": [
    "from dklearn.cross_validation import train_test_split\n",
    "\n",
    "X_train, X_test, y_train, y_test = train_test_split(X, y, test_size=0.2)"
   ]
  },
  {
   "cell_type": "code",
   "execution_count": 30,
   "metadata": {
    "collapsed": true
   },
   "outputs": [],
   "source": [
    "from dklearn import Averaged\n",
    "from sklearn.linear_model import SGDClassifier\n",
    "\n",
    "# if you had this in separate clusters, build different \n",
    "#   ensembles inside each\n",
    "est = Averaged(SGDClassifier())"
   ]
  },
  {
   "cell_type": "code",
   "execution_count": 31,
   "metadata": {
    "collapsed": false
   },
   "outputs": [],
   "source": [
    "from dklearn.cross_validation import RandomSplit\n",
    "from dklearn.grid_search import GridSearchCV\n",
    "\n",
    "\n",
    "grid = {'alpha': [1e-5, 1e-4], # regularization\n",
    "        'loss': ['log', 'hinge']} # logistic regression versus linear SVM\n",
    "\n",
    "search = GridSearchCV(est, grid,\n",
    "                      cv=RandomSplit(n_iter=3, test_size=0.2),\n",
    "                      scoring='f1')"
   ]
  },
  {
   "cell_type": "code",
   "execution_count": 59,
   "metadata": {
    "collapsed": false
   },
   "outputs": [
    {
     "name": "stdout",
     "output_type": "stream",
     "text": [
      "CPU times: user 1h 33min 52s, sys: 14min 19s, total: 1h 48min 11s\n",
      "Wall time: 37min 33s\n"
     ]
    },
    {
     "data": {
      "text/plain": [
       "GridSearchCV(cv=<dklearn.cross_validation.RandomSplit object at 0x11497e828>,\n",
       "       estimator=Averaged(SGDClassifier(alpha=0.0001, average=False, class_weight=None,\n",
       "          epsilon=0.1,eta0=0.0, fit_intercept=True,\n",
       "          l1_ratio=0.15,learning_rate='optimal', loss='hinge',\n",
       "          n_iter=5, n_jobs=1,penalty='l2', power_t=0.5,\n",
       "          random_state=None, shuffle=True,verbose=0,\n",
       "          warm_start=False)),\n",
       "       fit_params={}, get=None, iid=True,\n",
       "       param_grid={'loss': ['log', 'hinge'], 'alpha': [0.0001, 0.001]},\n",
       "       refit=True, scoring='f1')"
      ]
     },
     "execution_count": 59,
     "metadata": {},
     "output_type": "execute_result"
    }
   ],
   "source": [
    "import warnings\n",
    "warnings.filterwarnings(\"ignore\")\n",
    "\n",
    "with Progressbar():\n",
    "    search.fit(X_train, y_train)"
   ]
  },
  {
   "cell_type": "code",
   "execution_count": 60,
   "metadata": {
    "collapsed": false
   },
   "outputs": [
    {
     "name": "stdout",
     "output_type": "stream",
     "text": [
      "SGDClassifier(alpha=0.0001, average=False, class_weight=None, epsilon=0.1,\n",
      "       eta0=0.0, fit_intercept=True, l1_ratio=0.15,\n",
      "       learning_rate='optimal', loss='log', n_iter=5, n_jobs=1,\n",
      "       penalty='l2', power_t=0.5, random_state=None, shuffle=True,\n",
      "       verbose=0, warm_start=False)\n"
     ]
    },
    {
     "data": {
      "text/plain": [
       "0.67796268512988833"
      ]
     },
     "execution_count": 60,
     "metadata": {},
     "output_type": "execute_result"
    }
   ],
   "source": [
    "print(search.best_estimator_)\n",
    "\n",
    "from sklearn.metrics import accuracy_score, f1_score\n",
    "\n",
    "# Call `predict` in parallel on the testing data\n",
    "y_pred = search.predict(X_test)# lazy implementation\n",
    "\n",
    "# Compute the actual and predicted targets\n",
    "%time actual, predicted = dask.compute(y_test, y_pred) # actualy perform computation"
   ]
  },
  {
   "cell_type": "code",
   "execution_count": 61,
   "metadata": {
    "collapsed": false
   },
   "outputs": [
    {
     "name": "stdout",
     "output_type": "stream",
     "text": [
      "0.67796268513\n",
      "0.333617496122\n"
     ]
    }
   ],
   "source": [
    "# Score \n",
    "print(accuracy_score(actual, predicted))\n",
    "print(f1_score(actual, predicted))"
   ]
  },
  {
   "cell_type": "code",
   "execution_count": null,
   "metadata": {
    "collapsed": true
   },
   "outputs": [],
   "source": []
  }
 ],
 "metadata": {
  "anaconda-cloud": {},
  "kernelspec": {
   "display_name": "Python [MLEnv]",
   "language": "python",
   "name": "Python [MLEnv]"
  },
  "language_info": {
   "codemirror_mode": {
    "name": "ipython",
    "version": 3
   },
   "file_extension": ".py",
   "mimetype": "text/x-python",
   "name": "python",
   "nbconvert_exporter": "python",
   "pygments_lexer": "ipython3",
   "version": "3.5.2"
  }
 },
 "nbformat": 4,
 "nbformat_minor": 0
}
