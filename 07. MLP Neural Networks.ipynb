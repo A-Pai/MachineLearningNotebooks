{
 "cells": [
  {
   "cell_type": "markdown",
   "metadata": {},
   "source": [
    "# Single Layer Neural Networks are just Linear and Logistic Regression\n",
    "The single layer network can be summarized with the notation given by the following representation:\n",
    "![SingleLayerNetwork](PDF_Slides/SingleLayerNetwork.png)\n",
    "\n",
    "When we calculated objective functions for linear regression and logistic regression we used the maximum likelihood priciple, showing that (under Gaussian noise) this led to minimizing the squared error of the output.\n",
    "\n",
    "This is identical to the objective function for generic, single layer neural networks:\n",
    "$$ \\sum_i^M (\\mathbf{y}^{(i)}-\\mathbf{\\hat{y}}^{(i)})^2 $$\n",
    "\n",
    "Here, the $\\mathbf{y}^{(i)}$ is a one-hot-encoded representation of the class for the $i^{th}$ instance.\n",
    "Adding in terms of single layer neural network explicitly:\n",
    "$$ J(\\mathbf{W}) = \\sum_i^M (\\mathbf{y}^{(i)}-\\phi(\\mathbf{W}\\cdot \\mathbf{x}^{(i)}))^2 $$\n",
    "\n",
    "Adaline network objective function:\n",
    "$$ J(\\mathbf{W}) = \\sum_i^M (\\mathbf{y}^{(i)}-\\mathbf{W}\\cdot \\mathbf{x}^{(i)})^2 $$\n",
    "\n",
    "To solve, we need the gradient:\n",
    "$$  \\nabla J(\\mathbf{W}) $$\n",
    "\n",
    "And then we can use the Widrow-Hoff learning Rule:\n",
    "$$ \\mathbf{W}\\leftarrow\\mathbf{W} +\\eta\\nabla J(\\mathbf{W}) $$\n",
    "\n",
    "Which can be separated for each row (they are independent):\n",
    "$$ \\mathbf{w}\\leftarrow\\mathbf{w} +\\eta[ \\mathbf{X}*(\\mathbf{y}-\\mathbf{\\hat{y}})] $$\n",
    "\n",
    "$$ \\mathbf{w}_{row}\\leftarrow\\mathbf{w}_{row} +\\eta[ \\mathbf{X}*(\\mathbf{y}_{row}-\\mathbf{\\hat{y}}_{row})] $$\n",
    "\n",
    "The same is true for the update equation of the perceptron with a sigmoid activation function:\n",
    "$$ \\mathbf{w}\\leftarrow\\mathbf{w} +\\eta[ \\mathbf{X}*(\\mathbf{y}-\\mathbf{g(x)})] $$\n",
    "\n",
    "$$ \\mathbf{w}_{row}\\leftarrow\\mathbf{w}_{row} +\\eta[ \\mathbf{X}*(\\mathbf{y}_{row}-\\mathbf{g(x)}_{row})] $$\n",
    "\n",
    "This means that the update equations are identical to the case of linear and logistic regression, using one-versus-all! So all of this we have already looked at and solved! Yay!! But, what about when we add more layers?\n"
   ]
  },
  {
   "cell_type": "markdown",
   "metadata": {},
   "source": [
    "## Multi-layer Case\n",
    "In the multilayer perceptron, we need to adjust some notation:\n",
    "![MultiLayerNetwork](PDF_Slides/MultiLayerNetwork.png)\n",
    "\n",
    "### Formulation of multi-layer perceptron\n",
    "Our objective function becomes:\n",
    "$$ J(\\mathbf{W}) = \\sum_k^M (\\mathbf{y}^{(k)}-\\mathbf{a}^{(L)})^2 $$\n",
    "\n",
    "And the update equation becomes:\n",
    "$$  w_{i,j}^{(l)} \\leftarrow w_{i,j}^{(l)} - \\eta \\frac{\\partial J(\\mathbf{W})}{\\partial w_{i,j}^{(l)}}$$\n",
    "\n",
    "However, this is not tractable to compute by hand for each network architecture, so we expand the gradient calculation using the chain rule to get partial derivatives:\n",
    "$$  \\frac{\\partial J(\\mathbf{W})}{\\partial w_{i,j}^{(l)}} = \\frac{\\partial J(\\mathbf{W})}{\\partial\\mathbf{z}^{(l)}} \\frac{\\partial\\mathbf{z}^{(l)}}{\\partial w_{i,j}^{(l)}}   $$\n",
    "\n",
    "The second term in the partial derivatives is easy to calculate as $a_j^{(l)}$ (see lecture notes), such that:\n",
    "$$  \\frac{\\partial J(\\mathbf{W})}{\\partial w_{i,j}^{(l)}} = \\frac{\\partial J(\\mathbf{W})}{\\partial\\mathbf{z}^{(l)}} a_j^{(l)}   $$\n",
    "\n",
    "And our update equation would be:\n",
    "$$  w_{i,j}^{(l)} \\leftarrow w_{i,j}^{(l)} - \\eta \\frac{\\partial J(\\mathbf{W})}{\\partial\\mathbf{z}^{(l)}} a_j^{(l)}$$\n",
    "\n",
    "To calculate the other term, we need to continue to use the chain rule:\n",
    "$$ \\frac{\\partial J(\\mathbf{W})}{\\partial\\mathbf{z}^{(l)}} =  \\frac{\\partial J(\\mathbf{W})}{\\partial\\mathbf{z}^{(l+1)}} \\frac{\\partial \\mathbf{z}^{(l+1)} }{\\partial\\mathbf{z}^{(l)}} $$\n",
    "\n",
    "After some derivation, we can see that: \n",
    "$$ \\frac{\\partial \\mathbf{z}^{(l+1)} }{\\partial\\mathbf{z}^{(l)}} = \\text{diag}[\\mathbf{a}^{(l+1)}*(1-\\mathbf{a}^{(l+1)})] \\cdot\\mathbf{W}^{(l+1)}  $$\n",
    "\n",
    "and\n",
    "$$ \\frac{\\partial J(\\mathbf{W})}{\\partial\\mathbf{z}^{(l)}} = \\text{diag}[\\mathbf{a}^{(l+1)}*(1-\\mathbf{a}^{(l+1)})] \\cdot\\mathbf{W}^{(l+1)} \\frac{\\partial J(\\mathbf{W})}{\\partial\\mathbf{z}^{(l+1)}} $$\n",
    "\n",
    "This set up a recurrence relation such that if we know $\\frac{\\partial J(\\mathbf{W})}{\\partial\\mathbf{z}^{(l)}}$ for the final layer, we can use it to get the derivatives for the previous layers. For a two layer network, the final layer gradient can be formulated as:\n",
    "$$  \\frac{\\partial J(\\mathbf{W})}{\\partial\\mathbf{z}^{(2)}} = \\frac{\\partial}{\\partial\\mathbf{z}^{(2)}} (\\mathbf{y}^{(k)}-\\phi(\\mathbf{z}^{(2)}))^2 $$\n",
    "\n",
    "$$  \\frac{\\partial J(\\mathbf{W})}{\\partial\\mathbf{z}^{(2)}}  = -2(\\mathbf{y}^{(k)}-\\mathbf{a}^{(3)})*\\mathbf{a}^{(3)}*(1-\\mathbf{a}^{(3)}) $$\n",
    "\n",
    "where $\\mathbf{y}^{(k)}$ is the $k^{th}$ instance and $\\mathbf{a}^{(3)}$ is the feedforward result for the $k^{th}$ instance. We can make this more explicit by writing the $k^{th}$ instance of $\\mathbf{a}^{(3)}$ as $_k\\mathbf{a}^{(3)})$. Now the update becomes:\n",
    "\n",
    "$$  \\frac{\\partial J(\\mathbf{W})}{\\partial _k\\mathbf{z}^{(2)}}  = -2(\\mathbf{y}^{(k)}-{_k\\mathbf{a}^{(3)}})*{_k\\mathbf{a}^{(3)}}*(1-{_k\\mathbf{a}^{(3)}}) $$\n",
    "\n",
    "Also recall that $\\cdot$ represent matrix multiplication and $*$ represents elementwise or row-wise multiplication. The update equation can be given by:\n",
    "\n",
    "$$ \\mathbf{W}^{(l)} \\leftarrow \\mathbf{W}^{(l)} -\\eta \\frac{\\partial J(\\mathbf{W}^{(l)})}{\\partial _k\\mathbf{z}^{(l)}} \\cdot {_k\\mathbf{a}^{(l)}} $$\n",
    "\n",
    "For single elements stochastic gradient descent. Or can be given by the following for batch gradient descent:\n",
    "\n",
    "$$ \\mathbf{W}^{(l)} \\leftarrow \\mathbf{W}^{(l)} -\\eta \\sum_k\\frac{\\partial J(\\mathbf{W}^{(l)})}{\\partial {_k\\mathbf{z}^{(l)}}} \\cdot {_k\\mathbf{a}^{(l)}} $$\n"
   ]
  },
  {
   "cell_type": "markdown",
   "metadata": {
    "collapsed": false
   },
   "source": [
    "## Programming a Two Layer Perceptron\n"
   ]
  },
  {
   "cell_type": "code",
   "execution_count": 1,
   "metadata": {
    "collapsed": false
   },
   "outputs": [],
   "source": [
    "# Example adapted from https://github.com/rasbt/python-machine-learning-book/blob/master/code/ch12/ch12.ipynb\n",
    "# Original Author: Sebastian Raschka\n",
    "# This is the optional book we use in the course, excellent intuitions and straightforward programming examples\n",
    "# please note, however, that this code has been manipulated to reflect our assumptions and notation.\n",
    "import numpy as np\n",
    "from scipy.special import expit\n",
    "import sys\n",
    "\n",
    "# start with a simple base classifier, which can't be fit or predicted\n",
    "# it only has internal classes to be used by classes that will subclass it\n",
    "class TwoLayerPerceptronBase(object):\n",
    "    def __init__(self, n_output, n_features, n_hidden=30,\n",
    "                 l1=0.0, l2=0.0, epochs=500, eta=0.001, random_state=None):\n",
    "\n",
    "        np.random.seed(random_state)\n",
    "        self.n_output = n_output\n",
    "        self.n_features = n_features\n",
    "        self.n_hidden = n_hidden\n",
    "        self.W1, self.W2 = self._initialize_weights()\n",
    "        self.l1 = l1\n",
    "        self.l2 = l2\n",
    "        self.epochs = epochs\n",
    "        self.eta = eta\n",
    "        \n",
    "    def _encode_labels(self, y, k):\n",
    "        \"\"\"Encode labels into one-hot representation\"\"\"\n",
    "        onehot = np.zeros((k, y.shape[0]))\n",
    "        for idx, val in enumerate(y):\n",
    "            onehot[val, idx] = 1.0\n",
    "            \n",
    "        return onehot\n",
    "\n",
    "    def _initialize_weights(self):\n",
    "        \"\"\"Initialize weights with small random numbers.\"\"\"\n",
    "        W1_num_elems = (self.n_features + 1)*self.n_hidden\n",
    "        W1 = np.random.uniform(-1.0, 1.0,size=W1_num_elems)\n",
    "        W1 = W1.reshape(self.n_hidden, self.n_features + 1) # reshape to be W\n",
    "        \n",
    "        W2_num_elems = (self.n_hidden + 1)*self.n_output\n",
    "        W2 = np.random.uniform(-1.0, 1.0, size=W2_num_elems)\n",
    "        W2 = W2.reshape(self.n_output, self.n_hidden + 1)\n",
    "        return W1, W2\n",
    "    \n",
    "    def _sigmoid(self, z):\n",
    "        \"\"\"Use scipy.special.expit to avoid overflow\"\"\"\n",
    "        # 1.0 / (1.0 + np.exp(-z))\n",
    "        return expit(z)\n",
    "    \n",
    "    def _sigmoid_gradient(self, z):\n",
    "        \"\"\"Compute gradient of the logistic function\"\"\"\n",
    "        sg = self._sigmoid(z)\n",
    "        return sg * (1.0 - sg)\n",
    "    \n",
    "    def _add_bias_unit(self, X, how='column'):\n",
    "        \"\"\"Add bias unit (column or row of 1s) to array at index 0\"\"\"\n",
    "        if how == 'column':\n",
    "            ones = np.ones((X.shape[0], 1))\n",
    "            X_new = np.hstack((ones, X))\n",
    "        elif how == 'row':\n",
    "            ones = np.ones((1, X.shape[1]))\n",
    "            X_new = np.vstack((ones, X))\n",
    "        return X_new\n",
    "    \n",
    "    def _L2_reg(self, lambda_, W1, W2):\n",
    "        \"\"\"Compute L2-regularization cost\"\"\"\n",
    "        # only compute for non-bias terms\n",
    "        return (lambda_/2.0) * np.sqrt(np.sum(W1[:, 1:] ** 2) +\n",
    "                                np.sum(W2[:, 1:] ** 2))\n",
    "\n",
    "    def _L1_reg(self, lambda_, W1, W2):\n",
    "        \"\"\"Compute L1-regularization cost\"\"\"\n",
    "        # only compute for non-bias terms\n",
    "        return (lambda_/2.0) * (np.abs(W1[:, 1:]).mean() +\n",
    "                                np.abs(W2[:, 1:]).mean())\n",
    "    \n",
    "    def _cost(self,A3,Y_enc,W1,W2):\n",
    "        '''Get the objective function value'''\n",
    "        cost = np.mean((Y_enc-A3)**2)\n",
    "        L1_term = self._L1_reg(self.l1, W1, W2)\n",
    "        L2_term = self._L2_reg(self.l2, W1, W2)\n",
    "        return cost + L1_term + L2_term"
   ]
  },
  {
   "cell_type": "code",
   "execution_count": 2,
   "metadata": {
    "collapsed": true
   },
   "outputs": [],
   "source": [
    "class TwoLayerPerceptron(TwoLayerPerceptronBase):\n",
    "    def _feedforward(self, X, W1, W2):\n",
    "        \"\"\"Compute feedforward step\n",
    "\n",
    "        Parameters\n",
    "        -----------\n",
    "        X : Input layer with original features.\n",
    "        W1: Weight matrix for input layer -> hidden layer.\n",
    "        W2: Weight matrix for hidden layer -> output layer.\n",
    "\n",
    "        Returns\n",
    "        ----------\n",
    "        a1-a3 : activations\n",
    "        z1-z2 : layer inputs \n",
    "\n",
    "        \"\"\"\n",
    "        A1 = self._add_bias_unit(X, how='column')\n",
    "        Z1 = W1 @ A1.T\n",
    "        A2 = self._sigmoid(Z1)\n",
    "        A2 = self._add_bias_unit(A2, how='row')\n",
    "        Z2 = W2 @ A2\n",
    "        A3 = self._sigmoid(Z2)\n",
    "        return A1, Z1, A2, Z2, A3\n",
    "    \n",
    "    def _get_gradient(self, A1, A2, A3, Y_enc, W1, W2):\n",
    "        \"\"\" Compute gradient step using backpropagation.\n",
    "\n",
    "        Parameters\n",
    "        ------------\n",
    "        A1-A3 : activations for all instances\n",
    "        Z1    : Net input of hidden layer.\n",
    "        Y_enc : one-hot encoded class labels.\n",
    "        W1,W2 : Weight matrices \n",
    "\n",
    "        Returns\n",
    "        ---------\n",
    "        grad1 : Gradient of the weight matrix W1.\n",
    "        grad2 : Gradient of the weight matrix W2.\n",
    "\n",
    "        \"\"\"\n",
    "        # backpropagation\n",
    "        grad1 = np.zeros(W1.shape)\n",
    "        grad2 = np.zeros(W2.shape)\n",
    "        \n",
    "        # for each instance's activations \n",
    "        for (a1,a2,a3,y) in zip(A1,A2.T,A3.T,Y_enc.T):\n",
    "            dJ_dz2 = -2*(y - a3)*a3*(1-a3)\n",
    "            dJ_dz1 = dJ_dz2 @ W2 @ np.diag(a2*(1-a2))\n",
    "                         \n",
    "            grad2 += dJ_dz2[:,np.newaxis]  @ a2[np.newaxis,:]\n",
    "            grad1 += dJ_dz1[1:,np.newaxis] @ a1[np.newaxis,:] \n",
    "            # don't incorporate bias term in the z1 gradient \n",
    "            # (its added in a2 from another layer)\n",
    "            \n",
    "\n",
    "        # regularize weights that are not bias terms\n",
    "        grad1[:, 1:] += (W1[:, 1:] * (self.l1 + self.l2))\n",
    "        grad2[:, 1:] += (W2[:, 1:] * (self.l1 + self.l2))\n",
    "\n",
    "        return grad1, grad2\n",
    "    \n",
    "    def predict(self, X):\n",
    "        \"\"\"Predict class labels\"\"\"\n",
    "        _, _, _, _, A3 = self._feedforward(X, self.W1, self.W2)\n",
    "        y_pred = np.argmax(A3, axis=0)\n",
    "        return y_pred\n",
    "    \n",
    "    \n",
    "    def fit(self, X, y, print_progress=False):\n",
    "        \"\"\" Learn weights from training data.\"\"\"\n",
    "        \n",
    "        X_data, y_data = X.copy(), y.copy()\n",
    "        Y_enc = self._encode_labels(y, self.n_output)\n",
    "\n",
    "        self.cost_ = []\n",
    "        for i in range(self.epochs):\n",
    "\n",
    "            if print_progress:\n",
    "                sys.stderr.write('\\rEpoch: %d/%d' % (i+1, self.epochs))\n",
    "                sys.stderr.flush()\n",
    "\n",
    "            # feedforward all instances\n",
    "            A1, Z1, A2, Z2, A3 = self._feedforward(X_data,self.W1,self.W2)\n",
    "            \n",
    "            cost = self._cost(A3,Y_enc,self.W1,self.W2)\n",
    "            self.cost_.append(cost)\n",
    "\n",
    "            # compute gradient via backpropagation\n",
    "            grad1, grad2 = self._get_gradient(A1=A1, A2=A2, A3=A3, Y_enc=Y_enc,\n",
    "                                              W1=self.W1, W2=self.W2)\n",
    "\n",
    "            self.W1 -= self.eta * grad1\n",
    "            self.W2 -= self.eta * grad2\n",
    "            \n",
    "\n",
    "        return self"
   ]
  },
  {
   "cell_type": "markdown",
   "metadata": {},
   "source": [
    "## Getting some data to test with:\n",
    "Let's start by grabbing some data for a smaller hadn written digits dataset. "
   ]
  },
  {
   "cell_type": "code",
   "execution_count": 3,
   "metadata": {
    "collapsed": true
   },
   "outputs": [
    {
     "name": "stdout",
     "output_type": "stream",
     "text": [
      "(1797, 64)\n",
      "(1797,)\n",
      "0.0 16.0\n"
     ]
    }
   ],
   "source": [
    "# lets load up the handwritten digit dataset\n",
    "from sklearn.datasets import load_digits\n",
    "from sklearn.metrics import accuracy_score\n",
    "\n",
    "ds = load_digits()\n",
    "X = ds.data\n",
    "y = ds.target\n",
    "\n",
    "print(X.shape)\n",
    "print(y.shape)\n",
    "print(np.min(X),np.max(X))"
   ]
  },
  {
   "cell_type": "code",
   "execution_count": 4,
   "metadata": {
    "collapsed": true
   },
   "outputs": [
    {
     "data": {
      "image/png": "[encoded data removed]",
      "text/plain": [
       "<matplotlib.figure.Figure at 0x10b86b0f0>"
      ]
     },
     "metadata": {},
     "output_type": "display_data"
    }
   ],
   "source": [
    "import matplotlib.pyplot as plt\n",
    "%matplotlib inline\n",
    "\n",
    "fig, ax = plt.subplots(nrows=2, ncols=5, sharex=True, sharey=True,)\n",
    "ax = ax.flatten()\n",
    "for i in range(10):\n",
    "    img = X[y == i][0].reshape(8, 8)\n",
    "    ax[i].imshow(img, cmap='Greys', interpolation='nearest')\n",
    "\n",
    "ax[0].set_xticks([])\n",
    "ax[0].set_yticks([])\n",
    "plt.tight_layout()\n",
    "plt.show()"
   ]
  },
  {
   "cell_type": "code",
   "execution_count": 33,
   "metadata": {
    "collapsed": true
   },
   "outputs": [
    {
     "data": {
      "image/png": "[encoded data removed]",
      "text/plain": [
       "<matplotlib.figure.Figure at 0x11051a9e8>"
      ]
     },
     "metadata": {},
     "output_type": "display_data"
    }
   ],
   "source": [
    "fig, ax = plt.subplots(nrows=5, ncols=5, sharex=True, sharey=True,)\n",
    "ax = ax.flatten()\n",
    "digit = 8\n",
    "x_digits = X[y == digit]\n",
    "for i in range(25):\n",
    "    img = x_digits[i].reshape(8, 8)\n",
    "    ax[i].imshow(img, cmap='Greys', interpolation='nearest')\n",
    "\n",
    "ax[0].set_xticks([])\n",
    "ax[0].set_yticks([])\n",
    "plt.tight_layout()\n",
    "plt.show()"
   ]
  },
  {
   "cell_type": "code",
   "execution_count": 6,
   "metadata": {
    "collapsed": true
   },
   "outputs": [],
   "source": [
    "nn = TwoLayerPerceptron(n_output=10, \n",
    "                          n_features=X.shape[1], \n",
    "                          n_hidden=50, \n",
    "                          l2=0.1, # tradeoff L2 regularizer\n",
    "                          l1=0.0, # tradeoff L1 regularizer\n",
    "                          epochs=200, # iterations\n",
    "                          eta=0.001,  # learning rate\n",
    "                          random_state=1)"
   ]
  },
  {
   "cell_type": "code",
   "execution_count": 7,
   "metadata": {
    "collapsed": true
   },
   "outputs": [
    {
     "name": "stderr",
     "output_type": "stream",
     "text": [
      "Epoch: 200/200"
     ]
    },
    {
     "name": "stdout",
     "output_type": "stream",
     "text": [
      "CPU times: user 25.7 s, sys: 367 ms, total: 26.1 s\n",
      "Wall time: 13.5 s\n"
     ]
    }
   ],
   "source": [
    "%time nn.fit(X, y, print_progress=True)\n",
    "yhat = nn.predict(X)"
   ]
  },
  {
   "cell_type": "code",
   "execution_count": 8,
   "metadata": {
    "collapsed": true
   },
   "outputs": [
    {
     "name": "stdout",
     "output_type": "stream",
     "text": [
      "Resubstitution acc: 0.863105175292\n"
     ]
    }
   ],
   "source": [
    "print('Resubstitution acc:',accuracy_score(y,yhat))"
   ]
  },
  {
   "cell_type": "markdown",
   "metadata": {},
   "source": [
    "___\n",
    "\n",
    "WOW. That was **sooooo sloooowwwww!** Why?\n",
    "### Self-Test: Where is our biggest bottle neck?\n",
    "- A. Feedforward calculation\n",
    "- B. Number of gradient calculations\n",
    "- C. `for` loop in gradient\n",
    "- D. One-hot encoded vector format of Y\n",
    "___\n",
    "\n",
    "Also, how did our objective function perform?\n"
   ]
  },
  {
   "cell_type": "code",
   "execution_count": 9,
   "metadata": {
    "collapsed": true
   },
   "outputs": [
    {
     "data": {
      "image/png": "[encoded data removed]",
      "text/plain": [
       "<matplotlib.figure.Figure at 0x10bca7668>"
      ]
     },
     "metadata": {},
     "output_type": "display_data"
    }
   ],
   "source": [
    "plt.plot(range(len(nn.cost_)), nn.cost_)\n",
    "plt.ylabel('Cost')\n",
    "plt.xlabel('Epochs')\n",
    "plt.tight_layout()\n",
    "plt.show()"
   ]
  },
  {
   "cell_type": "markdown",
   "metadata": {},
   "source": [
    "## Vectorized coding operations in gradient\n",
    "So we need to derive equations for vectorized operations. These can be derived by specifically writing out our current gradient calculations. If we plug in the equations for the final layer gradient, we have that:\n",
    "\n",
    "$$  \\Delta_k^{(2)} = -2(\\mathbf{y}^{(k)}-{_k\\mathbf{a}^{(3)}}){_k\\mathbf{a}^{(3)}}(1-{_k\\mathbf{a}^{(3)}})\\cdot {_k\\mathbf{a}^{(2)} } $$\n",
    "\n",
    "where we use $\\Delta_k^{(2)}$ in place of $\\frac{\\partial J(\\mathbf{W}^{(l)})}{\\partial _k\\mathbf{z}^{(2)}} \\cdot {_k\\mathbf{a}^{(2)}}$ to simplify the notation. Therefore, the total batch gradient calculation is given by:\n",
    "\n",
    "$$ \\mathbf{\\Delta}^{(2)} = \\sum_k \\Delta_k^{(2)} $$\n",
    "\n",
    "This first operation is relatively easy to vectorize because each column in $\\mathbf{A}^{(2)}$ corresponds to the $k^{th}$ instance of $_k\\mathbf{a}^{(2)}$. Therefore we can simply transpose $\\mathbf{A}^{(2)}$ and multiply it by the elementwise multiplications of $\\mathbf{y}^{(k)}$ and $_k\\mathbf{a}^{(3)}$:\n",
    "\n",
    "$$ \\mathbf{\\Delta}^{(2)} = -2(\\mathbf{Y}-\\mathbf{A}^{(3)})*\\mathbf{A}^{(3)}*(1-\\mathbf{A}^{(3)})\\cdot [\\mathbf{A}^{(2)}]^T $$\n",
    "\n",
    "For convenience, we define another variable, $\\mathbf{\\sigma}^{(2)}$:\n",
    "\n",
    "$$ \\mathbf{\\sigma}^{(2)} = -2(\\mathbf{Y}-\\mathbf{A}^{(3)})*\\mathbf{A}^{(3)}*(1-\\mathbf{A}^{(3)}) $$\n",
    "\n",
    "such that:\n",
    "\n",
    "$$ \\mathbf{\\Delta}^{(2)} = \\mathbf{\\sigma}^{(2)}\\cdot [\\mathbf{A}^{(2)}]^T $$\n",
    "\n",
    "Further details about this calculation can be found in the lecture notes or `PDF_slides/VectorizedBackPropagation.pdf` in this same repository.\n",
    "\n",
    "![VectorizedDerivation](PDF_slides/VectorizedBackPropagation.pdf)\n"
   ]
  },
  {
   "cell_type": "markdown",
   "metadata": {},
   "source": [
    "___\n",
    "\n",
    "Similarly, the calculation of the gradient for the hidden layer, from our derivations was:\n",
    "\n",
    "$$  \\Delta_k^{(1)} = \\frac{\\partial J(\\mathbf{W})}{\\partial \\mathbf{z}^{(2)}}\\cdot \\mathbf{W}^{(2)} \\cdot \\text{diag}[{_k\\mathbf{a}^{(2)}}*(1-{_k\\mathbf{a}^{(2)}})] \\cdot \\mathbf{a}^{(1)}$$\n",
    "\n",
    "$$ \\mathbf{\\Delta}^{(1)} = \\sum_k \\Delta_k^{(1)} $$\n",
    "\n",
    "This can also be vectorized by recognizing that $\\frac{\\partial J(\\mathbf{W})}{\\partial \\mathbf{z}^{(2)}}$ is a matrix with columns equal to $\\frac{\\partial J(\\mathbf{W})}{\\partial {_k\\mathbf{z}^{(2)}}}$ for each instance $k$. We have already solved for this: $ \\mathbf{\\sigma}^{(2)} $. With some algebra, we can find that the computation is represented vectorized as:\n",
    "\n",
    "$$  \\mathbf{\\Delta}^{(1)} = [\\mathbf{W}^{(2)}]^T \\cdot \\mathbf{\\sigma}^{(2)} * \\mathbf{A}^{(2)} * (1-\\mathbf{A}^{(2)}) \\cdot \\mathbf{A}^{(1)} $$\n",
    "\n",
    "And we define an intermediate variable $\\mathbf{\\sigma}^{(1)}$ as:\n",
    "\n",
    "$$ \\mathbf{\\sigma}^{(1)} =  [\\mathbf{W}^{(2)}]^T \\cdot \\mathbf{\\sigma}^{(2)} * \\mathbf{A}^{(2)} * (1-\\mathbf{A}^{(2)}) $$\n",
    "\n",
    "such that: \n",
    "\n",
    "$$  \\mathbf{\\Delta}^{(1)} = \\mathbf{\\sigma}^{(1)}\\cdot \\mathbf{A}^{(1)} $$\n",
    "\n",
    "Let's get programming! All we really need to do is update the `_get_gradient` class method."
   ]
  },
  {
   "cell_type": "code",
   "execution_count": 10,
   "metadata": {
    "collapsed": false
   },
   "outputs": [],
   "source": [
    "class TwoLayerPerceptronVectorized(TwoLayerPerceptron):\n",
    "    # just need a different gradient calculation\n",
    "    def _get_gradient(self, A1, A2, A3, Y_enc, W1, W2):\n",
    "        \"\"\" Compute gradient step using backpropagation.\n",
    "\n",
    "        Parameters\n",
    "        ------------\n",
    "        a1-a3 : activations\n",
    "        z1    : Net input of hidden layer.\n",
    "        y_enc : one-hot encoded class labels.\n",
    "        W1,W2 : Weight matrices \n",
    "\n",
    "        Returns\n",
    "        ---------\n",
    "        grad1 : Gradient of the weight matrix W1.\n",
    "        grad2 : Gradient of the weight matrix W2.\n",
    "\n",
    "        \"\"\"\n",
    "        # vectorized backpropagation\n",
    "        sigma3 = -2*(Y_enc-A3)*A3*(1-A3)\n",
    "        sigma2 = (W2.T @ sigma3)*A2*(1-A2)\n",
    "        \n",
    "        grad1 = sigma2[1:,:] @ A1\n",
    "        grad2 = sigma3 @ A2.T\n",
    "        \n",
    "        # regularize weights that are not bias terms\n",
    "        grad1[:, 1:] += (W1[:, 1:] * (self.l1 + self.l2))\n",
    "        grad2[:, 1:] += (W2[:, 1:] * (self.l1 + self.l2))\n",
    "\n",
    "        return grad1, grad2"
   ]
  },
  {
   "cell_type": "code",
   "execution_count": 11,
   "metadata": {
    "collapsed": true
   },
   "outputs": [
    {
     "name": "stderr",
     "output_type": "stream",
     "text": [
      "Epoch: 200/200"
     ]
    },
    {
     "name": "stdout",
     "output_type": "stream",
     "text": [
      "CPU times: user 2.03 s, sys: 148 ms, total: 2.18 s\n",
      "Wall time: 1.5 s\n",
      "Resubstitution acc: 0.863105175292\n"
     ]
    }
   ],
   "source": [
    "nn = TwoLayerPerceptronVectorized(n_output=10, \n",
    "                          n_features=X.shape[1], \n",
    "                          n_hidden=50, \n",
    "                          l2=0.1, # tradeoff L2 regularizer\n",
    "                          l1=0.0, # tradeoff L1 regularizer\n",
    "                          epochs=200, # iterations\n",
    "                          eta=0.001,  # learning rate\n",
    "                          random_state=1)\n",
    "\n",
    "%time nn.fit(X, y, print_progress=True)\n",
    "yhat = nn.predict(X)\n",
    "print('Resubstitution acc:',accuracy_score(y,yhat))"
   ]
  },
  {
   "cell_type": "code",
   "execution_count": 39,
   "metadata": {
    "collapsed": true
   },
   "outputs": [
    {
     "data": {
      "image/png": "[encoded data removed]",
      "text/plain": [
       "<matplotlib.figure.Figure at 0x1118185f8>"
      ]
     },
     "metadata": {},
     "output_type": "display_data"
    }
   ],
   "source": [
    "plt.plot(range(len(nn.cost_)), nn.cost_)\n",
    "plt.ylabel('Cost')\n",
    "plt.xlabel('Epochs')\n",
    "plt.tight_layout()\n",
    "plt.show()"
   ]
  },
  {
   "cell_type": "markdown",
   "metadata": {},
   "source": [
    "### [Back to slides]\n",
    "## Adding complexity and functionality\n",
    "So now we can calculate the gradient quickly, but we need to account for more optimization methods in this new space because the optmiization surface can be highly non-convex. We need to steer clear of local optima as best as possible.\n",
    "\n",
    "To start, let's add some momentum to the calculation and perform mini-batching of the gradient updates to help improve performance. Our new class can inherit from the old one. "
   ]
  },
  {
   "cell_type": "code",
   "execution_count": 12,
   "metadata": {
    "collapsed": false
   },
   "outputs": [],
   "source": [
    "# Example adapted from https://github.com/rasbt/python-machine-learning-book/blob/master/code/ch12/ch12.ipynb\n",
    "# Original Author: Sebastian Raschka\n",
    "# This is the optional book we use in the course, excellent intuitions and straightforward programming examples\n",
    "# please note, however, that this code has been manipulated to reflect our assumptions and notation.\n",
    "class TLPVectorizedMiniBatch(TwoLayerPerceptronVectorized):\n",
    "    def __init__(self, alpha=0.0, decrease_const=0.0, shuffle=True, minibatches=1, **kwds):        \n",
    "        # need to add to the original initializer \n",
    "        self.alpha = alpha\n",
    "        self.decrease_const = decrease_const\n",
    "        self.shuffle = shuffle\n",
    "        self.minibatches = minibatches\n",
    "        # but keep other keywords\n",
    "        super().__init__(**kwds)\n",
    "        \n",
    "    def fit(self, X, y, print_progress=False):\n",
    "        \"\"\" Learn weights from training data.\"\"\"\n",
    "        X_data, y_data = X.copy(), y.copy()\n",
    "        Y_enc = self._encode_labels(y, self.n_output)\n",
    "        \n",
    "\n",
    "        delta_W1_prev = np.zeros(self.W1.shape) # for momentum\n",
    "        delta_W2_prev = np.zeros(self.W2.shape) # for momentum\n",
    "\n",
    "        self.cost_ = []\n",
    "        for i in range(self.epochs):\n",
    "\n",
    "            # adaptive learning rate\n",
    "            self.eta /= (1 + self.decrease_const*i) # decreasing learning rate\n",
    "            # there are many forms of adaptive learning rates out there!\n",
    "\n",
    "            if print_progress:\n",
    "                sys.stderr.write('\\rEpoch: %d/%d' % (i+1, self.epochs))\n",
    "                sys.stderr.flush()\n",
    "\n",
    "            if self.shuffle:\n",
    "                idx = np.random.permutation(y_data.shape[0])\n",
    "                X_data, Y_enc = X_data[idx], Y_enc[:, idx]\n",
    "\n",
    "            # use numpy split to split into equal sized batches \n",
    "            # num batches== self.minibatches\n",
    "            mini = np.array_split(range(y_data.shape[0]), self.minibatches)\n",
    "            mini_cost = []\n",
    "            for idx in mini:\n",
    "\n",
    "                # feedforward\n",
    "                A1, Z1, A2, Z2, A3 = self._feedforward(X_data[idx],\n",
    "                                                       self.W1,\n",
    "                                                       self.W2)\n",
    "                \n",
    "                cost = self._cost(A3,Y_enc[:, idx],self.W1,self.W2)\n",
    "                mini_cost.append(cost) # this appends cost of mini-batch only\n",
    "\n",
    "                # compute gradient via backpropagation\n",
    "                grad1, grad2 = self._get_gradient(A1=A1, A2=A2,A3=A3, Y_enc=Y_enc[:, idx],\n",
    "                                                  W1=self.W1,W2=self.W2)\n",
    "\n",
    "                delta_W1, delta_W2 = self.eta * grad1, self.eta * grad2\n",
    "                self.W1 -= (delta_W1 + (self.alpha * delta_W1_prev)) # update with momentum\n",
    "                self.W2 -= (delta_W2 + (self.alpha * delta_W2_prev)) # update with momentum\n",
    "                delta_W1_prev, delta_W2_prev = delta_W1, delta_W2\n",
    "\n",
    "            self.cost_.append(mini_cost)\n",
    "            \n",
    "        return self"
   ]
  },
  {
   "cell_type": "code",
   "execution_count": 13,
   "metadata": {
    "collapsed": true
   },
   "outputs": [
    {
     "name": "stderr",
     "output_type": "stream",
     "text": [
      "Epoch: 50/50"
     ]
    },
    {
     "name": "stdout",
     "output_type": "stream",
     "text": [
      "CPU times: user 2.07 s, sys: 65.9 ms, total: 2.14 s\n",
      "Wall time: 1.24 s\n",
      "Resubstitution acc: 0.863105175292\n"
     ]
    }
   ],
   "source": [
    "nn_mini = TLPVectorizedMiniBatch(n_output=10, \n",
    "                          n_features=X.shape[1], \n",
    "                          n_hidden=50, \n",
    "                          l2=0.1, \n",
    "                          l1=0.0, \n",
    "                          epochs=50, # iterations\n",
    "                          eta=0.001,  # gradient update\n",
    "                          alpha=0.001,# momentum calculation\n",
    "                          decrease_const=0.0001, # decreasing eta\n",
    "                          minibatches=50, # minibatch size\n",
    "                          shuffle=True,\n",
    "                          random_state=1)\n",
    "\n",
    "    \n",
    "%time nn_mini.fit(X, y, print_progress=True)\n",
    "yhat = nn.predict(X)\n",
    "print('Resubstitution acc:',accuracy_score(y,yhat))"
   ]
  },
  {
   "cell_type": "code",
   "execution_count": 14,
   "metadata": {
    "collapsed": true
   },
   "outputs": [
    {
     "data": {
      "image/png": "[encoded data removed]",
      "text/plain": [
       "<matplotlib.figure.Figure at 0x10f9b2588>"
      ]
     },
     "metadata": {},
     "output_type": "display_data"
    }
   ],
   "source": [
    "# take the mean of each minibatch epoch\n",
    "cost_avgs = [np.mean(x) for x in nn_mini.cost_]\n",
    "\n",
    "plt.plot(range(len(cost_avgs)), cost_avgs, color='red')\n",
    "plt.ylabel('Cost')\n",
    "plt.xlabel('Epochs')\n",
    "plt.tight_layout()\n",
    "plt.show()"
   ]
  },
  {
   "cell_type": "markdown",
   "metadata": {},
   "source": [
    "## Using different optimization techniques\n",
    "While the above implementation is good for a number of applications, we have yet to use more advanced optimization algorithms. Why is that? Shouldn't we remedy this situation?\n",
    "\n",
    "### Self-test: Should we try quasi-Newton methods on the MLP?\n",
    "- A. Yes. Quasi-Newton methods converge much faster\n",
    "- B. Yes. Quasi-Newton methods are guaranteed to find the global optimum\n",
    "- C. No. There is no gurantee that Quasi-Newton methods will work better in a non-convex space.\n",
    "- D. No. With so many weights, the Hessian calculation is too complex. \n",
    "\n",
    "___\n",
    "\n",
    "## Quasi-Newton updates for the MLP\n",
    "Let's try to perform L-BFGS with on the previous models. The easy way of performing this is to add wrapper methods to the `_get_gradient` function in order to pack and unpack the data into the Weights matrices.\n"
   ]
  },
  {
   "cell_type": "code",
   "execution_count": 15,
   "metadata": {
    "collapsed": true
   },
   "outputs": [],
   "source": [
    "from scipy.optimize import fmin_bfgs\n",
    "from scipy.optimize import fmin_l_bfgs_b\n",
    "class TLPVectorizedBFGS(TwoLayerPerceptronVectorized):\n",
    "    \n",
    "    def __init__(self, gtol=1e-5, **kwds):        \n",
    "        # need to add to the original initializer \n",
    "        self.gtol = gtol\n",
    "        \n",
    "        # but keep other keywords\n",
    "        super().__init__(**kwds)\n",
    "        \n",
    "    def _pack(self, in1, in2):\n",
    "        '''Pack and flatten input vectors '''\n",
    "        return np.hstack((in1.flatten(),in2.flatten()))\n",
    "    \n",
    "    def _unpack(self, in_tot):\n",
    "        '''Undo packing according to layer weight sizes'''\n",
    "        out1 = in_tot[:self.W1.size].reshape(self.W1.shape)\n",
    "        out2 = in_tot[self.W1.size:].reshape(self.W2.shape)\n",
    "        return out1, out2\n",
    "    \n",
    "    def _calc_cost_gradient_packed(self,W,X_data,Y_enc):\n",
    "        '''Unpack and get cost, gradient for bfgs'''\n",
    "        W1, W2 = self._unpack(W) \n",
    "        # feedforward all instances\n",
    "        A1, Z1, A2, Z2, A3 = self._feedforward(X_data,W1,W2)\n",
    "        \n",
    "        cost = np.sum((Y_enc-A3)**2)\n",
    "        L1_term = self._L1_reg(self.l1, W1, W2)\n",
    "        L2_term = self._L2_reg(self.l2, W1, W2)\n",
    "        cost = cost + L1_term + L2_term\n",
    "        grad1,grad2 = self._get_gradient(A1=A1, A2=A2, A3=A3, Y_enc=Y_enc,\n",
    "                                         W1=W1, W2=W2)\n",
    "        return cost, self._pack(grad1,grad2)\n",
    "    \n",
    "    def _cost_packed(self,W,X_data,Y_enc):\n",
    "        '''Unpack and calculate MSE for bfgs'''\n",
    "        W1, W2 = self._unpack(W)\n",
    "        _, _, _, _, A3 = self._feedforward(X_data,W1,W2)\n",
    "        return np.sum((Y_enc-A3)**2)\n",
    "    \n",
    "    def fit(self,X,y,print_progress=False):\n",
    "        '''Learn weights from training data'''\n",
    "        X_data, y_data = X.copy(), y.copy()\n",
    "        Y_enc = self._encode_labels(y, self.n_output)\n",
    "        \n",
    "        # make initial matrices into single row vector\n",
    "        W = self._pack(self.W1,self.W2)\n",
    "\n",
    "        \n",
    "        if print_progress:\n",
    "            def callback(xd):\n",
    "                callback.counter += 1\n",
    "                sys.stderr.write('\\rEpoch: %d/%d (max)' % (callback.counter,callback.epochs))\n",
    "                sys.stderr.flush()\n",
    "\n",
    "            callback.counter = 0\n",
    "            callback.epochs = self.epochs\n",
    "            \n",
    "        else:\n",
    "            callback = None\n",
    "            \n",
    "        # compute gradient optimum with bfgs\n",
    "        W_best,_,props = fmin_l_bfgs_b(\n",
    "                        x0=W,\n",
    "                        func=self._calc_cost_gradient_packed,\n",
    "                        maxfun=self.epochs,\n",
    "                        callback=callback,\n",
    "                        pgtol=self.gtol,\n",
    "                        args=(X_data, Y_enc))\n",
    "        \n",
    "        self.W1, self.W2 = self._unpack(W_best)\n",
    "        if print_progress:\n",
    "            print(props)\n",
    "    "
   ]
  },
  {
   "cell_type": "code",
   "execution_count": 16,
   "metadata": {
    "collapsed": true
   },
   "outputs": [
    {
     "name": "stderr",
     "output_type": "stream",
     "text": [
      "Epoch: 42/50 (max)"
     ]
    },
    {
     "name": "stdout",
     "output_type": "stream",
     "text": [
      "{'nit': 42, 'task': b'STOP: TOTAL NO. of f AND g EVALUATIONS EXCEEDS LIMIT', 'funcalls': 51, 'grad': array([  1.11397388e-10,   3.98802983e-02,  -9.17094540e-02, ...,\n",
      "         9.94193160e-01,  -8.14603916e-02,  -4.32952199e-02]), 'warnflag': 1}\n",
      "CPU times: user 541 ms, sys: 30 ms, total: 571 ms\n",
      "Wall time: 347 ms\n",
      "Resubstitution acc: 0.94101279911\n"
     ]
    }
   ],
   "source": [
    "nn_bfgs = TLPVectorizedBFGS(n_output=10, \n",
    "                          n_features=X.shape[1], \n",
    "                          n_hidden=50, \n",
    "                          l2=0.1, \n",
    "                          l1=0.0, \n",
    "                          epochs=50, # iterations\n",
    "                          eta=0.001,  # gradient update\n",
    "                          gtol=1e-5,\n",
    "                          random_state=1)\n",
    "\n",
    "    \n",
    "%time nn_bfgs.fit(X, y,print_progress=True)\n",
    "yhat = nn_bfgs.predict(X)\n",
    "print('Resubstitution acc:',accuracy_score(y,yhat))"
   ]
  },
  {
   "cell_type": "markdown",
   "metadata": {},
   "source": [
    "Wow! That was pretty fast compared to the other implementations we have seen. But don't let this fool you. The L-BFGS implementation is great for smaller datasets, but minibatch/stochastic methods are more optimal as the number of instances in our data gets larger. Eventually they over power the L-BFGS algorithm's ability to move along the curvature effectively and efficiently.  \n",
    "___\n",
    "# Using a bigger handwriting dataset"
   ]
  },
  {
   "cell_type": "code",
   "execution_count": 17,
   "metadata": {
    "collapsed": false
   },
   "outputs": [],
   "source": [
    "# more data for handwriting recognition?\n",
    "# Let's use Raschka's implementation for using the mnist dataset:\n",
    "# https://github.com/rasbt/python-machine-learning-book/blob/master/code/ch12/ch12.ipynb\n",
    "import os\n",
    "import struct\n",
    "import numpy as np\n",
    " \n",
    "def load_mnist(path, kind='train'):\n",
    "    \"\"\"Load MNIST data from `path`\"\"\"\n",
    "    labels_path = os.path.join(path, '%s-labels.idx1-ubyte' % kind)\n",
    "    images_path = os.path.join(path, '%s-images.idx3-ubyte' % kind)\n",
    "        \n",
    "    with open(labels_path, 'rb') as lbpath:\n",
    "        magic, n = struct.unpack('>II', lbpath.read(8))\n",
    "        labels = np.fromfile(lbpath, dtype=np.uint8)\n",
    "\n",
    "    with open(images_path, 'rb') as imgpath:\n",
    "        magic, num, rows, cols = struct.unpack(\">IIII\", imgpath.read(16))\n",
    "        images = np.fromfile(imgpath, dtype=np.uint8).reshape(len(labels), 784)\n",
    " \n",
    "    return images, labels"
   ]
  },
  {
   "cell_type": "code",
   "execution_count": 18,
   "metadata": {
    "collapsed": true
   },
   "outputs": [
    {
     "name": "stdout",
     "output_type": "stream",
     "text": [
      "Rows: 60000, columns: 784\n",
      "Rows: 10000, columns: 784\n"
     ]
    }
   ],
   "source": [
    "X_train, y_train = load_mnist('data/', kind='train')\n",
    "print('Rows: %d, columns: %d' % (X_train.shape[0], X_train.shape[1]))\n",
    "\n",
    "X_test, y_test = load_mnist('data/', kind='t10k')\n",
    "print('Rows: %d, columns: %d' % (X_test.shape[0], X_test.shape[1]))\n",
    "\n",
    "X_train = X_train/255.0\n",
    "X_test = X_test/255.0"
   ]
  },
  {
   "cell_type": "code",
   "execution_count": 19,
   "metadata": {
    "collapsed": true
   },
   "outputs": [
    {
     "data": {
      "image/png": "[encoded data removed]",
      "text/plain": [
       "<matplotlib.figure.Figure at 0x10f943748>"
      ]
     },
     "metadata": {},
     "output_type": "display_data"
    }
   ],
   "source": [
    "import matplotlib.pyplot as plt\n",
    "%matplotlib inline\n",
    "\n",
    "fig, ax = plt.subplots(nrows=2, ncols=5, sharex=True, sharey=True,)\n",
    "ax = ax.flatten()\n",
    "for i in range(10):\n",
    "    img = X_train[y_train == i][0].reshape(28, 28)\n",
    "    ax[i].imshow(img, cmap='Greys', interpolation='nearest')\n",
    "\n",
    "ax[0].set_xticks([])\n",
    "ax[0].set_yticks([])\n",
    "plt.tight_layout()\n",
    "plt.show()"
   ]
  },
  {
   "cell_type": "code",
   "execution_count": 20,
   "metadata": {
    "collapsed": false
   },
   "outputs": [
    {
     "data": {
      "image/png": "[encoded data removed]",
      "text/plain": [
       "<matplotlib.figure.Figure at 0x12ee3eef0>"
      ]
     },
     "metadata": {},
     "output_type": "display_data"
    }
   ],
   "source": [
    "fig, ax = plt.subplots(nrows=5, ncols=5, sharex=True, sharey=True,)\n",
    "ax = ax.flatten()\n",
    "sevens = X_train[y_train == 7]\n",
    "for i in range(25):\n",
    "    img = sevens[i].reshape(28, 28)\n",
    "    ax[i].imshow(img, cmap='Greys', interpolation='nearest')\n",
    "\n",
    "ax[0].set_xticks([])\n",
    "ax[0].set_yticks([])\n",
    "plt.tight_layout()\n",
    "plt.show()"
   ]
  },
  {
   "cell_type": "markdown",
   "metadata": {
    "collapsed": false
   },
   "source": [
    "### L-BFGS Optimization for MNIST\n",
    "This is a nice test to show that mini-batching has better conversion properties for some datasets."
   ]
  },
  {
   "cell_type": "code",
   "execution_count": 21,
   "metadata": {
    "collapsed": false
   },
   "outputs": [
    {
     "name": "stderr",
     "output_type": "stream",
     "text": [
      "Epoch: 75/100 (max)"
     ]
    },
    {
     "name": "stdout",
     "output_type": "stream",
     "text": [
      "{'nit': 75, 'task': b'STOP: TOTAL NO. of f AND g EVALUATIONS EXCEEDS LIMIT', 'funcalls': 101, 'grad': array([  0.26605131,   0.04279998,  -0.0971072 , ...,   1.70682224,\n",
      "        -0.11216234,  11.91412382]), 'warnflag': 1}\n",
      "CPU times: user 1min 38s, sys: 20.7 s, total: 1min 59s\n",
      "Wall time: 1min 3s\n",
      "Resubstitution acc: 0.941766666667\n"
     ]
    }
   ],
   "source": [
    "nn_bfgs = TLPVectorizedBFGS(n_output=10, \n",
    "                      n_features=X_train.shape[1], \n",
    "                      n_hidden=50, \n",
    "                      l2=0.1, \n",
    "                      l1=0.0, \n",
    "                      epochs=100,\n",
    "                      gtol=1e-9,\n",
    "                      random_state=1)\n",
    "\n",
    "%time nn_bfgs.fit(X_train, y_train, print_progress=True)\n",
    "yhat = nn_bfgs.predict(X_train)\n",
    "print('Resubstitution acc:',accuracy_score(y_train,yhat))"
   ]
  },
  {
   "cell_type": "code",
   "execution_count": 22,
   "metadata": {
    "collapsed": false
   },
   "outputs": [
    {
     "name": "stdout",
     "output_type": "stream",
     "text": [
      "Validation acc: 0.9383\n"
     ]
    }
   ],
   "source": [
    "yhat = nn_bfgs.predict(X_test)\n",
    "print('Validation acc:',accuracy_score(y_test,yhat))"
   ]
  },
  {
   "cell_type": "markdown",
   "metadata": {},
   "source": [
    "### MiniBatch Gradient Descent for MNIST"
   ]
  },
  {
   "cell_type": "code",
   "execution_count": 23,
   "metadata": {
    "collapsed": false
   },
   "outputs": [
    {
     "name": "stderr",
     "output_type": "stream",
     "text": [
      "Epoch: 100/100"
     ]
    },
    {
     "name": "stdout",
     "output_type": "stream",
     "text": [
      "CPU times: user 2min 25s, sys: 32.3 s, total: 2min 57s\n",
      "Wall time: 1min 32s\n",
      "Resubstitution acc: 0.94885\n"
     ]
    }
   ],
   "source": [
    "nn_mini = TLPVectorizedMiniBatch(n_output=10, \n",
    "                          n_features=X_train.shape[1], \n",
    "                          n_hidden=50, \n",
    "                          l2=0.1, \n",
    "                          l1=0.0, \n",
    "                          epochs=100, \n",
    "                          eta=0.001,\n",
    "                          alpha=0.001,\n",
    "                          decrease_const=0.00001,\n",
    "                          minibatches=50, \n",
    "                          shuffle=True,\n",
    "                          random_state=1)\n",
    "\n",
    "%time nn_mini.fit(X_train, y_train, print_progress=True)\n",
    "yhat = nn_mini.predict(X_train)\n",
    "print('Resubstitution acc:',accuracy_score(y_train,yhat))"
   ]
  },
  {
   "cell_type": "code",
   "execution_count": 24,
   "metadata": {
    "collapsed": false
   },
   "outputs": [
    {
     "name": "stdout",
     "output_type": "stream",
     "text": [
      "Validation acc: 0.9458\n"
     ]
    }
   ],
   "source": [
    "yhat = nn_mini.predict(X_test)\n",
    "print('Validation acc:',accuracy_score(y_test,yhat))"
   ]
  },
  {
   "cell_type": "code",
   "execution_count": 25,
   "metadata": {
    "collapsed": false
   },
   "outputs": [
    {
     "data": {
      "image/png": "[encoded data removed]",
      "text/plain": [
       "<matplotlib.figure.Figure at 0x1438a3128>"
      ]
     },
     "metadata": {},
     "output_type": "display_data"
    }
   ],
   "source": [
    "# take the mean of each minibatch epoch\n",
    "cost_avgs = [np.mean(x) for x in nn_mini.cost_]\n",
    "\n",
    "plt.plot(range(len(cost_avgs)), cost_avgs, color='red')\n",
    "plt.ylabel('Cost')\n",
    "plt.xlabel('Epochs')\n",
    "plt.tight_layout()\n",
    "plt.show()"
   ]
  },
  {
   "cell_type": "code",
   "execution_count": 26,
   "metadata": {
    "collapsed": false
   },
   "outputs": [
    {
     "data": {
      "image/png": "[encoded data removed]",
      "text/plain": [
       "<matplotlib.figure.Figure at 0x10ff83860>"
      ]
     },
     "metadata": {},
     "output_type": "display_data"
    }
   ],
   "source": [
    "miscl_img = X_test[y_test != yhat][:25]\n",
    "correct_lab = y_test[y_test != yhat][:25]\n",
    "miscl_lab = yhat[y_test != yhat][:25]\n",
    "\n",
    "fig, ax = plt.subplots(nrows=5, ncols=5, sharex=True, sharey=True,)\n",
    "ax = ax.flatten()\n",
    "for i in range(25):\n",
    "    img = miscl_img[i].reshape(28, 28)\n",
    "    ax[i].imshow(img, cmap='Greys', interpolation='nearest')\n",
    "    ax[i].set_title('%d) t: %d p: %d' % (i+1, correct_lab[i], miscl_lab[i]))\n",
    "\n",
    "ax[0].set_xticks([])\n",
    "ax[0].set_yticks([])\n",
    "plt.tight_layout()\n",
    "plt.show()"
   ]
  },
  {
   "cell_type": "markdown",
   "metadata": {
    "collapsed": true
   },
   "source": [
    "Is 94% good for the MNIST dataset? Well, no not really. Its pretty embarassing. \n",
    "\n",
    "But we have some additional implementation details that are needed for practical implementation of neural networks, in order to get them training more efficiently and more meaningfully. These are visited in the next notebook, `08. Practical Implementation of Neural Networks`\n",
    "### [Back to Slides]"
   ]
  },
  {
   "cell_type": "code",
   "execution_count": null,
   "metadata": {
    "collapsed": false
   },
   "outputs": [],
   "source": []
  }
 ],
 "metadata": {
  "anaconda-cloud": {},
  "kernelspec": {
   "display_name": "Python [conda env:MLEnv]",
   "language": "python",
   "name": "conda-env-MLEnv-py"
  },
  "language_info": {
   "codemirror_mode": {
    "name": "ipython",
    "version": 3
   },
   "file_extension": ".py",
   "mimetype": "text/x-python",
   "name": "python",
   "nbconvert_exporter": "python",
   "pygments_lexer": "ipython3",
   "version": "3.5.2"
  }
 },
 "nbformat": 4,
 "nbformat_minor": 0
}
