{
 "cells": [
  {
   "cell_type": "markdown",
   "metadata": {},
   "source": [
    "# A quick mini-batch example using numpy\n",
    "Another great example of out of core processing using generators (By Sebastian Raschka, of course), can be found here:\n",
    "- https://github.com/rasbt/pattern_classification/blob/master/machine_learning/scikit-learn/outofcore_modelpersistence.ipynb\n",
    "\n",
    "In this example, we explicitly use numpy memory maps instead of writing our own generators. The end result is approximately the same, though. "
   ]
  },
  {
   "cell_type": "code",
   "execution_count": 1,
   "metadata": {
    "collapsed": false
   },
   "outputs": [
    {
     "name": "stdout",
     "output_type": "stream",
     "text": [
      "Rows: 60000, columns: 784\n",
      "Rows: 10000, columns: 784\n"
     ]
    }
   ],
   "source": [
    "# lets first setup some memory mapped file\n",
    "\n",
    "# more data for handwriting recognition?\n",
    "import os\n",
    "import numpy as np\n",
    "# from sklearn.preprocessing import RobustScaler\n",
    " \n",
    "def load_mnist(path, kind='train'):\n",
    "    \"\"\"Load MNIST data from `path`\"\"\"\n",
    "    labels_path = os.path.join(path, '%s-labels.mmap' % kind)\n",
    "    images_path = os.path.join(path, '%s-images.mmap' % kind)\n",
    "    \n",
    "    labels = np.memmap(labels_path, offset=8, dtype=np.uint8, mode='r')\n",
    "    images = np.memmap(images_path, offset=16, shape=(len(labels), 784), dtype=np.uint8, mode='r')\n",
    " \n",
    "    return images, labels\n",
    "\n",
    "X_train, y_train = load_mnist('data/', kind='train')\n",
    "print('Rows: %d, columns: %d' % (X_train.shape[0], X_train.shape[1]))\n",
    "\n",
    "X_test, y_test = load_mnist('data/', kind='t10k')\n",
    "print('Rows: %d, columns: %d' % (X_test.shape[0], X_test.shape[1]))\n",
    "\n"
   ]
  },
  {
   "cell_type": "code",
   "execution_count": 2,
   "metadata": {
    "collapsed": false
   },
   "outputs": [
    {
     "data": {
      "text/plain": [
       "memmap([[0, 0, 0, ..., 0, 0, 0],\n",
       "       [0, 0, 0, ..., 0, 0, 0],\n",
       "       [0, 0, 0, ..., 0, 0, 0],\n",
       "       ..., \n",
       "       [0, 0, 0, ..., 0, 0, 0],\n",
       "       [0, 0, 0, ..., 0, 0, 0],\n",
       "       [0, 0, 0, ..., 0, 0, 0]], dtype=uint8)"
      ]
     },
     "execution_count": 2,
     "metadata": {},
     "output_type": "execute_result"
    }
   ],
   "source": [
    "X_train"
   ]
  },
  {
   "cell_type": "code",
   "execution_count": 3,
   "metadata": {
    "collapsed": false
   },
   "outputs": [
    {
     "name": "stdout",
     "output_type": "stream",
     "text": [
      "255\n"
     ]
    },
    {
     "data": {
      "image/png": "[encoded data removed]",
      "text/plain": [
       "<matplotlib.figure.Figure at 0x104684668>"
      ]
     },
     "metadata": {},
     "output_type": "display_data"
    }
   ],
   "source": [
    "# now we can access different portions of the data\n",
    "# without loading the whole thing into RAM\n",
    "import matplotlib.pyplot as plt\n",
    "%matplotlib inline\n",
    "\n",
    "img = X_train[-1].reshape(28, 28) # only a small portion is loaded into working memory\n",
    "plt.imshow(img, cmap='Greys', interpolation='nearest')\n",
    "print(np.max(img))\n",
    "\n",
    "plt.show()"
   ]
  },
  {
   "cell_type": "code",
   "execution_count": 4,
   "metadata": {
    "collapsed": false
   },
   "outputs": [
    {
     "name": "stdout",
     "output_type": "stream",
     "text": [
      "CPU times: user 28.3 s, sys: 1.74 s, total: 30 s\n",
      "Wall time: 31 s\n"
     ]
    }
   ],
   "source": [
    "%%time \n",
    "# If we try to perform an operation on the entirety\n",
    "#  of X_train, it will load the entire array\n",
    "#  but we can manually load rows in chunks\n",
    "\n",
    "from sklearn.linear_model import SGDClassifier, Perceptron\n",
    "from sklearn.naive_bayes import MultinomialNB\n",
    "from sklearn.neural_network import MLPClassifier\n",
    "# different classifiers that incorporate partial fit\n",
    "# clf = Perceptron(random_state=1)\n",
    "# clf = MultinomialNB()\n",
    "# clf = MLPClassifier(hidden_layer_sizes=(50, ), \n",
    "#                     activation='relu', \n",
    "#                     solver='sgd', \n",
    "#                     alpha=1e-4, # L2 penalty\n",
    "#                    )\n",
    "clf = SGDClassifier(loss='log', n_iter=10)\n",
    "\n",
    "classes = np.arange(0,10) # partial fit needs to know all the classes\n",
    "idx = 0     # starting index\n",
    "size= 1000  # mini batch size\n",
    "for _ in range(1000):\n",
    "    # load partially from file\n",
    "    X_train_mini = X_train[idx:idx+size] \n",
    "    y_train_mini = y_train[idx:idx+size]\n",
    "    # note: must be continuous slicing to avoid loading entire matrix\n",
    "    \n",
    "    # fit with minibatch\n",
    "    clf.partial_fit(X_train_mini/255.0, y_train_mini, classes=classes)\n",
    "    \n",
    "    # adjust where to read from for minibatch\n",
    "    idx = idx+size if idx+size<len(y_train) else len(y_train)-idx"
   ]
  },
  {
   "cell_type": "code",
   "execution_count": 5,
   "metadata": {
    "collapsed": false
   },
   "outputs": [
    {
     "name": "stdout",
     "output_type": "stream",
     "text": [
      "0.914\n"
     ]
    }
   ],
   "source": [
    "from sklearn.metrics import accuracy_score\n",
    "yhat = clf.predict(X_test/255.0)\n",
    "\n",
    "print(accuracy_score(yhat,y_test))"
   ]
  },
  {
   "cell_type": "code",
   "execution_count": null,
   "metadata": {
    "collapsed": true
   },
   "outputs": [],
   "source": []
  }
 ],
 "metadata": {
  "anaconda-cloud": {},
  "kernelspec": {
   "display_name": "Python [MLEnv]",
   "language": "python",
   "name": "Python [MLEnv]"
  },
  "language_info": {
   "codemirror_mode": {
    "name": "ipython",
    "version": 3
   },
   "file_extension": ".py",
   "mimetype": "text/x-python",
   "name": "python",
   "nbconvert_exporter": "python",
   "pygments_lexer": "ipython3",
   "version": "3.5.2"
  }
 },
 "nbformat": 4,
 "nbformat_minor": 0
}
