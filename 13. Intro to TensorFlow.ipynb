{
 "cells": [
  {
   "cell_type": "markdown",
   "metadata": {},
   "source": [
    "# Using Basic Tensor Flow\n",
    "In this notebook, we will start to build our skills with tensorflow with a primitive example, and work our way to more expressive architectures. We will also look at some of the methods for using TensorFlow with a simplified interface. \n",
    "\n",
    "To install tensorflow via anaconda use the command:\n",
    "- `conda install -c conda-forge tensorflow`"
   ]
  },
  {
   "cell_type": "markdown",
   "metadata": {},
   "source": [
    "Let's first create a linear regression algorithm in TensorFlow, just to show how its setup under the hood."
   ]
  },
  {
   "cell_type": "code",
   "execution_count": 1,
   "metadata": {
    "collapsed": false
   },
   "outputs": [
    {
     "name": "stdout",
     "output_type": "stream",
     "text": [
      "(442, 10)\n",
      "(442, 1) float64 [ 25.] [ 346.]\n"
     ]
    }
   ],
   "source": [
    "from sklearn.datasets import load_diabetes\n",
    "import numpy as np\n",
    "\n",
    "from matplotlib import pyplot as plt\n",
    "%matplotlib inline\n",
    "\n",
    "ds = load_diabetes()\n",
    "ds.target = ds.target.reshape((-1,1)) # make this explicit\n",
    "\n",
    "print(ds.data.shape)\n",
    "print(ds.target.shape, ds.target.dtype, min(ds.target), max(ds.target))\n",
    "\n",
    "ds.data /= np.max(ds.data)\n",
    "\n",
    "n_observations, n_features = ds.data.shape"
   ]
  },
  {
   "cell_type": "code",
   "execution_count": 2,
   "metadata": {
    "collapsed": false
   },
   "outputs": [
    {
     "name": "stdout",
     "output_type": "stream",
     "text": [
      "0.11.0rc2\n"
     ]
    }
   ],
   "source": [
    "import tensorflow as tf\n",
    "\n",
    "print(tf.__version__)\n",
    "\n",
    "session = tf.InteractiveSession()"
   ]
  },
  {
   "cell_type": "code",
   "execution_count": 3,
   "metadata": {
    "collapsed": false
   },
   "outputs": [],
   "source": [
    "batchsize = 100 #regular python variable\n",
    "\n",
    "#setup some tensor flow variables in computation graph\n",
    "X = tf.placeholder(tf.float32, shape=(batchsize, n_features))\n",
    "y = tf.placeholder(tf.float32, shape=(batchsize, 1))\n",
    "\n",
    "# define a namespace of scope\n",
    "with tf.variable_scope('linear_regression'):\n",
    "    # these variables cannot be redefined after this call\n",
    "    # running this block again returns an error\n",
    "    \n",
    "    # define variables in this tensorflow scope\n",
    "    W = tf.get_variable('weights', \n",
    "                        (n_features,1), \n",
    "                        initializer=tf.random_normal_initializer())\n",
    "    \n",
    "    # define other operations of these variables\n",
    "    yhat = tf.matmul(X,W)\n",
    "    objective = tf.reduce_mean((y-yhat)**2)\n",
    "    \n",
    "# define some operations on the \n",
    "opt = tf.train.AdamOptimizer()\n",
    "opt_operation = opt.minimize(objective)"
   ]
  },
  {
   "cell_type": "code",
   "execution_count": 4,
   "metadata": {
    "collapsed": false
   },
   "outputs": [],
   "source": [
    "session.run(tf.initialize_all_variables())\n",
    "for _ in range(1000):\n",
    "    idx = np.random.choice(n_observations, batchsize) \n",
    "    _, obj_val = session.run([opt_operation,objective],\n",
    "                             feed_dict={X:ds.data[idx],y:ds.target[idx]})"
   ]
  },
  {
   "cell_type": "code",
   "execution_count": 5,
   "metadata": {
    "collapsed": false,
    "scrolled": true
   },
   "outputs": [
    {
     "name": "stdout",
     "output_type": "stream",
     "text": [
      "29203.0\n",
      "<tensorflow.python.ops.variables.Variable object at 0x11317f1d0>\n",
      "[[ 0.41920722]\n",
      " [-0.65132737]\n",
      " [ 0.61349112]\n",
      " [ 1.43049049]\n",
      " [ 0.88769495]\n",
      " [ 0.39079744]\n",
      " [-1.95032954]\n",
      " [ 1.73670959]\n",
      " [-0.00686819]\n",
      " [ 0.61375576]]\n"
     ]
    }
   ],
   "source": [
    "print(obj_val)\n",
    "print(W)\n",
    "\n",
    "W_vals = session.run(W)\n",
    "print(W_vals)"
   ]
  },
  {
   "cell_type": "code",
   "execution_count": 6,
   "metadata": {
    "collapsed": false
   },
   "outputs": [
    {
     "data": {
      "text/plain": [
       "[<matplotlib.lines.Line2D at 0x115699b38>]"
      ]
     },
     "execution_count": 6,
     "metadata": {},
     "output_type": "execute_result"
    },
    {
     "data": {
      "image/png": "[encoded data removed]",
      "text/plain": [
       "<matplotlib.figure.Figure at 0x11315bef0>"
      ]
     },
     "metadata": {},
     "output_type": "display_data"
    }
   ],
   "source": [
    "from matplotlib import pyplot as plt\n",
    "%matplotlib inline\n",
    "\n",
    "y_hat = ds.data @ W_vals\n",
    "\n",
    "plt.plot(y_hat,ds.target,'.')"
   ]
  },
  {
   "cell_type": "markdown",
   "metadata": {
    "collapsed": true
   },
   "source": [
    "# Making TensorFlow Easier to Use\n",
    "Well, once we know the overall architecture of the problem we want to sovle, can we make the use of TensorFlow easier? Sure. Let's emulate the functionality of scikit-learn."
   ]
  },
  {
   "cell_type": "code",
   "execution_count": 12,
   "metadata": {
    "collapsed": false
   },
   "outputs": [
    {
     "data": {
      "text/plain": [
       "[<matplotlib.lines.Line2D at 0x117a88860>]"
      ]
     },
     "execution_count": 12,
     "metadata": {},
     "output_type": "execute_result"
    },
    {
     "data": {
      "image/png": "[encoded data removed]",
      "text/plain": [
       "<matplotlib.figure.Figure at 0x11726fcf8>"
      ]
     },
     "metadata": {},
     "output_type": "display_data"
    }
   ],
   "source": [
    "import tensorflow as tf\n",
    "class TFLinearRegressor():\n",
    "    def __init__(self, C=0.1, batchsize=100, epochs=1000):\n",
    "        # setup regularizers\n",
    "        self.C = C\n",
    "        self._W = []\n",
    "        self._b = []\n",
    "        self.batchsize = batchsize\n",
    "        self.epochs = epochs\n",
    "        \n",
    "    def predict(self,X):\n",
    "        return X @ self._W + self._b\n",
    "        \n",
    "    def fit(self,X,y):\n",
    "        \n",
    "        n_observations, n_features = X.shape\n",
    "        y_new = y.reshape((n_observations,1))\n",
    "        \n",
    "        #setup some tensor flow variables in computation graph\n",
    "        Xtf = tf.placeholder(tf.float32, shape=(self.batchsize, n_features))\n",
    "        ytf = tf.placeholder(tf.float32, shape=(self.batchsize, 1))\n",
    "        \n",
    "        # define a namespace of scope, set reuse true so that this object can be remade\n",
    "        with tf.variable_scope('TFLinearRegressor') as scope:\n",
    "            \n",
    "            Ctf = tf.constant(dtype=tf.float32,shape=(1,1),value=self.C)\n",
    "\n",
    "            try:\n",
    "                # define variables in this tensorflow scope\n",
    "                W = tf.get_variable('weights', \n",
    "                                    (n_features,1), \n",
    "                                    initializer=tf.random_normal_initializer())\n",
    "\n",
    "                b = tf.get_variable('bias', \n",
    "                                    (1,1),\n",
    "                                    initializer=tf.random_normal_initializer())\n",
    "\n",
    "            except ValueError:\n",
    "                # we have already called this, just reuse it!\n",
    "                \n",
    "                scope.reuse_variables()\n",
    "                # define variables in this tensorflow scope\n",
    "                W = tf.get_variable('weights', \n",
    "                                    (n_features,1), \n",
    "                                    initializer=tf.random_normal_initializer())\n",
    "\n",
    "                b = tf.get_variable('bias', \n",
    "                                    (1,1),\n",
    "                                    initializer=tf.random_normal_initializer())\n",
    "\n",
    "            # define other operations of these variables\n",
    "            yhat = tf.matmul(Xtf,W) + b\n",
    "            objective = tf.reduce_mean((ytf-yhat)**2) + Ctf*tf.reduce_mean(W**2)\n",
    "\n",
    "        # define some operations to minimize\n",
    "        opt_operation = tf.train.AdamOptimizer().minimize(objective)\n",
    "        \n",
    "        with tf.Session() as sess:\n",
    "            sess.run(tf.initialize_all_variables())\n",
    "            for _ in range(1000):\n",
    "                idx = np.random.choice(n_observations, self.batchsize) \n",
    "                _, obj_val = sess.run([opt_operation,objective],\n",
    "                                 feed_dict={Xtf:X[idx],ytf:y_new[idx]})\n",
    "                \n",
    "            self._W, self._b = sess.run([W,b])\n",
    "        \n",
    "reg = TFLinearRegressor(epochs=2000,C=0.001)\n",
    "reg.fit(ds.data,ds.target)\n",
    "yhat = reg.predict(ds.data)\n",
    "\n",
    "plt.plot(yhat,ds.target,'.')"
   ]
  },
  {
   "cell_type": "markdown",
   "metadata": {},
   "source": [
    "# Integrating with Contributors: Scikit-Flow, TFLearn\n",
    "TensorFlow has some programming quirks...\n",
    "As you can see there is a lot of syntax around using TensorFlow correctly that we would ideally like to abstract away from the programmer while learning the tool. Clearly, there is a tradeoff here between having more control over the learning algorithm and learning parameters, and having an easy to use developer interface.\n",
    "\n",
    "Enter, `Scikit-Flow` or `SKFlow` or `TF Learn`, which is now a core part of the tensorflow learning package. Lets see a simple example of using it. "
   ]
  },
  {
   "cell_type": "code",
   "execution_count": 13,
   "metadata": {
    "collapsed": false
   },
   "outputs": [
    {
     "name": "stderr",
     "output_type": "stream",
     "text": [
      "WARNING:tensorflow:Change warning: default value of `enable_centered_bias` will change after 2016-10-09. It will be disabled by default.Instructions for keeping existing behaviour:\n",
      "Explicitly set `enable_centered_bias` to 'True' if you want to keep existing behaviour.\n",
      "WARNING:tensorflow:Using temporary folder as model directory: /var/folders/t4/hzf28kx94nv2vp_fvfsfvkdw0000gn/T/tmp7gpom13m\n",
      "WARNING:tensorflow:Using default config.\n"
     ]
    },
    {
     "data": {
      "text/plain": [
       "[<matplotlib.lines.Line2D at 0x11b2cf320>]"
      ]
     },
     "execution_count": 13,
     "metadata": {},
     "output_type": "execute_result"
    },
    {
     "data": {
      "image/png": "[encoded data removed]",
      "text/plain": [
       "<matplotlib.figure.Figure at 0x11757d4e0>"
      ]
     },
     "metadata": {},
     "output_type": "display_data"
    }
   ],
   "source": [
    "from tensorflow.contrib import learn\n",
    "\n",
    "X = ds.data.astype(np.float32)\n",
    "y = ds.target.astype(np.float32)\n",
    "\n",
    "# Build model (just  a simple linear regressor)\n",
    "feature_columns = learn.infer_real_valued_columns_from_input(X)\n",
    "reg = learn.LinearRegressor(\n",
    "    feature_columns=feature_columns)\n",
    "\n",
    "# Fit\n",
    "reg.fit(X, y, steps=5000, batch_size=50)\n",
    "\n",
    "# Predict (unfortunate, but this is the syntax)\n",
    "#   the iterable output can be a real advantage for larger data\n",
    "#   essentially delaying memory transfer and computation to later\n",
    "#   but here it is just wrapper to get it in a similar output \n",
    "#   format to sklearn (however, it is NOT a numpy array, just a list)\n",
    "yhat = list(reg.predict(X, as_iterable=True))\n",
    "\n",
    "plt.plot(yhat,y,'.')"
   ]
  },
  {
   "cell_type": "markdown",
   "metadata": {},
   "source": [
    "### Custom models\n",
    "However, we really do not lose too much of the expressive nature of TensorFlow because we can create **custom** models for it. For eaxmple, if we wanted to create our own tensorflow model, \n",
    "and then use SKFlow to optimize it, we could!"
   ]
  },
  {
   "cell_type": "code",
   "execution_count": 14,
   "metadata": {
    "collapsed": false
   },
   "outputs": [
    {
     "name": "stderr",
     "output_type": "stream",
     "text": [
      "WARNING:tensorflow:Using temporary folder as model directory: /var/folders/t4/hzf28kx94nv2vp_fvfsfvkdw0000gn/T/tmp4d5ubv4j\n",
      "WARNING:tensorflow:Using default config.\n",
      "WARNING:tensorflow:sum_of_squares (from tensorflow.contrib.losses.python.losses.loss_ops) is deprecated and will be removed after 2016-10-01.\n",
      "Instructions for updating:\n",
      "Use mean_squared_error.\n",
      "WARNING:tensorflow:sum_of_squares (from tensorflow.contrib.losses.python.losses.loss_ops) is deprecated and will be removed after 2016-10-01.\n",
      "Instructions for updating:\n",
      "Use mean_squared_error.\n"
     ]
    },
    {
     "data": {
      "text/plain": [
       "[<matplotlib.lines.Line2D at 0x11b760e80>]"
      ]
     },
     "execution_count": 14,
     "metadata": {},
     "output_type": "execute_result"
    },
    {
     "data": {
      "image/png": "[encoded data removed]",
      "text/plain": [
       "<matplotlib.figure.Figure at 0x10c024dd8>"
      ]
     },
     "metadata": {},
     "output_type": "display_data"
    }
   ],
   "source": [
    "\n",
    "import tensorflow as tf \n",
    "from tensorflow.contrib import learn\n",
    "\n",
    "def my_model(Xin,yin):\n",
    "    #  * `(features, targets) -> (predictions, loss, train_op)`\n",
    "    prediction, loss = learn.models.linear_regression(Xin,yin)\n",
    "    \n",
    "    train_op = tf.contrib.layers.optimize_loss(\n",
    "            loss, tf.contrib.framework.get_global_step(),\n",
    "            optimizer='Adam', learning_rate=0.01)\n",
    "    \n",
    "    return prediction, loss, train_op\n",
    "\n",
    "reg = learn.Estimator(model_fn=my_model)\n",
    "\n",
    "# Fit\n",
    "reg.fit(X, y, steps=5000, batch_size=50)\n",
    "\n",
    "# Predict\n",
    "yhat = list(reg.predict(X, as_iterable=True))\n",
    "\n",
    "plt.plot(yhat,y,'.')"
   ]
  },
  {
   "cell_type": "code",
   "execution_count": 15,
   "metadata": {
    "collapsed": false
   },
   "outputs": [
    {
     "name": "stderr",
     "output_type": "stream",
     "text": [
      "WARNING:tensorflow:Using temporary folder as model directory: /var/folders/t4/hzf28kx94nv2vp_fvfsfvkdw0000gn/T/tmpnodansoq\n",
      "WARNING:tensorflow:Using default config.\n",
      "WARNING:tensorflow:sum_of_squares (from tensorflow.contrib.losses.python.losses.loss_ops) is deprecated and will be removed after 2016-10-01.\n",
      "Instructions for updating:\n",
      "Use mean_squared_error.\n",
      "WARNING:tensorflow:sum_of_squares (from tensorflow.contrib.losses.python.losses.loss_ops) is deprecated and will be removed after 2016-10-01.\n",
      "Instructions for updating:\n",
      "Use mean_squared_error.\n"
     ]
    },
    {
     "data": {
      "text/plain": [
       "[<matplotlib.lines.Line2D at 0x11be412e8>]"
      ]
     },
     "execution_count": 15,
     "metadata": {},
     "output_type": "execute_result"
    },
    {
     "data": {
      "image/png": "[encoded data removed]",
      "text/plain": [
       "<matplotlib.figure.Figure at 0x11b6eeda0>"
      ]
     },
     "metadata": {},
     "output_type": "display_data"
    }
   ],
   "source": [
    "import tensorflow as tf \n",
    "from tensorflow.contrib import learn\n",
    "from tensorflow.contrib import layers\n",
    "\n",
    "X = ds.data.astype(np.float32)\n",
    "y = ds.target.astype(np.float32)\n",
    "\n",
    "def my_model(Xin,yin):\n",
    "    #  * `(features, targets) -> (predictions, loss, train_op)`\n",
    "    \n",
    "    # we can use functions from SKFlow to add layers and complexity to the model\n",
    "    features = layers.stack(Xin, layers.fully_connected, [7, 15, 10])\n",
    "\n",
    "    # now define the output as a linear regression from hidden neurons\n",
    "    prediction, loss = learn.models.linear_regression(features,yin) \n",
    "    \n",
    "    train_op = layers.optimize_loss(\n",
    "            loss, tf.contrib.framework.get_global_step(),\n",
    "            optimizer='Adam', learning_rate=0.01)\n",
    "\n",
    "    return prediction, loss, train_op\n",
    "\n",
    "reg = learn.Estimator(model_fn=my_model)\n",
    "\n",
    "# Fit\n",
    "reg.fit(X, y, steps=5000, batch_size=128)\n",
    "\n",
    "# Predict\n",
    "yhat = list(reg.predict(X, as_iterable=True))\n",
    "\n",
    "plt.plot(yhat,y,'.')"
   ]
  },
  {
   "cell_type": "code",
   "execution_count": 46,
   "metadata": {
    "collapsed": false
   },
   "outputs": [
    {
     "name": "stderr",
     "output_type": "stream",
     "text": [
      "WARNING:tensorflow:Given features: Tensor(\"input:0\", shape=(?, 10), dtype=float32), required signatures: TensorSignature(dtype=tf.float32, shape=TensorShape([Dimension(None), Dimension(10)]), is_sparse=False).\n",
      "WARNING:tensorflow:Given targets: Tensor(\"output:0\", shape=(?,), dtype=float32), required signatures: TensorSignature(dtype=tf.float32, shape=TensorShape([Dimension(None)]), is_sparse=False).\n",
      "WARNING:tensorflow:sum_of_squares (from tensorflow.contrib.losses.python.losses.loss_ops) is deprecated and will be removed after 2016-10-01.\n",
      "Instructions for updating:\n",
      "Use mean_squared_error.\n",
      "WARNING:tensorflow:sum_of_squares (from tensorflow.contrib.losses.python.losses.loss_ops) is deprecated and will be removed after 2016-10-01.\n",
      "Instructions for updating:\n",
      "Use mean_squared_error.\n",
      "WARNING:tensorflow:Given features: Tensor(\"input:0\", shape=(?, 10), dtype=float32), required signatures: TensorSignature(dtype=tf.float32, shape=TensorShape([Dimension(None), Dimension(10)]), is_sparse=False).\n",
      "WARNING:tensorflow:Given targets: Tensor(\"output:0\", shape=(?,), dtype=float32), required signatures: TensorSignature(dtype=tf.float32, shape=TensorShape([Dimension(None)]), is_sparse=False).\n",
      "WARNING:tensorflow:sum_of_squares (from tensorflow.contrib.losses.python.losses.loss_ops) is deprecated and will be removed after 2016-10-01.\n",
      "Instructions for updating:\n",
      "Use mean_squared_error.\n",
      "WARNING:tensorflow:sum_of_squares (from tensorflow.contrib.losses.python.losses.loss_ops) is deprecated and will be removed after 2016-10-01.\n",
      "Instructions for updating:\n",
      "Use mean_squared_error.\n",
      "WARNING:tensorflow:Given features: Tensor(\"input:0\", shape=(?, 10), dtype=float32), required signatures: TensorSignature(dtype=tf.float32, shape=TensorShape([Dimension(None), Dimension(10)]), is_sparse=False).\n",
      "WARNING:tensorflow:Given targets: Tensor(\"output:0\", shape=(?,), dtype=float32), required signatures: TensorSignature(dtype=tf.float32, shape=TensorShape([Dimension(None)]), is_sparse=False).\n",
      "WARNING:tensorflow:sum_of_squares (from tensorflow.contrib.losses.python.losses.loss_ops) is deprecated and will be removed after 2016-10-01.\n",
      "Instructions for updating:\n",
      "Use mean_squared_error.\n",
      "WARNING:tensorflow:sum_of_squares (from tensorflow.contrib.losses.python.losses.loss_ops) is deprecated and will be removed after 2016-10-01.\n",
      "Instructions for updating:\n",
      "Use mean_squared_error.\n",
      "WARNING:tensorflow:Given features: Tensor(\"input:0\", shape=(?, 10), dtype=float32), required signatures: TensorSignature(dtype=tf.float32, shape=TensorShape([Dimension(None), Dimension(10)]), is_sparse=False).\n",
      "WARNING:tensorflow:Given targets: Tensor(\"output:0\", shape=(?,), dtype=float32), required signatures: TensorSignature(dtype=tf.float32, shape=TensorShape([Dimension(None)]), is_sparse=False).\n",
      "WARNING:tensorflow:sum_of_squares (from tensorflow.contrib.losses.python.losses.loss_ops) is deprecated and will be removed after 2016-10-01.\n",
      "Instructions for updating:\n",
      "Use mean_squared_error.\n",
      "WARNING:tensorflow:sum_of_squares (from tensorflow.contrib.losses.python.losses.loss_ops) is deprecated and will be removed after 2016-10-01.\n",
      "Instructions for updating:\n",
      "Use mean_squared_error.\n",
      "WARNING:tensorflow:Given features: Tensor(\"input:0\", shape=(?, 10), dtype=float32), required signatures: TensorSignature(dtype=tf.float32, shape=TensorShape([Dimension(None), Dimension(10)]), is_sparse=False).\n",
      "WARNING:tensorflow:Given targets: Tensor(\"output:0\", shape=(?,), dtype=float32), required signatures: TensorSignature(dtype=tf.float32, shape=TensorShape([Dimension(None)]), is_sparse=False).\n",
      "WARNING:tensorflow:sum_of_squares (from tensorflow.contrib.losses.python.losses.loss_ops) is deprecated and will be removed after 2016-10-01.\n",
      "Instructions for updating:\n",
      "Use mean_squared_error.\n",
      "WARNING:tensorflow:sum_of_squares (from tensorflow.contrib.losses.python.losses.loss_ops) is deprecated and will be removed after 2016-10-01.\n",
      "Instructions for updating:\n",
      "Use mean_squared_error.\n"
     ]
    }
   ],
   "source": [
    "from sklearn.model_selection import KFold\n",
    "\n",
    "cv = KFold(n_splits=5)\n",
    "\n",
    "yhat = np.zeros(y.shape)\n",
    "for train,test in cv.split(X,y):\n",
    "    reg.fit(X[train],y[train],steps=5000, batch_size=128)\n",
    "    yhat[test] = np.array(list(reg.predict(X[test], as_iterable=True))).reshape((-1,1))"
   ]
  },
  {
   "cell_type": "code",
   "execution_count": 47,
   "metadata": {
    "collapsed": false
   },
   "outputs": [
    {
     "data": {
      "text/plain": [
       "[<matplotlib.lines.Line2D at 0x1189e9780>]"
      ]
     },
     "execution_count": 47,
     "metadata": {},
     "output_type": "execute_result"
    },
    {
     "data": {
      "image/png": "[encoded data removed]",
      "text/plain": [
       "<matplotlib.figure.Figure at 0x11c998da0>"
      ]
     },
     "metadata": {},
     "output_type": "display_data"
    }
   ],
   "source": [
    "plt.plot(yhat,y,'.')"
   ]
  },
  {
   "cell_type": "markdown",
   "metadata": {},
   "source": [
    "# Skip this, not working yet...\n",
    "# Alternatives to TensorFlow\n",
    "There are many libraries out there, but one that is pretty eye catching and easy to use is the MXNet integration with GraphLab. Still very expressive code, but it works out of the box with simple syntax. \n",
    "\n",
    "You will probably need to change targets to Python 2.7 if running this code here. \n",
    "\n",
    "**This code is not working...** Looks like MXNet is not a great workaround for graphlab... yet."
   ]
  },
  {
   "cell_type": "code",
   "execution_count": 1,
   "metadata": {
    "collapsed": false
   },
   "outputs": [
    {
     "name": "stdout",
     "output_type": "stream",
     "text": [
      "(442, 10)\n",
      "(442, 1) float64 [ 25.] [ 346.]\n"
     ]
    }
   ],
   "source": [
    "from __future__ import print_function\n",
    "from sklearn.datasets import load_diabetes\n",
    "import numpy as np\n",
    "\n",
    "from matplotlib import pyplot as plt\n",
    "%matplotlib inline\n",
    "\n",
    "ds = load_diabetes()\n",
    "ds.target = ds.target.reshape((-1,1)) # make this explicit\n",
    "\n",
    "print(ds.data.shape)\n",
    "print(ds.target.shape, ds.target.dtype, min(ds.target), max(ds.target))\n",
    "\n",
    "ds.data /= np.max(ds.data)\n",
    "\n",
    "n_observations, n_features = ds.data.shape"
   ]
  },
  {
   "cell_type": "code",
   "execution_count": 8,
   "metadata": {
    "collapsed": false
   },
   "outputs": [],
   "source": [
    "import graphlab as gl\n",
    "\n",
    "sf = gl.SFrame(ds.data)\n",
    "sf['target'] = ds.target"
   ]
  },
  {
   "cell_type": "code",
   "execution_count": 9,
   "metadata": {
    "collapsed": false
   },
   "outputs": [
    {
     "data": {
      "text/html": [
       "<div style=\"max-height:1000px;max-width:1500px;overflow:auto;\"><table frame=\"box\" rules=\"cols\">\n",
       "    <tr>\n",
       "        <th style=\"padding-left: 1em; padding-right: 1em; text-align: center\">target</th>\n",
       "        <th style=\"padding-left: 1em; padding-right: 1em; text-align: center\">X1.0</th>\n",
       "        <th style=\"padding-left: 1em; padding-right: 1em; text-align: center\">X1.1</th>\n",
       "        <th style=\"padding-left: 1em; padding-right: 1em; text-align: center\">X1.2</th>\n",
       "        <th style=\"padding-left: 1em; padding-right: 1em; text-align: center\">X1.3</th>\n",
       "        <th style=\"padding-left: 1em; padding-right: 1em; text-align: center\">X1.4</th>\n",
       "    </tr>\n",
       "    <tr>\n",
       "        <td style=\"padding-left: 1em; padding-right: 1em; text-align: center; vertical-align: top\">[151.0]</td>\n",
       "        <td style=\"padding-left: 1em; padding-right: 1em; text-align: center; vertical-align: top\">0.191540276146</td>\n",
       "        <td style=\"padding-left: 1em; padding-right: 1em; text-align: center; vertical-align: top\">0.25494557708</td>\n",
       "        <td style=\"padding-left: 1em; padding-right: 1em; text-align: center; vertical-align: top\">0.310361841402</td>\n",
       "        <td style=\"padding-left: 1em; padding-right: 1em; text-align: center; vertical-align: top\">0.1100285537</td>\n",
       "        <td style=\"padding-left: 1em; padding-right: 1em; text-align: center; vertical-align: top\">-0.222465645438</td>\n",
       "    </tr>\n",
       "    <tr>\n",
       "        <td style=\"padding-left: 1em; padding-right: 1em; text-align: center; vertical-align: top\">[75.0]</td>\n",
       "        <td style=\"padding-left: 1em; padding-right: 1em; text-align: center; vertical-align: top\">-0.00946745591137</td>\n",
       "        <td style=\"padding-left: 1em; padding-right: 1em; text-align: center; vertical-align: top\">-0.22456908279</td>\n",
       "        <td style=\"padding-left: 1em; padding-right: 1em; text-align: center; vertical-align: top\">-0.258939492912</td>\n",
       "        <td style=\"padding-left: 1em; padding-right: 1em; text-align: center; vertical-align: top\">-0.132441777608</td>\n",
       "        <td style=\"padding-left: 1em; padding-right: 1em; text-align: center; vertical-align: top\">-0.0425011799042</td>\n",
       "    </tr>\n",
       "    <tr>\n",
       "        <td style=\"padding-left: 1em; padding-right: 1em; text-align: center; vertical-align: top\">[141.0]</td>\n",
       "        <td style=\"padding-left: 1em; padding-right: 1em; text-align: center; vertical-align: top\">0.429094868577</td>\n",
       "        <td style=\"padding-left: 1em; padding-right: 1em; text-align: center; vertical-align: top\">0.25494557708</td>\n",
       "        <td style=\"padding-left: 1em; padding-right: 1em; text-align: center; vertical-align: top\">0.223611161888</td>\n",
       "        <td style=\"padding-left: 1em; padding-right: 1em; text-align: center; vertical-align: top\">-0.0285259213331</td>\n",
       "        <td style=\"padding-left: 1em; padding-right: 1em; text-align: center; vertical-align: top\">-0.229387355651</td>\n",
       "    </tr>\n",
       "    <tr>\n",
       "        <td style=\"padding-left: 1em; padding-right: 1em; text-align: center; vertical-align: top\">[206.0]</td>\n",
       "        <td style=\"padding-left: 1em; padding-right: 1em; text-align: center; vertical-align: top\">-0.4480297804</td>\n",
       "        <td style=\"padding-left: 1em; padding-right: 1em; text-align: center; vertical-align: top\">-0.22456908279</td>\n",
       "        <td style=\"padding-left: 1em; padding-right: 1em; text-align: center; vertical-align: top\">-0.0583285465344</td>\n",
       "        <td style=\"padding-left: 1em; padding-right: 1em; text-align: center; vertical-align: top\">-0.184399705746</td>\n",
       "        <td style=\"padding-left: 1em; padding-right: 1em; text-align: center; vertical-align: top\">0.0613244732884</td>\n",
       "    </tr>\n",
       "    <tr>\n",
       "        <td style=\"padding-left: 1em; padding-right: 1em; text-align: center; vertical-align: top\">[135.0]</td>\n",
       "        <td style=\"padding-left: 1em; padding-right: 1em; text-align: center; vertical-align: top\">0.0270794044627</td>\n",
       "        <td style=\"padding-left: 1em; padding-right: 1em; text-align: center; vertical-align: top\">-0.22456908279</td>\n",
       "        <td style=\"padding-left: 1em; padding-right: 1em; text-align: center; vertical-align: top\">-0.183032648337</td>\n",
       "        <td style=\"padding-left: 1em; padding-right: 1em; text-align: center; vertical-align: top\">0.1100285537</td>\n",
       "        <td style=\"padding-left: 1em; padding-right: 1em; text-align: center; vertical-align: top\">0.0197942120114</td>\n",
       "    </tr>\n",
       "    <tr>\n",
       "        <td style=\"padding-left: 1em; padding-right: 1em; text-align: center; vertical-align: top\">[97.0]</td>\n",
       "        <td style=\"padding-left: 1em; padding-right: 1em; text-align: center; vertical-align: top\">-0.466303210587</td>\n",
       "        <td style=\"padding-left: 1em; padding-right: 1em; text-align: center; vertical-align: top\">-0.22456908279</td>\n",
       "        <td style=\"padding-left: 1em; padding-right: 1em; text-align: center; vertical-align: top\">-0.204720318215</td>\n",
       "        <td style=\"padding-left: 1em; padding-right: 1em; text-align: center; vertical-align: top\">-0.0978031588498</td>\n",
       "        <td style=\"padding-left: 1em; padding-right: 1em; text-align: center; vertical-align: top\">-0.347056429269</td>\n",
       "    </tr>\n",
       "    <tr>\n",
       "        <td style=\"padding-left: 1em; padding-right: 1em; text-align: center; vertical-align: top\">[138.0]</td>\n",
       "        <td style=\"padding-left: 1em; padding-right: 1em; text-align: center; vertical-align: top\">-0.228748618156</td>\n",
       "        <td style=\"padding-left: 1em; padding-right: 1em; text-align: center; vertical-align: top\">0.25494557708</td>\n",
       "        <td style=\"padding-left: 1em; padding-right: 1em; text-align: center; vertical-align: top\">-0.237251823033</td>\n",
       "        <td style=\"padding-left: 1em; padding-right: 1em; text-align: center; vertical-align: top\">-0.0804838494706</td>\n",
       "        <td style=\"padding-left: 1em; padding-right: 1em; text-align: center; vertical-align: top\">-0.2017005148</td>\n",
       "    </tr>\n",
       "    <tr>\n",
       "        <td style=\"padding-left: 1em; padding-right: 1em; text-align: center; vertical-align: top\">[63.0]</td>\n",
       "        <td style=\"padding-left: 1em; padding-right: 1em; text-align: center; vertical-align: top\">0.319454287455</td>\n",
       "        <td style=\"padding-left: 1em; padding-right: 1em; text-align: center; vertical-align: top\">0.25494557708</td>\n",
       "        <td style=\"padding-left: 1em; padding-right: 1em; text-align: center; vertical-align: top\">-0.00953128930752</td>\n",
       "        <td style=\"padding-left: 1em; padding-right: 1em; text-align: center; vertical-align: top\">0.335179575629</td>\n",
       "        <td style=\"padding-left: 1em; padding-right: 1em; text-align: center; vertical-align: top\">0.45586195542</td>\n",
       "    </tr>\n",
       "    <tr>\n",
       "        <td style=\"padding-left: 1em; padding-right: 1em; text-align: center; vertical-align: top\">[110.0]</td>\n",
       "        <td style=\"padding-left: 1em; padding-right: 1em; text-align: center; vertical-align: top\">0.209813706333</td>\n",
       "        <td style=\"padding-left: 1em; padding-right: 1em; text-align: center; vertical-align: top\">0.25494557708</td>\n",
       "        <td style=\"padding-left: 1em; padding-right: 1em; text-align: center; vertical-align: top\">0.310361841402</td>\n",
       "        <td style=\"padding-left: 1em; padding-right: 1em; text-align: center; vertical-align: top\">-0.201719015125</td>\n",
       "        <td style=\"padding-left: 1em; padding-right: 1em; text-align: center; vertical-align: top\">-0.0701880207556</td>\n",
       "    </tr>\n",
       "    <tr>\n",
       "        <td style=\"padding-left: 1em; padding-right: 1em; text-align: center; vertical-align: top\">[310.0]</td>\n",
       "        <td style=\"padding-left: 1em; padding-right: 1em; text-align: center; vertical-align: top\">-0.356662629465</td>\n",
       "        <td style=\"padding-left: 1em; padding-right: 1em; text-align: center; vertical-align: top\">-0.22456908279</td>\n",
       "        <td style=\"padding-left: 1em; padding-right: 1em; text-align: center; vertical-align: top\">0.196501574539</td>\n",
       "        <td style=\"padding-left: 1em; padding-right: 1em; text-align: center; vertical-align: top\">-0.167080396366</td>\n",
       "        <td style=\"padding-left: 1em; padding-right: 1em; text-align: center; vertical-align: top\">-0.0632663105427</td>\n",
       "    </tr>\n",
       "</table>\n",
       "<table frame=\"box\" rules=\"cols\">\n",
       "    <tr>\n",
       "        <th style=\"padding-left: 1em; padding-right: 1em; text-align: center\">X1.5</th>\n",
       "        <th style=\"padding-left: 1em; padding-right: 1em; text-align: center\">X1.6</th>\n",
       "        <th style=\"padding-left: 1em; padding-right: 1em; text-align: center\">X1.7</th>\n",
       "        <th style=\"padding-left: 1em; padding-right: 1em; text-align: center\">X1.8</th>\n",
       "        <th style=\"padding-left: 1em; padding-right: 1em; text-align: center\">X1.9</th>\n",
       "    </tr>\n",
       "    <tr>\n",
       "        <td style=\"padding-left: 1em; padding-right: 1em; text-align: center; vertical-align: top\">-0.175165325117</td>\n",
       "        <td style=\"padding-left: 1em; padding-right: 1em; text-align: center; vertical-align: top\">-0.218327303007</td>\n",
       "        <td style=\"padding-left: 1em; padding-right: 1em; text-align: center; vertical-align: top\">-0.013040335096</td>\n",
       "        <td style=\"padding-left: 1em; padding-right: 1em; text-align: center; vertical-align: top\">0.100149012577</td>\n",
       "        <td style=\"padding-left: 1em; padding-right: 1em; text-align: center; vertical-align: top\">-0.0887685679111</td>\n",
       "    </tr>\n",
       "    <tr>\n",
       "        <td style=\"padding-left: 1em; padding-right: 1em; text-align: center; vertical-align: top\">-0.0964008931388</td>\n",
       "        <td style=\"padding-left: 1em; padding-right: 1em; text-align: center; vertical-align: top\">0.374326256868</td>\n",
       "        <td style=\"padding-left: 1em; padding-right: 1em; text-align: center; vertical-align: top\">-0.198670870117</td>\n",
       "        <td style=\"padding-left: 1em; padding-right: 1em; text-align: center; vertical-align: top\">-0.343731750305</td>\n",
       "        <td style=\"padding-left: 1em; padding-right: 1em; text-align: center; vertical-align: top\">-0.463831088517</td>\n",
       "    </tr>\n",
       "    <tr>\n",
       "        <td style=\"padding-left: 1em; padding-right: 1em; text-align: center; vertical-align: top\">-0.172014747838</td>\n",
       "        <td style=\"padding-left: 1em; padding-right: 1em; text-align: center; vertical-align: top\">-0.162766031769</td>\n",
       "        <td style=\"padding-left: 1em; padding-right: 1em; text-align: center; vertical-align: top\">-0.013040335096</td>\n",
       "        <td style=\"padding-left: 1em; padding-right: 1em; text-align: center; vertical-align: top\">0.0144061546368</td>\n",
       "        <td style=\"padding-left: 1em; padding-right: 1em; text-align: center; vertical-align: top\">-0.130442181312</td>\n",
       "    </tr>\n",
       "    <tr>\n",
       "        <td style=\"padding-left: 1em; padding-right: 1em; text-align: center; vertical-align: top\">0.12571480504</td>\n",
       "        <td style=\"padding-left: 1em; padding-right: 1em; text-align: center; vertical-align: top\">-0.181286455515</td>\n",
       "        <td style=\"padding-left: 1em; padding-right: 1em; text-align: center; vertical-align: top\">0.172590199925</td>\n",
       "        <td style=\"padding-left: 1em; padding-right: 1em; text-align: center; vertical-align: top\">0.114151879124</td>\n",
       "        <td style=\"padding-left: 1em; padding-right: 1em; text-align: center; vertical-align: top\">-0.0470949545105</td>\n",
       "    </tr>\n",
       "    <tr>\n",
       "        <td style=\"padding-left: 1em; padding-right: 1em; text-align: center; vertical-align: top\">0.0784561458532</td>\n",
       "        <td style=\"padding-left: 1em; padding-right: 1em; text-align: center; vertical-align: top\">0.0409586294385</td>\n",
       "        <td style=\"padding-left: 1em; padding-right: 1em; text-align: center; vertical-align: top\">-0.013040335096</td>\n",
       "        <td style=\"padding-left: 1em; padding-right: 1em; text-align: center; vertical-align: top\">-0.160932483881</td>\n",
       "        <td style=\"padding-left: 1em; padding-right: 1em; text-align: center; vertical-align: top\">-0.234626214813</td>\n",
       "    </tr>\n",
       "    <tr>\n",
       "        <td style=\"padding-left: 1em; padding-right: 1em; text-align: center; vertical-align: top\">-0.398856311936</td>\n",
       "        <td style=\"padding-left: 1em; padding-right: 1em; text-align: center; vertical-align: top\">0.207642443153</td>\n",
       "        <td style=\"padding-left: 1em; padding-right: 1em; text-align: center; vertical-align: top\">-0.384301405139</td>\n",
       "        <td style=\"padding-left: 1em; padding-right: 1em; text-align: center; vertical-align: top\">-0.207157309951</td>\n",
       "        <td style=\"padding-left: 1em; padding-right: 1em; text-align: center; vertical-align: top\">-0.484667895217</td>\n",
       "    </tr>\n",
       "    <tr>\n",
       "        <td style=\"padding-left: 1em; padding-right: 1em; text-align: center; vertical-align: top\">-0.124756088651</td>\n",
       "        <td style=\"padding-left: 1em; padding-right: 1em; text-align: center; vertical-align: top\">0.00391778194629</td>\n",
       "        <td style=\"padding-left: 1em; padding-right: 1em; text-align: center; vertical-align: top\">-0.198670870117</td>\n",
       "        <td style=\"padding-left: 1em; padding-right: 1em; text-align: center; vertical-align: top\">-0.316482650812</td>\n",
       "        <td style=\"padding-left: 1em; padding-right: 1em; text-align: center; vertical-align: top\">-0.192952601413</td>\n",
       "    </tr>\n",
       "    <tr>\n",
       "        <td style=\"padding-left: 1em; padding-right: 1em; text-align: center; vertical-align: top\">0.547892160444</td>\n",
       "        <td style=\"padding-left: 1em; padding-right: 1em; text-align: center; vertical-align: top\">0.115040324423</td>\n",
       "        <td style=\"padding-left: 1em; padding-right: 1em; text-align: center; vertical-align: top\">0.0890564591658</td>\n",
       "        <td style=\"padding-left: 1em; padding-right: 1em; text-align: center; vertical-align: top\">-0.180175513437</td>\n",
       "        <td style=\"padding-left: 1em; padding-right: 1em; text-align: center; vertical-align: top\">0.0154154655905</td>\n",
       "    </tr>\n",
       "    <tr>\n",
       "        <td style=\"padding-left: 1em; padding-right: 1em; text-align: center; vertical-align: top\">0.0311974866662</td>\n",
       "        <td style=\"padding-left: 1em; padding-right: 1em; text-align: center; vertical-align: top\">-0.144245608022</td>\n",
       "        <td style=\"padding-left: 1em; padding-right: 1em; text-align: center; vertical-align: top\">-0.013040335096</td>\n",
       "        <td style=\"padding-left: 1em; padding-right: 1em; text-align: center; vertical-align: top\">-0.0752383232543</td>\n",
       "        <td style=\"padding-left: 1em; padding-right: 1em; text-align: center; vertical-align: top\">0.0570890789912</td>\n",
       "    </tr>\n",
       "    <tr>\n",
       "        <td style=\"padding-left: 1em; padding-right: 1em; text-align: center; vertical-align: top\">-0.173590036478</td>\n",
       "        <td style=\"padding-left: 1em; padding-right: 1em; text-align: center; vertical-align: top\">-0.125725184276</td>\n",
       "        <td style=\"padding-left: 1em; padding-right: 1em; text-align: center; vertical-align: top\">-0.013040335096</td>\n",
       "        <td style=\"padding-left: 1em; padding-right: 1em; text-align: center; vertical-align: top\">0.340746572401</td>\n",
       "        <td style=\"padding-left: 1em; padding-right: 1em; text-align: center; vertical-align: top\">-0.0679317612108</td>\n",
       "    </tr>\n",
       "</table>\n",
       "[442 rows x 11 columns]<br/>Note: Only the head of the SFrame is printed.<br/>You can use print_rows(num_rows=m, num_columns=n) to print more rows and columns.\n",
       "</div>"
      ],
      "text/plain": [
       "Columns:\n",
       "\ttarget\tarray\n",
       "\tX1.0\tfloat\n",
       "\tX1.1\tfloat\n",
       "\tX1.2\tfloat\n",
       "\tX1.3\tfloat\n",
       "\tX1.4\tfloat\n",
       "\tX1.5\tfloat\n",
       "\tX1.6\tfloat\n",
       "\tX1.7\tfloat\n",
       "\tX1.8\tfloat\n",
       "\tX1.9\tfloat\n",
       "\n",
       "Rows: 442\n",
       "\n",
       "Data:\n",
       "+---------+-------------------+----------------+-------------------+\n",
       "|  target |        X1.0       |      X1.1      |        X1.2       |\n",
       "+---------+-------------------+----------------+-------------------+\n",
       "| [151.0] |   0.191540276146  | 0.25494557708  |   0.310361841402  |\n",
       "|  [75.0] | -0.00946745591137 | -0.22456908279 |  -0.258939492912  |\n",
       "| [141.0] |   0.429094868577  | 0.25494557708  |   0.223611161888  |\n",
       "| [206.0] |   -0.4480297804   | -0.22456908279 |  -0.0583285465344 |\n",
       "| [135.0] |  0.0270794044627  | -0.22456908279 |  -0.183032648337  |\n",
       "|  [97.0] |  -0.466303210587  | -0.22456908279 |  -0.204720318215  |\n",
       "| [138.0] |  -0.228748618156  | 0.25494557708  |  -0.237251823033  |\n",
       "|  [63.0] |   0.319454287455  | 0.25494557708  | -0.00953128930752 |\n",
       "| [110.0] |   0.209813706333  | 0.25494557708  |   0.310361841402  |\n",
       "| [310.0] |  -0.356662629465  | -0.22456908279 |   0.196501574539  |\n",
       "+---------+-------------------+----------------+-------------------+\n",
       "+------------------+------------------+------------------+------------------+\n",
       "|       X1.3       |       X1.4       |       X1.5       |       X1.6       |\n",
       "+------------------+------------------+------------------+------------------+\n",
       "|   0.1100285537   | -0.222465645438  | -0.175165325117  | -0.218327303007  |\n",
       "| -0.132441777608  | -0.0425011799042 | -0.0964008931388 |  0.374326256868  |\n",
       "| -0.0285259213331 | -0.229387355651  | -0.172014747838  | -0.162766031769  |\n",
       "| -0.184399705746  | 0.0613244732884  |  0.12571480504   | -0.181286455515  |\n",
       "|   0.1100285537   | 0.0197942120114  | 0.0784561458532  | 0.0409586294385  |\n",
       "| -0.0978031588498 | -0.347056429269  | -0.398856311936  |  0.207642443153  |\n",
       "| -0.0804838494706 |  -0.2017005148   | -0.124756088651  | 0.00391778194629 |\n",
       "|  0.335179575629  |  0.45586195542   |  0.547892160444  |  0.115040324423  |\n",
       "| -0.201719015125  | -0.0701880207556 | 0.0311974866662  | -0.144245608022  |\n",
       "| -0.167080396366  | -0.0632663105427 | -0.173590036478  | -0.125725184276  |\n",
       "+------------------+------------------+------------------+------------------+\n",
       "+-----------------+------------------+------------------+\n",
       "|       X1.7      |       X1.8       |       X1.9       |\n",
       "+-----------------+------------------+------------------+\n",
       "| -0.013040335096 |  0.100149012577  | -0.0887685679111 |\n",
       "| -0.198670870117 | -0.343731750305  | -0.463831088517  |\n",
       "| -0.013040335096 | 0.0144061546368  | -0.130442181312  |\n",
       "|  0.172590199925 |  0.114151879124  | -0.0470949545105 |\n",
       "| -0.013040335096 | -0.160932483881  | -0.234626214813  |\n",
       "| -0.384301405139 | -0.207157309951  | -0.484667895217  |\n",
       "| -0.198670870117 | -0.316482650812  | -0.192952601413  |\n",
       "| 0.0890564591658 | -0.180175513437  | 0.0154154655905  |\n",
       "| -0.013040335096 | -0.0752383232543 | 0.0570890789912  |\n",
       "| -0.013040335096 |  0.340746572401  | -0.0679317612108 |\n",
       "+-----------------+------------------+------------------+\n",
       "[442 rows x 11 columns]\n",
       "Note: Only the head of the SFrame is printed.\n",
       "You can use print_rows(num_rows=m, num_columns=n) to print more rows and columns."
      ]
     },
     "execution_count": 9,
     "metadata": {},
     "output_type": "execute_result"
    }
   ],
   "source": [
    "sf = sf.unpack('X1')\n",
    "sf"
   ]
  },
  {
   "cell_type": "code",
   "execution_count": null,
   "metadata": {
    "collapsed": false
   },
   "outputs": [
    {
     "name": "stderr",
     "output_type": "stream",
     "text": [
      "[INFO] graphlab.mxnet.base: CUDA support is currently not available on this platform. GPU support is disabled.\n"
     ]
    }
   ],
   "source": [
    "from graphlab import mxnet as mx\n",
    "\n",
    "# Define the network symbol, equivalent to linear regression\n",
    "net = mx.symbol.Variable('data')\n",
    "net = mx.symbol.FullyConnected(data=net, name='fc1', num_hidden=1)\n",
    "net = mx.symbol.LinearRegressionOutput(data=net, name='lr')\n",
    "\n",
    "# Prepare the input iterator from SFrame\n",
    "# `data_name` must match the first layer's name of the network.\n",
    "# `label_name` must match the last layer's name plus \"_label\".\n",
    "\n",
    "# this kills the kernel on my machine, not sure why!!!\n",
    "dataiter = mx.io.SFrameIter(sf, data_field=['X1.0','X1.1','X1.2','X1.3','X1.4'], \n",
    "                            label_field='target', \n",
    "                            data_name='data', \n",
    "                            label_name='lr_label',\n",
    "                            batch_size=1)\n",
    "\n"
   ]
  },
  {
   "cell_type": "code",
   "execution_count": null,
   "metadata": {
    "collapsed": true
   },
   "outputs": [],
   "source": [
    "# Train the network\n",
    "model = mx.model.FeedForward.create(symbol=net, X=dataiter, num_epoch=20,\n",
    "                                  learning_rate=1e-2,\n",
    "                                  eval_metric='rmse')\n",
    "\n",
    "# Make prediction\n",
    "model.predict(dataiter)"
   ]
  }
 ],
 "metadata": {
  "anaconda-cloud": {},
  "kernelspec": {
   "display_name": "Python [MLEnv]",
   "language": "python",
   "name": "Python [MLEnv]"
  },
  "language_info": {
   "codemirror_mode": {
    "name": "ipython",
    "version": 3
   },
   "file_extension": ".py",
   "mimetype": "text/x-python",
   "name": "python",
   "nbconvert_exporter": "python",
   "pygments_lexer": "ipython3",
   "version": "3.5.2"
  }
 },
 "nbformat": 4,
 "nbformat_minor": 0
}
