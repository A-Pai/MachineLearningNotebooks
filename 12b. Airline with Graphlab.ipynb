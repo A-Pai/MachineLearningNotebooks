{
 "cells": [
  {
   "cell_type": "markdown",
   "metadata": {
    "collapsed": true
   },
   "source": [
    "This notebook builds from the previous example using Dask. Please see the 11a notebook before studying this notebook.\n",
    "___\n",
    "___\n",
    "# Analyzing the Dataset with GraphLab\n",
    "For this portion of the notebook, you will need graphlab installed to run it. However, all the python 3.5 support is in beta and I had lots of difficulties installing. Instead, you will likely need to change the environment here to be python 2, with a licensed (or trial) copy of graphlab installed.\n",
    "\n",
    "Graphlab-create is the package you want. It is run by a company called Turi (formerly Dato, formerly Graphlab). They also just got bought by Apple... so I have no idea about the future. \n",
    "\n",
    "You can start here: \n",
    "- https://turi.com/download/install-graphlab-create-command-line.html\n",
    "- this also helped: https://github.com/chrippa/backports.shutil_get_terminal_size/issues/9\n"
   ]
  },
  {
   "cell_type": "code",
   "execution_count": 1,
   "metadata": {
    "collapsed": false
   },
   "outputs": [],
   "source": [
    "from __future__ import print_function\n",
    "import graphlab as gl\n",
    "import sys"
   ]
  },
  {
   "cell_type": "code",
   "execution_count": 2,
   "metadata": {
    "collapsed": false
   },
   "outputs": [
    {
     "name": "stdout",
     "output_type": "stream",
     "text": [
      "This non-commercial license of GraphLab Create for academic use is assigned to eclarson@smu.edu and will expire on October 27, 2017.\n"
     ]
    },
    {
     "name": "stderr",
     "output_type": "stream",
     "text": [
      "[INFO] graphlab.cython.cy_server: GraphLab Create v2.1 started. Logging: /tmp/graphlab_server_1477661060.log\n"
     ]
    },
    {
     "name": "stdout",
     "output_type": "stream",
     "text": [
      "read 0 lines, reading next file 1987.csv\n"
     ]
    },
    {
     "data": {
      "text/html": [
       "<pre>Read 540959 lines. Lines per second: 236790</pre>"
      ],
      "text/plain": [
       "Read 540959 lines. Lines per second: 236790"
      ]
     },
     "metadata": {},
     "output_type": "display_data"
    },
    {
     "data": {
      "text/html": [
       "<pre>Finished parsing file /Users/eclarson/Dropbox/_Teaching/MachineLearningClass/MachineLearningNotebooks/large_data/1987.csv</pre>"
      ],
      "text/plain": [
       "Finished parsing file /Users/eclarson/Dropbox/_Teaching/MachineLearningClass/MachineLearningNotebooks/large_data/1987.csv"
      ]
     },
     "metadata": {},
     "output_type": "display_data"
    },
    {
     "data": {
      "text/html": [
       "<pre>Parsing completed. Parsed 1311826 lines in 3.34229 secs.</pre>"
      ],
      "text/plain": [
       "Parsing completed. Parsed 1311826 lines in 3.34229 secs."
      ]
     },
     "metadata": {},
     "output_type": "display_data"
    },
    {
     "name": "stdout",
     "output_type": "stream",
     "text": [
      "read 1311826 lines, reading next file 1988.csv\n"
     ]
    },
    {
     "data": {
      "text/html": [
       "<pre>Read 1092265 lines. Lines per second: 314872</pre>"
      ],
      "text/plain": [
       "Read 1092265 lines. Lines per second: 314872"
      ]
     },
     "metadata": {},
     "output_type": "display_data"
    },
    {
     "data": {
      "text/html": [
       "<pre>Read 3821852 lines. Lines per second: 412520</pre>"
      ],
      "text/plain": [
       "Read 3821852 lines. Lines per second: 412520"
      ]
     },
     "metadata": {},
     "output_type": "display_data"
    },
    {
     "data": {
      "text/html": [
       "<pre>Finished parsing file /Users/eclarson/Dropbox/_Teaching/MachineLearningClass/MachineLearningNotebooks/large_data/1988.csv</pre>"
      ],
      "text/plain": [
       "Finished parsing file /Users/eclarson/Dropbox/_Teaching/MachineLearningClass/MachineLearningNotebooks/large_data/1988.csv"
      ]
     },
     "metadata": {},
     "output_type": "display_data"
    },
    {
     "data": {
      "text/html": [
       "<pre>Parsing completed. Parsed 5202096 lines in 11.4654 secs.</pre>"
      ],
      "text/plain": [
       "Parsing completed. Parsed 5202096 lines in 11.4654 secs."
      ]
     },
     "metadata": {},
     "output_type": "display_data"
    },
    {
     "name": "stdout",
     "output_type": "stream",
     "text": [
      "read 6513922 lines, reading next file 1989.csv\n"
     ]
    },
    {
     "data": {
      "text/html": [
       "<pre>Read 545019 lines. Lines per second: 222659</pre>"
      ],
      "text/plain": [
       "Read 545019 lines. Lines per second: 222659"
      ]
     },
     "metadata": {},
     "output_type": "display_data"
    },
    {
     "data": {
      "text/html": [
       "<pre>Read 3269128 lines. Lines per second: 405199</pre>"
      ],
      "text/plain": [
       "Read 3269128 lines. Lines per second: 405199"
      ]
     },
     "metadata": {},
     "output_type": "display_data"
    },
    {
     "data": {
      "text/html": [
       "<pre>Finished parsing file /Users/eclarson/Dropbox/_Teaching/MachineLearningClass/MachineLearningNotebooks/large_data/1989.csv</pre>"
      ],
      "text/plain": [
       "Finished parsing file /Users/eclarson/Dropbox/_Teaching/MachineLearningClass/MachineLearningNotebooks/large_data/1989.csv"
      ]
     },
     "metadata": {},
     "output_type": "display_data"
    },
    {
     "data": {
      "text/html": [
       "<pre>Parsing completed. Parsed 5041200 lines in 11.1055 secs.</pre>"
      ],
      "text/plain": [
       "Parsing completed. Parsed 5041200 lines in 11.1055 secs."
      ]
     },
     "metadata": {},
     "output_type": "display_data"
    },
    {
     "name": "stdout",
     "output_type": "stream",
     "text": [
      "read 11555122 lines, reading next file 1990.csv\n"
     ]
    },
    {
     "data": {
      "text/html": [
       "<pre>Read 545116 lines. Lines per second: 224541</pre>"
      ],
      "text/plain": [
       "Read 545116 lines. Lines per second: 224541"
      ]
     },
     "metadata": {},
     "output_type": "display_data"
    },
    {
     "data": {
      "text/html": [
       "<pre>Read 3265792 lines. Lines per second: 406710</pre>"
      ],
      "text/plain": [
       "Read 3265792 lines. Lines per second: 406710"
      ]
     },
     "metadata": {},
     "output_type": "display_data"
    },
    {
     "data": {
      "text/html": [
       "<pre>Finished parsing file /Users/eclarson/Dropbox/_Teaching/MachineLearningClass/MachineLearningNotebooks/large_data/1990.csv</pre>"
      ],
      "text/plain": [
       "Finished parsing file /Users/eclarson/Dropbox/_Teaching/MachineLearningClass/MachineLearningNotebooks/large_data/1990.csv"
      ]
     },
     "metadata": {},
     "output_type": "display_data"
    },
    {
     "data": {
      "text/html": [
       "<pre>Parsing completed. Parsed 5270893 lines in 11.6586 secs.</pre>"
      ],
      "text/plain": [
       "Parsing completed. Parsed 5270893 lines in 11.6586 secs."
      ]
     },
     "metadata": {},
     "output_type": "display_data"
    },
    {
     "name": "stdout",
     "output_type": "stream",
     "text": [
      "read 16826015 lines, reading next file 1991.csv\n"
     ]
    },
    {
     "data": {
      "text/html": [
       "<pre>Read 543797 lines. Lines per second: 222194</pre>"
      ],
      "text/plain": [
       "Read 543797 lines. Lines per second: 222194"
      ]
     },
     "metadata": {},
     "output_type": "display_data"
    },
    {
     "data": {
      "text/html": [
       "<pre>Read 3259409 lines. Lines per second: 395174</pre>"
      ],
      "text/plain": [
       "Read 3259409 lines. Lines per second: 395174"
      ]
     },
     "metadata": {},
     "output_type": "display_data"
    },
    {
     "data": {
      "text/html": [
       "<pre>Finished parsing file /Users/eclarson/Dropbox/_Teaching/MachineLearningClass/MachineLearningNotebooks/large_data/1991.csv</pre>"
      ],
      "text/plain": [
       "Finished parsing file /Users/eclarson/Dropbox/_Teaching/MachineLearningClass/MachineLearningNotebooks/large_data/1991.csv"
      ]
     },
     "metadata": {},
     "output_type": "display_data"
    },
    {
     "data": {
      "text/html": [
       "<pre>Parsing completed. Parsed 5076925 lines in 11.734 secs.</pre>"
      ],
      "text/plain": [
       "Parsing completed. Parsed 5076925 lines in 11.734 secs."
      ]
     },
     "metadata": {},
     "output_type": "display_data"
    },
    {
     "name": "stdout",
     "output_type": "stream",
     "text": [
      "read 21902940 lines, reading next file 1992.csv\n"
     ]
    },
    {
     "data": {
      "text/html": [
       "<pre>Read 544035 lines. Lines per second: 211918</pre>"
      ],
      "text/plain": [
       "Read 544035 lines. Lines per second: 211918"
      ]
     },
     "metadata": {},
     "output_type": "display_data"
    },
    {
     "data": {
      "text/html": [
       "<pre>Read 3263042 lines. Lines per second: 407326</pre>"
      ],
      "text/plain": [
       "Read 3263042 lines. Lines per second: 407326"
      ]
     },
     "metadata": {},
     "output_type": "display_data"
    },
    {
     "data": {
      "text/html": [
       "<pre>Finished parsing file /Users/eclarson/Dropbox/_Teaching/MachineLearningClass/MachineLearningNotebooks/large_data/1992.csv</pre>"
      ],
      "text/plain": [
       "Finished parsing file /Users/eclarson/Dropbox/_Teaching/MachineLearningClass/MachineLearningNotebooks/large_data/1992.csv"
      ]
     },
     "metadata": {},
     "output_type": "display_data"
    },
    {
     "data": {
      "text/html": [
       "<pre>Parsing completed. Parsed 5092157 lines in 11.1508 secs.</pre>"
      ],
      "text/plain": [
       "Parsing completed. Parsed 5092157 lines in 11.1508 secs."
      ]
     },
     "metadata": {},
     "output_type": "display_data"
    },
    {
     "name": "stdout",
     "output_type": "stream",
     "text": [
      "read 26995097 lines, reading next file 1993.csv\n"
     ]
    },
    {
     "data": {
      "text/html": [
       "<pre>Read 543425 lines. Lines per second: 237080</pre>"
      ],
      "text/plain": [
       "Read 543425 lines. Lines per second: 237080"
      ]
     },
     "metadata": {},
     "output_type": "display_data"
    },
    {
     "data": {
      "text/html": [
       "<pre>Read 3259789 lines. Lines per second: 395759</pre>"
      ],
      "text/plain": [
       "Read 3259789 lines. Lines per second: 395759"
      ]
     },
     "metadata": {},
     "output_type": "display_data"
    },
    {
     "data": {
      "text/html": [
       "<pre>Finished parsing file /Users/eclarson/Dropbox/_Teaching/MachineLearningClass/MachineLearningNotebooks/large_data/1993.csv</pre>"
      ],
      "text/plain": [
       "Finished parsing file /Users/eclarson/Dropbox/_Teaching/MachineLearningClass/MachineLearningNotebooks/large_data/1993.csv"
      ]
     },
     "metadata": {},
     "output_type": "display_data"
    },
    {
     "data": {
      "text/html": [
       "<pre>Parsing completed. Parsed 5070501 lines in 11.6442 secs.</pre>"
      ],
      "text/plain": [
       "Parsing completed. Parsed 5070501 lines in 11.6442 secs."
      ]
     },
     "metadata": {},
     "output_type": "display_data"
    },
    {
     "name": "stdout",
     "output_type": "stream",
     "text": [
      "read 32065598 lines, reading next file 1994.csv\n"
     ]
    },
    {
     "data": {
      "text/html": [
       "<pre>Read 543673 lines. Lines per second: 240342</pre>"
      ],
      "text/plain": [
       "Read 543673 lines. Lines per second: 240342"
      ]
     },
     "metadata": {},
     "output_type": "display_data"
    },
    {
     "data": {
      "text/html": [
       "<pre>Read 3258677 lines. Lines per second: 431911</pre>"
      ],
      "text/plain": [
       "Read 3258677 lines. Lines per second: 431911"
      ]
     },
     "metadata": {},
     "output_type": "display_data"
    },
    {
     "data": {
      "text/html": [
       "<pre>Finished parsing file /Users/eclarson/Dropbox/_Teaching/MachineLearningClass/MachineLearningNotebooks/large_data/1994.csv</pre>"
      ],
      "text/plain": [
       "Finished parsing file /Users/eclarson/Dropbox/_Teaching/MachineLearningClass/MachineLearningNotebooks/large_data/1994.csv"
      ]
     },
     "metadata": {},
     "output_type": "display_data"
    },
    {
     "data": {
      "text/html": [
       "<pre>Parsing completed. Parsed 5180048 lines in 10.7946 secs.</pre>"
      ],
      "text/plain": [
       "Parsing completed. Parsed 5180048 lines in 10.7946 secs."
      ]
     },
     "metadata": {},
     "output_type": "display_data"
    },
    {
     "name": "stdout",
     "output_type": "stream",
     "text": [
      "read 37245646 lines, reading next file 1995.csv\n"
     ]
    },
    {
     "data": {
      "text/html": [
       "<pre>Read 527246 lines. Lines per second: 234907</pre>"
      ],
      "text/plain": [
       "Read 527246 lines. Lines per second: 234907"
      ]
     },
     "metadata": {},
     "output_type": "display_data"
    },
    {
     "data": {
      "text/html": [
       "<pre>Read 3163202 lines. Lines per second: 416939</pre>"
      ],
      "text/plain": [
       "Read 3163202 lines. Lines per second: 416939"
      ]
     },
     "metadata": {},
     "output_type": "display_data"
    },
    {
     "data": {
      "text/html": [
       "<pre>Finished parsing file /Users/eclarson/Dropbox/_Teaching/MachineLearningClass/MachineLearningNotebooks/large_data/1995.csv</pre>"
      ],
      "text/plain": [
       "Finished parsing file /Users/eclarson/Dropbox/_Teaching/MachineLearningClass/MachineLearningNotebooks/large_data/1995.csv"
      ]
     },
     "metadata": {},
     "output_type": "display_data"
    },
    {
     "data": {
      "text/html": [
       "<pre>Parsing completed. Parsed 5327435 lines in 11.6072 secs.</pre>"
      ],
      "text/plain": [
       "Parsing completed. Parsed 5327435 lines in 11.6072 secs."
      ]
     },
     "metadata": {},
     "output_type": "display_data"
    },
    {
     "name": "stdout",
     "output_type": "stream",
     "text": [
      "read 42573081 lines, reading next file 1996.csv\n"
     ]
    },
    {
     "data": {
      "text/html": [
       "<pre>Read 530202 lines. Lines per second: 236880</pre>"
      ],
      "text/plain": [
       "Read 530202 lines. Lines per second: 236880"
      ]
     },
     "metadata": {},
     "output_type": "display_data"
    },
    {
     "data": {
      "text/html": [
       "<pre>Read 3162757 lines. Lines per second: 419773</pre>"
      ],
      "text/plain": [
       "Read 3162757 lines. Lines per second: 419773"
      ]
     },
     "metadata": {},
     "output_type": "display_data"
    },
    {
     "data": {
      "text/html": [
       "<pre>Finished parsing file /Users/eclarson/Dropbox/_Teaching/MachineLearningClass/MachineLearningNotebooks/large_data/1996.csv</pre>"
      ],
      "text/plain": [
       "Finished parsing file /Users/eclarson/Dropbox/_Teaching/MachineLearningClass/MachineLearningNotebooks/large_data/1996.csv"
      ]
     },
     "metadata": {},
     "output_type": "display_data"
    },
    {
     "data": {
      "text/html": [
       "<pre>Parsing completed. Parsed 5351983 lines in 11.6274 secs.</pre>"
      ],
      "text/plain": [
       "Parsing completed. Parsed 5351983 lines in 11.6274 secs."
      ]
     },
     "metadata": {},
     "output_type": "display_data"
    },
    {
     "name": "stdout",
     "output_type": "stream",
     "text": [
      "read 47925064 lines, reading next file 1997.csv\n"
     ]
    },
    {
     "data": {
      "text/html": [
       "<pre>Read 529207 lines. Lines per second: 232588</pre>"
      ],
      "text/plain": [
       "Read 529207 lines. Lines per second: 232588"
      ]
     },
     "metadata": {},
     "output_type": "display_data"
    },
    {
     "data": {
      "text/html": [
       "<pre>Read 3159082 lines. Lines per second: 416584</pre>"
      ],
      "text/plain": [
       "Read 3159082 lines. Lines per second: 416584"
      ]
     },
     "metadata": {},
     "output_type": "display_data"
    },
    {
     "data": {
      "text/html": [
       "<pre>Finished parsing file /Users/eclarson/Dropbox/_Teaching/MachineLearningClass/MachineLearningNotebooks/large_data/1997.csv</pre>"
      ],
      "text/plain": [
       "Finished parsing file /Users/eclarson/Dropbox/_Teaching/MachineLearningClass/MachineLearningNotebooks/large_data/1997.csv"
      ]
     },
     "metadata": {},
     "output_type": "display_data"
    },
    {
     "data": {
      "text/html": [
       "<pre>Parsing completed. Parsed 5411843 lines in 11.8567 secs.</pre>"
      ],
      "text/plain": [
       "Parsing completed. Parsed 5411843 lines in 11.8567 secs."
      ]
     },
     "metadata": {},
     "output_type": "display_data"
    },
    {
     "name": "stdout",
     "output_type": "stream",
     "text": [
      "read 53336907 lines, reading next file 1998.csv\n"
     ]
    },
    {
     "data": {
      "text/html": [
       "<pre>Read 528414 lines. Lines per second: 218351</pre>"
      ],
      "text/plain": [
       "Read 528414 lines. Lines per second: 218351"
      ]
     },
     "metadata": {},
     "output_type": "display_data"
    },
    {
     "data": {
      "text/html": [
       "<pre>Read 3155154 lines. Lines per second: 405917</pre>"
      ],
      "text/plain": [
       "Read 3155154 lines. Lines per second: 405917"
      ]
     },
     "metadata": {},
     "output_type": "display_data"
    },
    {
     "data": {
      "text/html": [
       "<pre>Finished parsing file /Users/eclarson/Dropbox/_Teaching/MachineLearningClass/MachineLearningNotebooks/large_data/1998.csv</pre>"
      ],
      "text/plain": [
       "Finished parsing file /Users/eclarson/Dropbox/_Teaching/MachineLearningClass/MachineLearningNotebooks/large_data/1998.csv"
      ]
     },
     "metadata": {},
     "output_type": "display_data"
    },
    {
     "data": {
      "text/html": [
       "<pre>Parsing completed. Parsed 5384721 lines in 11.9174 secs.</pre>"
      ],
      "text/plain": [
       "Parsing completed. Parsed 5384721 lines in 11.9174 secs."
      ]
     },
     "metadata": {},
     "output_type": "display_data"
    },
    {
     "name": "stdout",
     "output_type": "stream",
     "text": [
      "read 58721628 lines, reading next file 1999.csv\n"
     ]
    },
    {
     "data": {
      "text/html": [
       "<pre>Read 524911 lines. Lines per second: 234773</pre>"
      ],
      "text/plain": [
       "Read 524911 lines. Lines per second: 234773"
      ]
     },
     "metadata": {},
     "output_type": "display_data"
    },
    {
     "data": {
      "text/html": [
       "<pre>Read 3153197 lines. Lines per second: 414608</pre>"
      ],
      "text/plain": [
       "Read 3153197 lines. Lines per second: 414608"
      ]
     },
     "metadata": {},
     "output_type": "display_data"
    },
    {
     "data": {
      "text/html": [
       "<pre>Finished parsing file /Users/eclarson/Dropbox/_Teaching/MachineLearningClass/MachineLearningNotebooks/large_data/1999.csv</pre>"
      ],
      "text/plain": [
       "Finished parsing file /Users/eclarson/Dropbox/_Teaching/MachineLearningClass/MachineLearningNotebooks/large_data/1999.csv"
      ]
     },
     "metadata": {},
     "output_type": "display_data"
    },
    {
     "data": {
      "text/html": [
       "<pre>Parsing completed. Parsed 5527884 lines in 12.0302 secs.</pre>"
      ],
      "text/plain": [
       "Parsing completed. Parsed 5527884 lines in 12.0302 secs."
      ]
     },
     "metadata": {},
     "output_type": "display_data"
    },
    {
     "name": "stdout",
     "output_type": "stream",
     "text": [
      "read 64249512 lines, reading next file 2000.csv\n"
     ]
    },
    {
     "data": {
      "text/html": [
       "<pre>Read 524495 lines. Lines per second: 238790</pre>"
      ],
      "text/plain": [
       "Read 524495 lines. Lines per second: 238790"
      ]
     },
     "metadata": {},
     "output_type": "display_data"
    },
    {
     "data": {
      "text/html": [
       "<pre>Read 3143838 lines. Lines per second: 424846</pre>"
      ],
      "text/plain": [
       "Read 3143838 lines. Lines per second: 424846"
      ]
     },
     "metadata": {},
     "output_type": "display_data"
    },
    {
     "data": {
      "text/html": [
       "<pre>Finished parsing file /Users/eclarson/Dropbox/_Teaching/MachineLearningClass/MachineLearningNotebooks/large_data/2000.csv</pre>"
      ],
      "text/plain": [
       "Finished parsing file /Users/eclarson/Dropbox/_Teaching/MachineLearningClass/MachineLearningNotebooks/large_data/2000.csv"
      ]
     },
     "metadata": {},
     "output_type": "display_data"
    },
    {
     "data": {
      "text/html": [
       "<pre>Parsing completed. Parsed 5683047 lines in 12.0959 secs.</pre>"
      ],
      "text/plain": [
       "Parsing completed. Parsed 5683047 lines in 12.0959 secs."
      ]
     },
     "metadata": {},
     "output_type": "display_data"
    },
    {
     "name": "stdout",
     "output_type": "stream",
     "text": [
      "read 69932559 lines, reading next file 2001.csv\n"
     ]
    },
    {
     "data": {
      "text/html": [
       "<pre>Read 515904 lines. Lines per second: 233683</pre>"
      ],
      "text/plain": [
       "Read 515904 lines. Lines per second: 233683"
      ]
     },
     "metadata": {},
     "output_type": "display_data"
    },
    {
     "data": {
      "text/html": [
       "<pre>Read 3096358 lines. Lines per second: 413416</pre>"
      ],
      "text/plain": [
       "Read 3096358 lines. Lines per second: 413416"
      ]
     },
     "metadata": {},
     "output_type": "display_data"
    },
    {
     "data": {
      "text/html": [
       "<pre>Read 5670749 lines. Lines per second: 451551</pre>"
      ],
      "text/plain": [
       "Read 5670749 lines. Lines per second: 451551"
      ]
     },
     "metadata": {},
     "output_type": "display_data"
    },
    {
     "data": {
      "text/html": [
       "<pre>Finished parsing file /Users/eclarson/Dropbox/_Teaching/MachineLearningClass/MachineLearningNotebooks/large_data/2001.csv</pre>"
      ],
      "text/plain": [
       "Finished parsing file /Users/eclarson/Dropbox/_Teaching/MachineLearningClass/MachineLearningNotebooks/large_data/2001.csv"
      ]
     },
     "metadata": {},
     "output_type": "display_data"
    },
    {
     "data": {
      "text/html": [
       "<pre>Parsing completed. Parsed 5967780 lines in 12.9714 secs.</pre>"
      ],
      "text/plain": [
       "Parsing completed. Parsed 5967780 lines in 12.9714 secs."
      ]
     },
     "metadata": {},
     "output_type": "display_data"
    },
    {
     "name": "stdout",
     "output_type": "stream",
     "text": [
      "read 75900339 lines, reading next file 2002.csv\n"
     ]
    },
    {
     "data": {
      "text/html": [
       "<pre>Read 1557776 lines. Lines per second: 358640</pre>"
      ],
      "text/plain": [
       "Read 1557776 lines. Lines per second: 358640"
      ]
     },
     "metadata": {},
     "output_type": "display_data"
    },
    {
     "data": {
      "text/html": [
       "<pre>Read 4168824 lines. Lines per second: 431523</pre>"
      ],
      "text/plain": [
       "Read 4168824 lines. Lines per second: 431523"
      ]
     },
     "metadata": {},
     "output_type": "display_data"
    },
    {
     "data": {
      "text/html": [
       "<pre>Finished parsing file /Users/eclarson/Dropbox/_Teaching/MachineLearningClass/MachineLearningNotebooks/large_data/2002.csv</pre>"
      ],
      "text/plain": [
       "Finished parsing file /Users/eclarson/Dropbox/_Teaching/MachineLearningClass/MachineLearningNotebooks/large_data/2002.csv"
      ]
     },
     "metadata": {},
     "output_type": "display_data"
    },
    {
     "data": {
      "text/html": [
       "<pre>Parsing completed. Parsed 5271359 lines in 11.5685 secs.</pre>"
      ],
      "text/plain": [
       "Parsing completed. Parsed 5271359 lines in 11.5685 secs."
      ]
     },
     "metadata": {},
     "output_type": "display_data"
    },
    {
     "name": "stdout",
     "output_type": "stream",
     "text": [
      "read 81171698 lines, reading next file 2003.csv\n"
     ]
    },
    {
     "data": {
      "text/html": [
       "<pre>Read 522593 lines. Lines per second: 176518</pre>"
      ],
      "text/plain": [
       "Read 522593 lines. Lines per second: 176518"
      ]
     },
     "metadata": {},
     "output_type": "display_data"
    },
    {
     "data": {
      "text/html": [
       "<pre>Read 3169937 lines. Lines per second: 363417</pre>"
      ],
      "text/plain": [
       "Read 3169937 lines. Lines per second: 363417"
      ]
     },
     "metadata": {},
     "output_type": "display_data"
    },
    {
     "data": {
      "text/html": [
       "<pre>Read 5959346 lines. Lines per second: 406522</pre>"
      ],
      "text/plain": [
       "Read 5959346 lines. Lines per second: 406522"
      ]
     },
     "metadata": {},
     "output_type": "display_data"
    },
    {
     "data": {
      "text/html": [
       "<pre>Finished parsing file /Users/eclarson/Dropbox/_Teaching/MachineLearningClass/MachineLearningNotebooks/large_data/2003.csv</pre>"
      ],
      "text/plain": [
       "Finished parsing file /Users/eclarson/Dropbox/_Teaching/MachineLearningClass/MachineLearningNotebooks/large_data/2003.csv"
      ]
     },
     "metadata": {},
     "output_type": "display_data"
    },
    {
     "data": {
      "text/html": [
       "<pre>Parsing completed. Parsed 6488540 lines in 15.6587 secs.</pre>"
      ],
      "text/plain": [
       "Parsing completed. Parsed 6488540 lines in 15.6587 secs."
      ]
     },
     "metadata": {},
     "output_type": "display_data"
    },
    {
     "name": "stdout",
     "output_type": "stream",
     "text": [
      "read 87660238 lines, reading next file 2004.csv\n"
     ]
    },
    {
     "data": {
      "text/html": [
       "<pre>Read 1120067 lines. Lines per second: 315040</pre>"
      ],
      "text/plain": [
       "Read 1120067 lines. Lines per second: 315040"
      ]
     },
     "metadata": {},
     "output_type": "display_data"
    },
    {
     "data": {
      "text/html": [
       "<pre>Read 3357994 lines. Lines per second: 395045</pre>"
      ],
      "text/plain": [
       "Read 3357994 lines. Lines per second: 395045"
      ]
     },
     "metadata": {},
     "output_type": "display_data"
    },
    {
     "data": {
      "text/html": [
       "<pre>Read 5594351 lines. Lines per second: 412421</pre>"
      ],
      "text/plain": [
       "Read 5594351 lines. Lines per second: 412421"
      ]
     },
     "metadata": {},
     "output_type": "display_data"
    },
    {
     "data": {
      "text/html": [
       "<pre>Finished parsing file /Users/eclarson/Dropbox/_Teaching/MachineLearningClass/MachineLearningNotebooks/large_data/2004.csv</pre>"
      ],
      "text/plain": [
       "Finished parsing file /Users/eclarson/Dropbox/_Teaching/MachineLearningClass/MachineLearningNotebooks/large_data/2004.csv"
      ]
     },
     "metadata": {},
     "output_type": "display_data"
    },
    {
     "data": {
      "text/html": [
       "<pre>Parsing completed. Parsed 7129270 lines in 17.0398 secs.</pre>"
      ],
      "text/plain": [
       "Parsing completed. Parsed 7129270 lines in 17.0398 secs."
      ]
     },
     "metadata": {},
     "output_type": "display_data"
    },
    {
     "name": "stdout",
     "output_type": "stream",
     "text": [
      "read 94789508 lines, reading next file 2005.csv\n"
     ]
    },
    {
     "data": {
      "text/html": [
       "<pre>Read 560141 lines. Lines per second: 233046</pre>"
      ],
      "text/plain": [
       "Read 560141 lines. Lines per second: 233046"
      ]
     },
     "metadata": {},
     "output_type": "display_data"
    },
    {
     "data": {
      "text/html": [
       "<pre>Read 3358971 lines. Lines per second: 396296</pre>"
      ],
      "text/plain": [
       "Read 3358971 lines. Lines per second: 396296"
      ]
     },
     "metadata": {},
     "output_type": "display_data"
    },
    {
     "data": {
      "text/html": [
       "<pre>Read 5594330 lines. Lines per second: 416625</pre>"
      ],
      "text/plain": [
       "Read 5594330 lines. Lines per second: 416625"
      ]
     },
     "metadata": {},
     "output_type": "display_data"
    },
    {
     "data": {
      "text/html": [
       "<pre>Finished parsing file /Users/eclarson/Dropbox/_Teaching/MachineLearningClass/MachineLearningNotebooks/large_data/2005.csv</pre>"
      ],
      "text/plain": [
       "Finished parsing file /Users/eclarson/Dropbox/_Teaching/MachineLearningClass/MachineLearningNotebooks/large_data/2005.csv"
      ]
     },
     "metadata": {},
     "output_type": "display_data"
    },
    {
     "data": {
      "text/html": [
       "<pre>Parsing completed. Parsed 7140596 lines in 16.6305 secs.</pre>"
      ],
      "text/plain": [
       "Parsing completed. Parsed 7140596 lines in 16.6305 secs."
      ]
     },
     "metadata": {},
     "output_type": "display_data"
    },
    {
     "name": "stdout",
     "output_type": "stream",
     "text": [
      "read 101930104 lines, reading next file 2006.csv\n"
     ]
    },
    {
     "data": {
      "text/html": [
       "<pre>Read 558959 lines. Lines per second: 232232</pre>"
      ],
      "text/plain": [
       "Read 558959 lines. Lines per second: 232232"
      ]
     },
     "metadata": {},
     "output_type": "display_data"
    },
    {
     "data": {
      "text/html": [
       "<pre>Read 3354704 lines. Lines per second: 391918</pre>"
      ],
      "text/plain": [
       "Read 3354704 lines. Lines per second: 391918"
      ]
     },
     "metadata": {},
     "output_type": "display_data"
    },
    {
     "data": {
      "text/html": [
       "<pre>Read 6138994 lines. Lines per second: 415773</pre>"
      ],
      "text/plain": [
       "Read 6138994 lines. Lines per second: 415773"
      ]
     },
     "metadata": {},
     "output_type": "display_data"
    },
    {
     "data": {
      "text/html": [
       "<pre>Finished parsing file /Users/eclarson/Dropbox/_Teaching/MachineLearningClass/MachineLearningNotebooks/large_data/2006.csv</pre>"
      ],
      "text/plain": [
       "Finished parsing file /Users/eclarson/Dropbox/_Teaching/MachineLearningClass/MachineLearningNotebooks/large_data/2006.csv"
      ]
     },
     "metadata": {},
     "output_type": "display_data"
    },
    {
     "data": {
      "text/html": [
       "<pre>Parsing completed. Parsed 7141922 lines in 16.7507 secs.</pre>"
      ],
      "text/plain": [
       "Parsing completed. Parsed 7141922 lines in 16.7507 secs."
      ]
     },
     "metadata": {},
     "output_type": "display_data"
    },
    {
     "name": "stdout",
     "output_type": "stream",
     "text": [
      "read 109072026 lines, reading next file 2007.csv\n"
     ]
    },
    {
     "data": {
      "text/html": [
       "<pre>Read 559204 lines. Lines per second: 225120</pre>"
      ],
      "text/plain": [
       "Read 559204 lines. Lines per second: 225120"
      ]
     },
     "metadata": {},
     "output_type": "display_data"
    },
    {
     "data": {
      "text/html": [
       "<pre>Read 2790681 lines. Lines per second: 372844</pre>"
      ],
      "text/plain": [
       "Read 2790681 lines. Lines per second: 372844"
      ]
     },
     "metadata": {},
     "output_type": "display_data"
    },
    {
     "data": {
      "text/html": [
       "<pre>Read 5576065 lines. Lines per second: 407593</pre>"
      ],
      "text/plain": [
       "Read 5576065 lines. Lines per second: 407593"
      ]
     },
     "metadata": {},
     "output_type": "display_data"
    },
    {
     "data": {
      "text/html": [
       "<pre>Finished parsing file /Users/eclarson/Dropbox/_Teaching/MachineLearningClass/MachineLearningNotebooks/large_data/2007.csv</pre>"
      ],
      "text/plain": [
       "Finished parsing file /Users/eclarson/Dropbox/_Teaching/MachineLearningClass/MachineLearningNotebooks/large_data/2007.csv"
      ]
     },
     "metadata": {},
     "output_type": "display_data"
    },
    {
     "data": {
      "text/html": [
       "<pre>Parsing completed. Parsed 7453215 lines in 17.6972 secs.</pre>"
      ],
      "text/plain": [
       "Parsing completed. Parsed 7453215 lines in 17.6972 secs."
      ]
     },
     "metadata": {},
     "output_type": "display_data"
    },
    {
     "name": "stdout",
     "output_type": "stream",
     "text": [
      "read 116525241 lines, reading next file 2008.csv\n"
     ]
    },
    {
     "data": {
      "text/html": [
       "<pre>Read 535634 lines. Lines per second: 234832</pre>"
      ],
      "text/plain": [
       "Read 535634 lines. Lines per second: 234832"
      ]
     },
     "metadata": {},
     "output_type": "display_data"
    },
    {
     "data": {
      "text/html": [
       "<pre>Read 3211046 lines. Lines per second: 392966</pre>"
      ],
      "text/plain": [
       "Read 3211046 lines. Lines per second: 392966"
      ]
     },
     "metadata": {},
     "output_type": "display_data"
    },
    {
     "data": {
      "text/html": [
       "<pre>Read 5874437 lines. Lines per second: 413392</pre>"
      ],
      "text/plain": [
       "Read 5874437 lines. Lines per second: 413392"
      ]
     },
     "metadata": {},
     "output_type": "display_data"
    },
    {
     "data": {
      "text/html": [
       "<pre>Finished parsing file /Users/eclarson/Dropbox/_Teaching/MachineLearningClass/MachineLearningNotebooks/large_data/2008.csv</pre>"
      ],
      "text/plain": [
       "Finished parsing file /Users/eclarson/Dropbox/_Teaching/MachineLearningClass/MachineLearningNotebooks/large_data/2008.csv"
      ]
     },
     "metadata": {},
     "output_type": "display_data"
    },
    {
     "data": {
      "text/html": [
       "<pre>Parsing completed. Parsed 7009728 lines in 16.6475 secs.</pre>"
      ],
      "text/plain": [
       "Parsing completed. Parsed 7009728 lines in 16.6475 secs."
      ]
     },
     "metadata": {},
     "output_type": "display_data"
    },
    {
     "name": "stdout",
     "output_type": "stream",
     "text": [
      "Saving...\n",
      "CPU times: user 14min 9s, sys: 30.2 s, total: 14min 39s\n",
      "Wall time: 5min 56s\n"
     ]
    }
   ],
   "source": [
    "%%time\n",
    "# We will need to make sure that the SFrame has consistent datatypes, so we will give the value for each header\n",
    "column_hints=[int,int,int,int,int,int,int,int,str,int,str,int,int,int,int,int,str,str,int,int,int,int,str,int,int,int,int,int,int]\n",
    "\n",
    "# now load the first SFrame\n",
    "sf = gl.SFrame() #.read_csv('Data/1987.csv',column_type_hints=column_hints)\n",
    "\n",
    "# and then append each SFrame in a for loop\n",
    "for year in range(1987,2009):\n",
    "    print('read %d lines, reading next file %d.csv'%(sf.shape[0],year))\n",
    "    sys.stdout.flush()\n",
    "    sftmp = gl.SFrame.read_csv('large_data/%d.csv'%(year),column_type_hints=column_hints)\n",
    "    sf = sf.append(sftmp)\n",
    "\n",
    "print('Saving...')\n",
    "sf.save('large_data/sframe_directory') # save a compressed version of this SFrame\n"
   ]
  },
  {
   "cell_type": "code",
   "execution_count": 3,
   "metadata": {
    "collapsed": false
   },
   "outputs": [],
   "source": [
    "# CONVENIENCE BLOCK FOR THOSE LOADING FROM DISK HERE\n",
    "\n",
    "# If you have already run the notebook above and just want to load up the data\n",
    "# then you can reload the SFrame here\n",
    "import graphlab as gl\n",
    "from __future__ import print_function\n",
    "\n",
    "sf = gl.load_sframe('large_data/sframe_directory')"
   ]
  },
  {
   "cell_type": "code",
   "execution_count": 4,
   "metadata": {
    "collapsed": false
   },
   "outputs": [],
   "source": [
    "# These were the previous lines in Dask or Pandas\n",
    "#hour=df.CRSDepTime.clip(upper=2399)//100, \n",
    "#delayed=(df.DepDelay.fillna(16) > 15).astype('i8')\n",
    "\n",
    "# here are the equivalent lines in Graphlab\n",
    "sf['hour'] = sf['CRSDepTime'].clip(upper=2399)//100\n",
    "sf['delayed'] = sf['DepDelay'].fillna(16)>15\n",
    "del sf['CRSDepTime']\n",
    "del sf['DepDelay']"
   ]
  },
  {
   "cell_type": "code",
   "execution_count": 5,
   "metadata": {
    "collapsed": false
   },
   "outputs": [
    {
     "name": "stdout",
     "output_type": "stream",
     "text": [
      "CPU times: user 1min 1s, sys: 1.46 s, total: 1min 2s\n",
      "Wall time: 22.9 s\n"
     ]
    }
   ],
   "source": [
    "# note that nothing is computed yet, just added to the task graph\n",
    "# if we want to force the computation, we need to use the materialize method\n",
    "%time sf.materialize()"
   ]
  },
  {
   "cell_type": "code",
   "execution_count": 6,
   "metadata": {
    "collapsed": false
   },
   "outputs": [
    {
     "name": "stdout",
     "output_type": "stream",
     "text": [
      "CPU times: user 3min 20s, sys: 1.01 s, total: 3min 21s\n",
      "Wall time: 1min 1s\n"
     ]
    }
   ],
   "source": [
    "%%time \n",
    "# to perform grouping and splitting\n",
    "# we need to specify (1) which column(s) to group the SFrame using, and \n",
    "#                    (2) what function we want to perform on the group\n",
    "# in graphlab, we only have a few options for performing on each of the groups. \n",
    "# Here, lets keep it simple--we will emulate some of the Dask computations \n",
    "#   that we performed earlier, grouping by different variables to see impact,\n",
    "#   on average, for the number of flights delayed by more than 15 minutes\n",
    "\n",
    "# in Dask, we created an array of aggregators and called 'compute' on the \n",
    "#   aggregations. Its similar in Graphlab as well. \n",
    "\n",
    "# For gl aggregations, we create a dictionary with th key specifying the new column name\n",
    "# and the value specifying an aggregator that works on a column. We must use a builtin \n",
    "# aggregator, so its less versatile than Dask, but still gets the job done.\n",
    "# The list of possible aggregators can be found at:\n",
    "#  https://turi.com/products/create/docs/generated/graphlab.aggregate.html#module-graphlab.aggregate\n",
    "\n",
    "agg_dictionary = {'mean_delayed':gl.aggregate.MEAN('delayed')} \n",
    "# thats really the only aggregation operation we want! Take the mean of each group,\n",
    "#    and only take the mean of column 'delayed'\n",
    "cols = ['Year','Month','hour','UniqueCarrier','TailNum']\n",
    "sf_counts = dict()\n",
    "for col in cols:\n",
    "    # create a dictionary of differently grouped SFrames\n",
    "    sf_counts[col] = sf.groupby(key_columns=col,operations=agg_dictionary)\n",
    "    "
   ]
  },
  {
   "cell_type": "code",
   "execution_count": 7,
   "metadata": {
    "collapsed": false,
    "scrolled": false
   },
   "outputs": [
    {
     "data": {
      "image/png": "[encoded data removed]",
      "text/plain": [
       "<matplotlib.figure.Figure at 0x119ed9c90>"
      ]
     },
     "metadata": {},
     "output_type": "display_data"
    },
    {
     "data": {
      "image/png": "[encoded data removed]",
      "text/plain": [
       "<matplotlib.figure.Figure at 0x11e55f6d0>"
      ]
     },
     "metadata": {},
     "output_type": "display_data"
    },
    {
     "data": {
      "image/png": "[encoded data removed]",
      "text/plain": [
       "<matplotlib.figure.Figure at 0x11e55f410>"
      ]
     },
     "metadata": {},
     "output_type": "display_data"
    },
    {
     "data": {
      "image/png": "[encoded data removed]",
      "text/plain": [
       "<matplotlib.figure.Figure at 0x11e55f350>"
      ]
     },
     "metadata": {},
     "output_type": "display_data"
    },
    {
     "data": {
      "image/png": "[encoded data removed]",
      "text/plain": [
       "<matplotlib.figure.Figure at 0x11e55f210>"
      ]
     },
     "metadata": {},
     "output_type": "display_data"
    }
   ],
   "source": [
    "from matplotlib import pyplot as plt\n",
    "import numpy as np\n",
    "import pandas as pd\n",
    "\n",
    "%matplotlib inline\n",
    "plt.style.use('ggplot')\n",
    "\n",
    "# let's grab the top entries for each entry in the dictionary\n",
    "for col in sf_counts:\n",
    "    plt.figure()\n",
    "    sf_top = sf_counts[col].topk('mean_delayed',20) # this is builtin command in graphlab\n",
    "\n",
    "    # convert to pandas for plotting \n",
    "    df_top = sf_top.to_dataframe()\n",
    "    df_top.index = df_top[col]\n",
    "    df_top.sort_values(by=col,inplace=True)\n",
    "    df_top['mean_delayed'].plot(kind='bar')\n"
   ]
  },
  {
   "cell_type": "code",
   "execution_count": 8,
   "metadata": {
    "collapsed": true
   },
   "outputs": [],
   "source": [
    "# Same as Dask above, we could only plot certain values of TailNum,\n",
    "#  where a plane actually flew a substantial amount of flights\n",
    "sf_tail = sf.groupby(key_columns='TailNum',operations={\n",
    "        'mean_delayed':gl.aggregate.MEAN('delayed'),\n",
    "        'num_flights':gl.aggregate.COUNT()\n",
    "    })\n",
    "\n",
    "df_tail = sf_tail[sf_tail['num_flights']>100].to_dataframe()"
   ]
  },
  {
   "cell_type": "code",
   "execution_count": 9,
   "metadata": {
    "collapsed": false
   },
   "outputs": [
    {
     "data": {
      "text/plain": [
       "<matplotlib.axes._subplots.AxesSubplot at 0x11dc7ac10>"
      ]
     },
     "execution_count": 9,
     "metadata": {},
     "output_type": "execute_result"
    },
    {
     "data": {
      "image/png": "[encoded data removed]",
      "text/plain": [
       "<matplotlib.figure.Figure at 0x119e5c650>"
      ]
     },
     "metadata": {},
     "output_type": "display_data"
    }
   ],
   "source": [
    "df_tail.index = df_tail['TailNum']\n",
    "df_tail['mean_delayed'].nlargest(20).plot(kind='bar')"
   ]
  },
  {
   "cell_type": "markdown",
   "metadata": {},
   "source": [
    "# Using Machine Learning with Graphlab\n",
    "Now let's try to create a linear model using graphlab."
   ]
  },
  {
   "cell_type": "code",
   "execution_count": 10,
   "metadata": {
    "collapsed": false
   },
   "outputs": [
    {
     "name": "stdout",
     "output_type": "stream",
     "text": [
      "['Year', 'Month', 'DayofMonth', 'DayOfWeek', 'DepTime', 'ArrTime', 'CRSArrTime', 'UniqueCarrier', 'FlightNum', 'TailNum', 'ActualElapsedTime', 'CRSElapsedTime', 'AirTime', 'ArrDelay', 'Origin', 'Dest', 'Distance', 'TaxiIn', 'TaxiOut', 'Cancelled', 'CancellationCode', 'Diverted', 'CarrierDelay', 'WeatherDelay', 'NASDelay', 'SecurityDelay', 'LateAircraftDelay', 'hour', 'delayed']\n"
     ]
    }
   ],
   "source": [
    "print(sf.column_names())"
   ]
  },
  {
   "cell_type": "code",
   "execution_count": 11,
   "metadata": {
    "collapsed": false
   },
   "outputs": [
    {
     "name": "stdout",
     "output_type": "stream",
     "text": [
      "CPU times: user 1.95 ms, sys: 1.47 ms, total: 3.42 ms\n",
      "Wall time: 3.27 ms\n"
     ]
    }
   ],
   "source": [
    "%%time \n",
    "# Lets only use a subset of features (like we did in Dask also)\n",
    "# Note that we don't need to one-hot-encode values in the SFrame\n",
    "# because Graphlab automatically interprets string data categorically\n",
    "# and deals with the data properly internally!\n",
    "\n",
    "# However, we still need to shuffle and split the data, which takes a bit of effort \n",
    "#  in graphlab\n",
    "N = int(sf.num_rows()*0.8)\n",
    "# X = gl.cross_validation.shuffle(sf) # shuffling is an expensive operation\n",
    "X_train = sf[:N] # grab the first 80% for training\n",
    "X_test  = sf[N:] # and the remaining 20% for testing"
   ]
  },
  {
   "cell_type": "code",
   "execution_count": 14,
   "metadata": {
    "collapsed": false
   },
   "outputs": [
    {
     "data": {
      "text/html": [
       "<pre>Logistic regression:</pre>"
      ],
      "text/plain": [
       "Logistic regression:"
      ]
     },
     "metadata": {},
     "output_type": "display_data"
    },
    {
     "data": {
      "text/html": [
       "<pre>--------------------------------------------------------</pre>"
      ],
      "text/plain": [
       "--------------------------------------------------------"
      ]
     },
     "metadata": {},
     "output_type": "display_data"
    },
    {
     "data": {
      "text/html": [
       "<pre>Number of examples          : 98827975</pre>"
      ],
      "text/plain": [
       "Number of examples          : 98827975"
      ]
     },
     "metadata": {},
     "output_type": "display_data"
    },
    {
     "data": {
      "text/html": [
       "<pre>Number of classes           : 2</pre>"
      ],
      "text/plain": [
       "Number of classes           : 2"
      ]
     },
     "metadata": {},
     "output_type": "display_data"
    },
    {
     "data": {
      "text/html": [
       "<pre>Number of feature columns   : 7</pre>"
      ],
      "text/plain": [
       "Number of feature columns   : 7"
      ]
     },
     "metadata": {},
     "output_type": "display_data"
    },
    {
     "data": {
      "text/html": [
       "<pre>Number of unpacked features : 7</pre>"
      ],
      "text/plain": [
       "Number of unpacked features : 7"
      ]
     },
     "metadata": {},
     "output_type": "display_data"
    },
    {
     "data": {
      "text/html": [
       "<pre>Number of coefficients    : 687</pre>"
      ],
      "text/plain": [
       "Number of coefficients    : 687"
      ]
     },
     "metadata": {},
     "output_type": "display_data"
    },
    {
     "data": {
      "text/html": [
       "<pre>Starting Accelerated Gradient (FISTA)</pre>"
      ],
      "text/plain": [
       "Starting Accelerated Gradient (FISTA)"
      ]
     },
     "metadata": {},
     "output_type": "display_data"
    },
    {
     "data": {
      "text/html": [
       "<pre>--------------------------------------------------------</pre>"
      ],
      "text/plain": [
       "--------------------------------------------------------"
      ]
     },
     "metadata": {},
     "output_type": "display_data"
    },
    {
     "data": {
      "text/html": [
       "<pre>+-----------+----------+-----------+--------------+-------------------+---------------------+</pre>"
      ],
      "text/plain": [
       "+-----------+----------+-----------+--------------+-------------------+---------------------+"
      ]
     },
     "metadata": {},
     "output_type": "display_data"
    },
    {
     "data": {
      "text/html": [
       "<pre>| Iteration | Passes   | Step size | Elapsed Time | Training-accuracy | Validation-accuracy |</pre>"
      ],
      "text/plain": [
       "| Iteration | Passes   | Step size | Elapsed Time | Training-accuracy | Validation-accuracy |"
      ]
     },
     "metadata": {},
     "output_type": "display_data"
    },
    {
     "data": {
      "text/html": [
       "<pre>+-----------+----------+-----------+--------------+-------------------+---------------------+</pre>"
      ],
      "text/plain": [
       "+-----------+----------+-----------+--------------+-------------------+---------------------+"
      ]
     },
     "metadata": {},
     "output_type": "display_data"
    },
    {
     "data": {
      "text/html": [
       "<pre>Tuning step size. First iteration could take longer than subsequent iterations.</pre>"
      ],
      "text/plain": [
       "Tuning step size. First iteration could take longer than subsequent iterations."
      ]
     },
     "metadata": {},
     "output_type": "display_data"
    },
    {
     "data": {
      "text/html": [
       "<pre>| 1         | 2        | 0.000000  | 1746.768573  | 0.841402          | 0.791974            |</pre>"
      ],
      "text/plain": [
       "| 1         | 2        | 0.000000  | 1746.768573  | 0.841402          | 0.791974            |"
      ]
     },
     "metadata": {},
     "output_type": "display_data"
    },
    {
     "data": {
      "text/html": [
       "<pre>| 2         | 3        | 0.000000  | 1843.561460  | 0.841402          | 0.791974            |</pre>"
      ],
      "text/plain": [
       "| 2         | 3        | 0.000000  | 1843.561460  | 0.841402          | 0.791974            |"
      ]
     },
     "metadata": {},
     "output_type": "display_data"
    },
    {
     "data": {
      "text/html": [
       "<pre>| 3         | 4        | 0.000000  | 1933.515301  | 0.841402          | 0.791974            |</pre>"
      ],
      "text/plain": [
       "| 3         | 4        | 0.000000  | 1933.515301  | 0.841402          | 0.791974            |"
      ]
     },
     "metadata": {},
     "output_type": "display_data"
    },
    {
     "data": {
      "text/html": [
       "<pre>| 4         | 5        | 0.000000  | 2029.778431  | 0.841402          | 0.791974            |</pre>"
      ],
      "text/plain": [
       "| 4         | 5        | 0.000000  | 2029.778431  | 0.841402          | 0.791974            |"
      ]
     },
     "metadata": {},
     "output_type": "display_data"
    },
    {
     "data": {
      "text/html": [
       "<pre>+-----------+----------+-----------+--------------+-------------------+---------------------+</pre>"
      ],
      "text/plain": [
       "+-----------+----------+-----------+--------------+-------------------+---------------------+"
      ]
     },
     "metadata": {},
     "output_type": "display_data"
    },
    {
     "data": {
      "text/html": [
       "<pre>SUCCESS: Optimal solution found.</pre>"
      ],
      "text/plain": [
       "SUCCESS: Optimal solution found."
      ]
     },
     "metadata": {},
     "output_type": "display_data"
    },
    {
     "data": {
      "text/html": [
       "<pre></pre>"
      ],
      "text/plain": []
     },
     "metadata": {},
     "output_type": "display_data"
    },
    {
     "name": "stdout",
     "output_type": "stream",
     "text": [
      "CPU times: user 2h 10min 8s, sys: 2min 40s, total: 2h 12min 49s\n",
      "Wall time: 36min 52s\n"
     ]
    }
   ],
   "source": [
    "%%time\n",
    "cols_to_use = ['Year','Month','DayOfWeek',\n",
    "               'hour','UniqueCarrier','Origin',\n",
    "               'Dest']\n",
    "\n",
    "lin_model = gl.logistic_classifier.create(X_train, \n",
    "                                         target='delayed', \n",
    "                                         features=cols_to_use,\n",
    "                                         validation_set=X_test,\n",
    "                                         ) "
   ]
  },
  {
   "cell_type": "code",
   "execution_count": 15,
   "metadata": {
    "collapsed": false
   },
   "outputs": [
    {
     "name": "stdout",
     "output_type": "stream",
     "text": [
      "1.94563885052e-06\n",
      "CPU times: user 2min 36s, sys: 16.9 s, total: 2min 52s\n",
      "Wall time: 58 s\n"
     ]
    }
   ],
   "source": [
    "%%time\n",
    "fscore = gl.evaluation.f1_score(X_test['delayed'], lin_model.predict(X_test))\n",
    "print(fscore)"
   ]
  },
  {
   "cell_type": "code",
   "execution_count": 17,
   "metadata": {
    "collapsed": false
   },
   "outputs": [
    {
     "name": "stderr",
     "output_type": "stream",
     "text": [
      "[INFO] graphlab.deploy.job: Validating job.\n",
      "[INFO] graphlab.deploy.job: Creating a LocalAsync environment called 'async'.\n",
      "[INFO] graphlab.deploy.map_job: Validation complete. Job: 'Model-Parameter-Search-Oct-28-2016-09-19-3900000' ready for execution\n",
      "[INFO] graphlab.deploy.map_job: Job: 'Model-Parameter-Search-Oct-28-2016-09-19-3900000' scheduled.\n",
      "[INFO] graphlab.deploy.job: Validating job.\n",
      "[INFO] graphlab.deploy.map_job: A job with name 'Model-Parameter-Search-Oct-28-2016-09-19-3900000' already exists. Renaming the job to 'Model-Parameter-Search-Oct-28-2016-09-19-3900000-7c85c'.\n",
      "[INFO] graphlab.deploy.map_job: Validation complete. Job: 'Model-Parameter-Search-Oct-28-2016-09-19-3900000-7c85c' ready for execution\n",
      "[INFO] graphlab.deploy.map_job: Job: 'Model-Parameter-Search-Oct-28-2016-09-19-3900000-7c85c' scheduled.\n",
      "[INFO] graphlab.deploy.job: Validating job.\n",
      "[INFO] graphlab.deploy.map_job: Validation complete. Job: 'Model-Parameter-Search-Oct-28-2016-09-19-3900001' ready for execution\n",
      "[INFO] graphlab.deploy.map_job: Job: 'Model-Parameter-Search-Oct-28-2016-09-19-3900001' scheduled.\n"
     ]
    },
    {
     "name": "stdout",
     "output_type": "stream",
     "text": [
      "CPU times: user 796 ms, sys: 684 ms, total: 1.48 s\n",
      "Wall time: 9.43 s\n"
     ]
    }
   ],
   "source": [
    "%%time\n",
    "# let define a much smaller dataset to test our code upon\n",
    "cv_small = gl.toolkits.cross_validation.KFold(data=X_train[:1000],num_folds=3)\n",
    "\n",
    "cols_to_use = ['Year','Month','DayOfWeek',\n",
    "               'hour','UniqueCarrier','Origin',\n",
    "               'Dest']\n",
    "\n",
    "def custom_evaluator(scorer, train, valid):\n",
    "    yhat_train = scorer.predict(train)\n",
    "    yhat_valid = scorer.predict(valid)\n",
    "    return {'train_f1': gl.evaluation.f1_score(train['delayed'], yhat_train),\n",
    "            'valid_f1': gl.evaluation.f1_score(valid['delayed'], yhat_valid)}\n",
    "\n",
    "from graphlab.toolkits.model_parameter_search import grid_search as gl_grid_search\n",
    "\n",
    "grid = {'l2_penalty': [1e-5, 1e-4], # regularization parameters\n",
    "        'l1_penalty': [1e-5, 1e-4],\n",
    "        'target': ['delayed'], # other inputs to use for function\n",
    "        'features': [cols_to_use] # an array of different feature combinations\n",
    "        # we only use a single combination of features here, so it is wrapped in list\n",
    "       } \n",
    "\n",
    "job = gl_grid_search.create(cv_small, # tuples of the train/test SFrames\n",
    "                            gl.logistic_classifier.create,\n",
    "                            grid,\n",
    "                            evaluator=custom_evaluator)"
   ]
  },
  {
   "cell_type": "code",
   "execution_count": 18,
   "metadata": {
    "collapsed": false
   },
   "outputs": [
    {
     "data": {
      "text/plain": [
       "{'Canceled': 0, 'Completed': 12, 'Failed': 0, 'Pending': 0, 'Running': 0}"
      ]
     },
     "execution_count": 18,
     "metadata": {},
     "output_type": "execute_result"
    }
   ],
   "source": [
    "# the job created above is run asynchronously in the background\n",
    "# however you can call several functions to check the status of the job\n",
    "job.get_status()"
   ]
  },
  {
   "cell_type": "code",
   "execution_count": 19,
   "metadata": {
    "collapsed": false
   },
   "outputs": [
    {
     "data": {
      "text/html": [
       "<div style=\"max-height:1000px;max-width:1500px;overflow:auto;\"><table frame=\"box\" rules=\"cols\">\n",
       "    <tr>\n",
       "        <th style=\"padding-left: 1em; padding-right: 1em; text-align: center\">features</th>\n",
       "        <th style=\"padding-left: 1em; padding-right: 1em; text-align: center\">l1_penalty</th>\n",
       "        <th style=\"padding-left: 1em; padding-right: 1em; text-align: center\">l2_penalty</th>\n",
       "        <th style=\"padding-left: 1em; padding-right: 1em; text-align: center\">target</th>\n",
       "        <th style=\"padding-left: 1em; padding-right: 1em; text-align: center\">num_folds</th>\n",
       "        <th style=\"padding-left: 1em; padding-right: 1em; text-align: center\">fold_id</th>\n",
       "        <th style=\"padding-left: 1em; padding-right: 1em; text-align: center\">model_id</th>\n",
       "        <th style=\"padding-left: 1em; padding-right: 1em; text-align: center\">mean_valid_f1</th>\n",
       "    </tr>\n",
       "    <tr>\n",
       "        <td style=\"padding-left: 1em; padding-right: 1em; text-align: center; vertical-align: top\">[Year, Month, DayOfWeek,<br>hour, UniqueCarrier, ...</td>\n",
       "        <td style=\"padding-left: 1em; padding-right: 1em; text-align: center; vertical-align: top\">1e-05</td>\n",
       "        <td style=\"padding-left: 1em; padding-right: 1em; text-align: center; vertical-align: top\">0.0001</td>\n",
       "        <td style=\"padding-left: 1em; padding-right: 1em; text-align: center; vertical-align: top\">delayed</td>\n",
       "        <td style=\"padding-left: 1em; padding-right: 1em; text-align: center; vertical-align: top\">3</td>\n",
       "        <td style=\"padding-left: 1em; padding-right: 1em; text-align: center; vertical-align: top\">[0, 2, 1]</td>\n",
       "        <td style=\"padding-left: 1em; padding-right: 1em; text-align: center; vertical-align: top\">[6, 8, 7]</td>\n",
       "        <td style=\"padding-left: 1em; padding-right: 1em; text-align: center; vertical-align: top\">0.0</td>\n",
       "    </tr>\n",
       "    <tr>\n",
       "        <td style=\"padding-left: 1em; padding-right: 1em; text-align: center; vertical-align: top\">[Year, Month, DayOfWeek,<br>hour, UniqueCarrier, ...</td>\n",
       "        <td style=\"padding-left: 1em; padding-right: 1em; text-align: center; vertical-align: top\">0.0001</td>\n",
       "        <td style=\"padding-left: 1em; padding-right: 1em; text-align: center; vertical-align: top\">1e-05</td>\n",
       "        <td style=\"padding-left: 1em; padding-right: 1em; text-align: center; vertical-align: top\">delayed</td>\n",
       "        <td style=\"padding-left: 1em; padding-right: 1em; text-align: center; vertical-align: top\">3</td>\n",
       "        <td style=\"padding-left: 1em; padding-right: 1em; text-align: center; vertical-align: top\">[2, 0, 1]</td>\n",
       "        <td style=\"padding-left: 1em; padding-right: 1em; text-align: center; vertical-align: top\">[5, 3, 4]</td>\n",
       "        <td style=\"padding-left: 1em; padding-right: 1em; text-align: center; vertical-align: top\">0.0</td>\n",
       "    </tr>\n",
       "    <tr>\n",
       "        <td style=\"padding-left: 1em; padding-right: 1em; text-align: center; vertical-align: top\">[Year, Month, DayOfWeek,<br>hour, UniqueCarrier, ...</td>\n",
       "        <td style=\"padding-left: 1em; padding-right: 1em; text-align: center; vertical-align: top\">0.0001</td>\n",
       "        <td style=\"padding-left: 1em; padding-right: 1em; text-align: center; vertical-align: top\">0.0001</td>\n",
       "        <td style=\"padding-left: 1em; padding-right: 1em; text-align: center; vertical-align: top\">delayed</td>\n",
       "        <td style=\"padding-left: 1em; padding-right: 1em; text-align: center; vertical-align: top\">3</td>\n",
       "        <td style=\"padding-left: 1em; padding-right: 1em; text-align: center; vertical-align: top\">[0, 2, 1]</td>\n",
       "        <td style=\"padding-left: 1em; padding-right: 1em; text-align: center; vertical-align: top\">[9, 11, 10]</td>\n",
       "        <td style=\"padding-left: 1em; padding-right: 1em; text-align: center; vertical-align: top\">0.0</td>\n",
       "    </tr>\n",
       "    <tr>\n",
       "        <td style=\"padding-left: 1em; padding-right: 1em; text-align: center; vertical-align: top\">[Year, Month, DayOfWeek,<br>hour, UniqueCarrier, ...</td>\n",
       "        <td style=\"padding-left: 1em; padding-right: 1em; text-align: center; vertical-align: top\">1e-05</td>\n",
       "        <td style=\"padding-left: 1em; padding-right: 1em; text-align: center; vertical-align: top\">1e-05</td>\n",
       "        <td style=\"padding-left: 1em; padding-right: 1em; text-align: center; vertical-align: top\">delayed</td>\n",
       "        <td style=\"padding-left: 1em; padding-right: 1em; text-align: center; vertical-align: top\">3</td>\n",
       "        <td style=\"padding-left: 1em; padding-right: 1em; text-align: center; vertical-align: top\">[0, 1, 2]</td>\n",
       "        <td style=\"padding-left: 1em; padding-right: 1em; text-align: center; vertical-align: top\">[0, 1, 2]</td>\n",
       "        <td style=\"padding-left: 1em; padding-right: 1em; text-align: center; vertical-align: top\">0.0</td>\n",
       "    </tr>\n",
       "</table>\n",
       "<table frame=\"box\" rules=\"cols\">\n",
       "    <tr>\n",
       "        <th style=\"padding-left: 1em; padding-right: 1em; text-align: center\">mean_train_f1</th>\n",
       "    </tr>\n",
       "    <tr>\n",
       "        <td style=\"padding-left: 1em; padding-right: 1em; text-align: center; vertical-align: top\">0.016</td>\n",
       "    </tr>\n",
       "    <tr>\n",
       "        <td style=\"padding-left: 1em; padding-right: 1em; text-align: center; vertical-align: top\">0.016</td>\n",
       "    </tr>\n",
       "    <tr>\n",
       "        <td style=\"padding-left: 1em; padding-right: 1em; text-align: center; vertical-align: top\">0.016</td>\n",
       "    </tr>\n",
       "    <tr>\n",
       "        <td style=\"padding-left: 1em; padding-right: 1em; text-align: center; vertical-align: top\">0.016</td>\n",
       "    </tr>\n",
       "</table>\n",
       "[4 rows x 9 columns]<br/>\n",
       "</div>"
      ],
      "text/plain": [
       "Columns:\n",
       "\tfeatures\tlist\n",
       "\tl1_penalty\tfloat\n",
       "\tl2_penalty\tfloat\n",
       "\ttarget\tstr\n",
       "\tnum_folds\tint\n",
       "\tfold_id\tlist\n",
       "\tmodel_id\tlist\n",
       "\tmean_valid_f1\tfloat\n",
       "\tmean_train_f1\tfloat\n",
       "\n",
       "Rows: 4\n",
       "\n",
       "Data:\n",
       "+-------------------------------+------------+------------+---------+-----------+\n",
       "|            features           | l1_penalty | l2_penalty |  target | num_folds |\n",
       "+-------------------------------+------------+------------+---------+-----------+\n",
       "| [Year, Month, DayOfWeek, h... |   1e-05    |   0.0001   | delayed |     3     |\n",
       "| [Year, Month, DayOfWeek, h... |   0.0001   |   1e-05    | delayed |     3     |\n",
       "| [Year, Month, DayOfWeek, h... |   0.0001   |   0.0001   | delayed |     3     |\n",
       "| [Year, Month, DayOfWeek, h... |   1e-05    |   1e-05    | delayed |     3     |\n",
       "+-------------------------------+------------+------------+---------+-----------+\n",
       "+-----------+-------------+---------------+---------------+\n",
       "|  fold_id  |   model_id  | mean_valid_f1 | mean_train_f1 |\n",
       "+-----------+-------------+---------------+---------------+\n",
       "| [0, 2, 1] |  [6, 8, 7]  |      0.0      |     0.016     |\n",
       "| [2, 0, 1] |  [5, 3, 4]  |      0.0      |     0.016     |\n",
       "| [0, 2, 1] | [9, 11, 10] |      0.0      |     0.016     |\n",
       "| [0, 1, 2] |  [0, 1, 2]  |      0.0      |     0.016     |\n",
       "+-----------+-------------+---------------+---------------+\n",
       "[4 rows x 9 columns]"
      ]
     },
     "execution_count": 19,
     "metadata": {},
     "output_type": "execute_result"
    }
   ],
   "source": [
    "# and you can also retrieve the results\n",
    "job.get_results()"
   ]
  },
  {
   "cell_type": "code",
   "execution_count": 16,
   "metadata": {
    "collapsed": false
   },
   "outputs": [
    {
     "name": "stdout",
     "output_type": "stream",
     "text": [
      "CPU times: user 5min 26s, sys: 34.2 s, total: 6min\n",
      "Wall time: 2min 8s\n"
     ]
    }
   ],
   "source": [
    "%%time\n",
    "# looks like this is not quite as good as the Dask model\n",
    "# but in Dask, we had the advantage of running a grid search\n",
    "# lets do the same here\n",
    "\n",
    "# first break up like we did in dask (~2 mins)\n",
    "cv = gl.toolkits.cross_validation.KFold(data=X_train,num_folds=3)"
   ]
  },
  {
   "cell_type": "code",
   "execution_count": 46,
   "metadata": {
    "collapsed": false
   },
   "outputs": [
    {
     "name": "stderr",
     "output_type": "stream",
     "text": [
      "[INFO] graphlab.deploy.job: Validating job.\n",
      "[INFO] graphlab.deploy.map_job: Validation complete. Job: 'Model-Parameter-Search-Oct-26-2016-14-54-4700000' ready for execution\n",
      "[INFO] graphlab.deploy.map_job: Job: 'Model-Parameter-Search-Oct-26-2016-14-54-4700000' scheduled.\n",
      "[INFO] graphlab.deploy.job: Validating job.\n",
      "[INFO] graphlab.deploy.map_job: A job with name 'Model-Parameter-Search-Oct-26-2016-14-54-4700000' already exists. Renaming the job to 'Model-Parameter-Search-Oct-26-2016-14-54-4700000-6a080'.\n",
      "[INFO] graphlab.deploy.map_job: Validation complete. Job: 'Model-Parameter-Search-Oct-26-2016-14-54-4700000-6a080' ready for execution\n",
      "[INFO] graphlab.deploy.map_job: Job: 'Model-Parameter-Search-Oct-26-2016-14-54-4700000-6a080' scheduled.\n",
      "[INFO] graphlab.deploy.job: Validating job.\n",
      "[INFO] graphlab.deploy.map_job: Validation complete. Job: 'Model-Parameter-Search-Oct-26-2016-14-54-4700001' ready for execution\n",
      "[INFO] graphlab.deploy.map_job: Job: 'Model-Parameter-Search-Oct-26-2016-14-54-4700001' scheduled.\n"
     ]
    },
    {
     "name": "stdout",
     "output_type": "stream",
     "text": [
      "CPU times: user 267 ms, sys: 157 ms, total: 424 ms\n",
      "Wall time: 10.6 s\n"
     ]
    }
   ],
   "source": [
    "%%time \n",
    "# and now let's setup and run a much larger search\n",
    "from graphlab.toolkits.model_parameter_search import grid_search as gl_grid_search\n",
    "\n",
    "grid = {'l2_penalty': [1e-5, 1e-4], # regularization parameters\n",
    "        'l1_penalty': [1e-5, 1e-4],\n",
    "        'target': ['delayed'], # other inputs to use for function\n",
    "        'features': [cols_to_use], # an array of different feature combinations\n",
    "        # we only use a single combination of features here, so it is wrapped in list\n",
    "       } \n",
    "\n",
    "job = gl_grid_search.create(cv, # tuples of the train/test SFrames\n",
    "                            gl.logistic_classifier.create,\n",
    "                            grid,\n",
    "                            evaluator=custom_evaluator)"
   ]
  },
  {
   "cell_type": "code",
   "execution_count": 52,
   "metadata": {
    "collapsed": false
   },
   "outputs": [
    {
     "data": {
      "text/plain": [
       "{'Canceled': 0, 'Completed': 12, 'Failed': 0, 'Pending': 0, 'Running': 0}"
      ]
     },
     "execution_count": 52,
     "metadata": {},
     "output_type": "execute_result"
    }
   ],
   "source": [
    "# so now the job is running in a LocalAsync environment\n",
    "# we could just as easily set it to run in a distributed environment also\n",
    "# Graphlab supports other environments like HadoopCluster and Ec2Cluster \n",
    "\n",
    "#==================\n",
    "# for debugging-----\n",
    "# print(job.get_metrics()['exception_message'])\n",
    "# job.get_metrics()\n",
    "\n",
    "# for checking on the job\n",
    "job.get_status()"
   ]
  },
  {
   "cell_type": "code",
   "execution_count": 53,
   "metadata": {
    "collapsed": false
   },
   "outputs": [
    {
     "name": "stderr",
     "output_type": "stream",
     "text": [
      "[INFO] graphlab.deploy._job: Job already finished, cancel operation is not performed.\n",
      "[INFO] graphlab.deploy._job: Job already finished, cancel operation is not performed.\n"
     ]
    }
   ],
   "source": [
    "job.cancel()"
   ]
  },
  {
   "cell_type": "code",
   "execution_count": null,
   "metadata": {
    "collapsed": true
   },
   "outputs": [],
   "source": []
  }
 ],
 "metadata": {
  "anaconda-cloud": {},
  "kernelspec": {
   "display_name": "Python [gl-env]",
   "language": "python",
   "name": "Python [gl-env]"
  },
  "language_info": {
   "codemirror_mode": {
    "name": "ipython",
    "version": 2
   },
   "file_extension": ".py",
   "mimetype": "text/x-python",
   "name": "python",
   "nbconvert_exporter": "python",
   "pygments_lexer": "ipython2",
   "version": "2.7.12"
  }
 },
 "nbformat": 4,
 "nbformat_minor": 0
}
