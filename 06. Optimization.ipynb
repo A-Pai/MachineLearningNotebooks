{
 "cells": [
  {
   "cell_type": "markdown",
   "metadata": {},
   "source": [
    "# More Advanced  Optimization for Machine Learning\n",
    "From previous notebooks, we know that the logistic regression update equation is given by:\n",
    "$$ \\underbrace{w_j}_{\\text{new value}} \\leftarrow \\underbrace{w_j}_{\\text{old value}} + \\eta \\underbrace{\\sum_{i=1}^M (y^{(i)}-\\hat{y}^{(i)})x^{(i)}_j}_{\\text{gradient}} $$\n",
    "\n",
    "$$ w \\leftarrow w + \\eta \\sum_{i=1}^M (y^{(i)}-\\hat{y}^{(i)})x^{(i)} $$\n",
    "\n",
    "Which can be made more generic by denoting the objective function as $l(w)$:\n",
    "$$ w \\leftarrow w + \\eta \\nabla l(w)$$\n",
    "\n",
    "One problem is that we still need to set the value of $\\eta$, which can drastically change the performance of the optimization algorithm. If $\\eta$ is too large, the algorithm might be unstable. If $\\eta$ is too small, it might take forever to converge.\n",
    "$$ w \\leftarrow w + \\underbrace{\\eta}_{\\text{best step?}} \\nabla l(w) $$\n",
    "\n",
    "We can solve this issue by performing a line search for the best value of $\\eta$ along the direction of the gradient, as denoted by:\n",
    "\n",
    "$$ \\eta \\leftarrow \\arg\\min_\\eta \\sum_{i=1}^M (y^{(i)}-\\hat{y}^{(i)})^2 $$\n",
    "\n",
    "# Optimizing Logistic Regression via Line Search"
   ]
  },
  {
   "cell_type": "code",
   "execution_count": 1,
   "metadata": {
    "collapsed": true
   },
   "outputs": [],
   "source": [
    "from sklearn.datasets import load_iris\n",
    "import numpy as np\n",
    "\n",
    "ds = load_iris()\n",
    "X = ds.data\n",
    "y = (ds.target>1).astype(np.int) # make problem binary\n",
    "Xb = np.hstack((np.ones((X.shape[0],1)),X)) # add bias term\n",
    "\n",
    "def accuracy(y,yhat):\n",
    "    return sum(yhat==y)/len(y)"
   ]
  },
  {
   "cell_type": "code",
   "execution_count": 2,
   "metadata": {
    "collapsed": false
   },
   "outputs": [
    {
     "name": "stdout",
     "output_type": "stream",
     "text": [
      "CPU times: user 36.7 ms, sys: 2.68 ms, total: 39.4 ms\n",
      "Wall time: 39.6 ms\n",
      "Binary Logistic Regression Object with coefficients:\n",
      "[[ -58.04278718]\n",
      " [-101.88713425]\n",
      " [ -89.9532887 ]\n",
      " [ 149.56437443]\n",
      " [ 128.26409526]]\n",
      "Accuracy of:  0.98\n"
     ]
    },
    {
     "name": "stderr",
     "output_type": "stream",
     "text": [
      "/Users/eclarson/anaconda/envs/MLEnv/lib/python3.5/site-packages/ipykernel/__main__.py:15: RuntimeWarning: overflow encountered in exp\n"
     ]
    }
   ],
   "source": [
    "# from last time, our logistic regression algorithm is given by:\n",
    "class BinaryLogisticRegression:\n",
    "    def __init__(self, eta, iterations=20):\n",
    "        self.eta = eta\n",
    "        self.iters = iterations\n",
    "        # internally we will store the weights as self.w_ to keep with sklearn conventions\n",
    "        \n",
    "    def __str__(self):\n",
    "        if(hasattr(self,'w_')):\n",
    "            return 'Binary Logistic Regression Object with coefficients:\\n'+ str(self.w_) # is we have trained the object\n",
    "        else:\n",
    "            return 'Untrained Binary Logistic Regression Object'\n",
    "        \n",
    "    def sigmoid(self,theta):\n",
    "        return 1/(1+np.exp(-theta))\n",
    "    \n",
    "    def predict_proba(self,X):\n",
    "        return self.sigmoid(X @ self.w_) # return the probability y=1\n",
    "    \n",
    "    def predict(self,X):\n",
    "        return (self.predict_proba(X)>0.5).astype(np.int).ravel() #return the actual prediction\n",
    "    \n",
    "    # vectorized the fit function\n",
    "    def fit(self, X, y):\n",
    "        num_samples, num_features = X.shape    \n",
    "        \n",
    "        self.w_ = np.zeros((num_features,1))\n",
    "        for _ in range(self.iters):\n",
    "            ydiff = y-self.predict_proba(X).ravel() # get y difference\n",
    "            gradient = np.sum(X * ydiff[:,np.newaxis], axis=0) # make ydiff a column vector and multiply through\n",
    "            self.w_ += gradient.reshape(self.w_.shape)*self.eta # add with learning rate\n",
    "        \n",
    "\n",
    "blr = BinaryLogisticRegression(0.1,500)\n",
    "\n",
    "%time blr.fit(Xb,y)\n",
    "print(blr)\n",
    "\n",
    "yhat = blr.predict(Xb)\n",
    "print('Accuracy of: ',accuracy(y,yhat))"
   ]
  },
  {
   "cell_type": "code",
   "execution_count": 3,
   "metadata": {
    "collapsed": false
   },
   "outputs": [
    {
     "name": "stdout",
     "output_type": "stream",
     "text": [
      "CPU times: user 41.1 ms, sys: 2.25 ms, total: 43.3 ms\n",
      "Wall time: 43.8 ms\n",
      "Binary Logistic Regression Object with coefficients:\n",
      "[[-103.5757535 ]\n",
      " [-227.88065221]\n",
      " [-249.2494365 ]\n",
      " [ 380.44490565]\n",
      " [ 274.40859102]]\n",
      "Accuracy of:  0.966666666667\n"
     ]
    },
    {
     "name": "stderr",
     "output_type": "stream",
     "text": [
      "/Users/eclarson/anaconda/envs/MLEnv/lib/python3.5/site-packages/ipykernel/__main__.py:12: RuntimeWarning: overflow encountered in exp\n",
      "/Users/eclarson/anaconda/envs/MLEnv/lib/python3.5/site-packages/ipykernel/__main__.py:15: RuntimeWarning: overflow encountered in exp\n"
     ]
    }
   ],
   "source": [
    "# and we can update this to use a line search along the gradient like this:\n",
    "from scipy.optimize import minimize_scalar\n",
    "import copy\n",
    "class LineSearchLogisticRegression(BinaryLogisticRegression):\n",
    "    \n",
    "    def fit(self, X, y):\n",
    "        num_samples, num_features = X.shape\n",
    "        \n",
    "        # define custom line search for problem\n",
    "        def line_search_function(eta,X,y,w,grad):\n",
    "            wnew = w+grad*eta\n",
    "            yhat = (1/(1+np.exp(-X @ wnew)))>0.5\n",
    "            return np.sum((y-yhat)**2)\n",
    "        \n",
    "        \n",
    "        self.w_ = np.zeros((num_features,1))\n",
    "        for _ in range(self.iters):\n",
    "            # get gradient direction\n",
    "            ydiff = y-self.predict_proba(X).ravel() # get y difference\n",
    "            gradient = np.sum(X * ydiff[:,np.newaxis], axis=0) # make ydiff a column vector and multiply through\n",
    "            gradient = gradient.reshape(self.w_.shape)\n",
    "            \n",
    "            # do line search in gradient direction, using scipy function\n",
    "            opts = {'maxiter':self.iters/20} # unclear exactly what this should be\n",
    "            res = minimize_scalar(line_search_function, # objective function to optimize\n",
    "                                  bounds=(self.eta/10,self.eta*10), #bounds to optimize\n",
    "                                  args=(X,y,self.w_,gradient), # additional argument for objective function\n",
    "                                  method='bounded', # bounded optimization for speed\n",
    "                                  options=opts) # set max iterations\n",
    "            eta = res.x # get optimal learning rate\n",
    "            self.w_ += gradient*eta # set new function values\n",
    "                \n",
    "            \n",
    "\n",
    "lslr = LineSearchLogisticRegression(0.1,60)\n",
    "\n",
    "%time lslr.fit(Xb,y)\n",
    "\n",
    "yhat = lslr.predict(Xb)\n",
    "print(lslr)\n",
    "print('Accuracy of: ',accuracy(y,yhat))         "
   ]
  },
  {
   "cell_type": "markdown",
   "metadata": {},
   "source": [
    "This is an improvement in the accuracy, but did take a little while longer (this is because $\\eta$ was chosen well in the initial example). \n",
    "___"
   ]
  },
  {
   "cell_type": "markdown",
   "metadata": {},
   "source": [
    "# Stochastic Gradient Descent\n",
    "Sometimes the gradient calcualtion is too computational:\n",
    "$$ w \\leftarrow w + \\eta \\sum_{i=1}^M (y^{(i)}-\\hat{y}^{(i)})x^{(i)} $$\n",
    "\n",
    "Instead, we can approximate the gradient using one instance, this is called stochastic gradient descent (SGD) because the steps can appear somewhat random.\n",
    "$$ w \\leftarrow w + \\eta \\underbrace{(y^{(i)}-\\hat{y}^{(i)})x^{(i)}}_{\\text{approx. gradient}} \\text{,   where   } i\\in M$$\n",
    "\n",
    "Let's code up the SGD example."
   ]
  },
  {
   "cell_type": "code",
   "execution_count": 4,
   "metadata": {
    "collapsed": false
   },
   "outputs": [
    {
     "name": "stdout",
     "output_type": "stream",
     "text": [
      "CPU times: user 22.4 ms, sys: 3.53 ms, total: 25.9 ms\n",
      "Wall time: 26.6 ms\n",
      "Binary Logistic Regression Object with coefficients:\n",
      "[[-1.55739978]\n",
      " [-2.86353535]\n",
      " [-3.15928981]\n",
      " [ 4.41201547]\n",
      " [ 4.16543722]]\n",
      "Accuracy of:  0.98\n"
     ]
    }
   ],
   "source": [
    "class StochasticLogisticRegression(BinaryLogisticRegression):\n",
    "    def fit(self, X, y):\n",
    "        num_samples, num_features = X.shape    \n",
    "        \n",
    "        self.w_ = np.zeros((num_features,1))\n",
    "        for _ in range(self.iters):\n",
    "            idx = int(np.random.rand()*len(y)) # grab random instance\n",
    "            ydiff = y[idx]-self.predict_proba(X[idx]) # get y difference\n",
    "            gradient = X[idx] * ydiff[:,np.newaxis] # make ydiff a column vector and multiply through\n",
    "            self.w_ += gradient.reshape(self.w_.shape)*self.eta # add with learning rate\n",
    "        \n",
    "slr = StochasticLogisticRegression(0.1,1000)\n",
    "\n",
    "%time slr.fit(Xb,y)\n",
    "\n",
    "yhat = slr.predict(Xb)\n",
    "print(slr)\n",
    "print('Accuracy of: ',accuracy(y,yhat))      "
   ]
  },
  {
   "cell_type": "markdown",
   "metadata": {},
   "source": [
    "___\n",
    "# Optimizing with Second Order Derivatives\n",
    "First, let's look at the one dimensioanl case when we have a function $l(w)$ where w is a scalar. The optimal value of w is given by:\n",
    "\n",
    "$$ w \\leftarrow w - \\underbrace{[\\frac{\\partial^2}{\\partial w}l(w)]^{-1}}_{\\text{inverse 2nd deriv}}\\underbrace{\\frac{\\partial}{\\partial w}l(w)}_{\\text{derivative}}  $$\n",
    "\n",
    "Note that if $l(w)$ is a quadrativ function, this solution converges in a single step!\n",
    "\n",
    "\n",
    "### Aside: an example with the second derivative:\n",
    "Say $l(w)=2w^2+4w+5$, and we want to minimize the function. We have that:\n",
    "\n",
    "$\\frac{\\partial}{\\partial w}l(w)=4w+4$\n",
    "\n",
    "and \n",
    "\n",
    "$\\frac{\\partial^2}{\\partial w}l(w)=4$. \n",
    "\n",
    "Therefore, if we choose $w_{start}=0$, we have: \n",
    "\n",
    "$\\frac{\\partial}{\\partial w}l(0)=4$ \n",
    "\n",
    "and \n",
    "\n",
    "$\\frac{\\partial^2}{\\partial w}l(0)=4$ \n",
    "\n",
    "So the update becomes\n",
    "\n",
    "$w \\leftarrow w_{start} - \\frac{1}{4}4 = -1$\n",
    "\n",
    "The solution is found in one step. This works for any initial value of $w_{start}$. Let's verify that the solution worked graphically."
   ]
  },
  {
   "cell_type": "code",
   "execution_count": 5,
   "metadata": {
    "collapsed": false
   },
   "outputs": [
    {
     "data": {
      "text/plain": [
       "<matplotlib.text.Text at 0x10b828198>"
      ]
     },
     "execution_count": 5,
     "metadata": {},
     "output_type": "execute_result"
    },
    {
     "data": {
      "image/png": "[encoded data removed]",
      "text/plain": [
       "<matplotlib.figure.Figure at 0x10b828160>"
      ]
     },
     "metadata": {},
     "output_type": "display_data"
    }
   ],
   "source": [
    "import numpy as np\n",
    "from matplotlib import pyplot as plt\n",
    "%matplotlib inline\n",
    "\n",
    "w = np.linspace(-7,5,100)\n",
    "l = 2*w**2+4*w+5\n",
    "plt.plot(w,l)\n",
    "plt.text(-1,2.5,'$\\leftarrow$found minimum',fontsize=14)"
   ]
  },
  {
   "cell_type": "markdown",
   "metadata": {},
   "source": [
    "___\n",
    "But how do we translate this over to objective funtions with more than one variable? We need a second derivative... enter, the hessian:\n",
    "\n",
    "$$ \\nabla^2 l(w) = \\mathbf{H}[l(w)]   $$\n",
    "\n",
    "$$  \\mathbf{H}[l(w)] =  \\begin{bmatrix}\n",
    "        \\frac{\\partial^2}{\\partial w_1}l(w) &  \\frac{\\partial}{\\partial w_1}\\frac{\\partial}{\\partial w_2}l(w) & \\ldots     & \\frac{\\partial}{\\partial w_1}\\frac{\\partial}{\\partial w_N}l(w)  \\\\\n",
    "        \\frac{\\partial}{\\partial w_2}\\frac{\\partial}{\\partial w_1}l(w)  & \\frac{\\partial^2}{\\partial w_2}l(w) &  \\ldots     & \\frac{\\partial}{\\partial w_2}\\frac{\\partial}{\\partial w_N}l(w)  \\\\\n",
    "        &  \\vdots &\\\\\n",
    "        \\frac{\\partial}{\\partial w_N}\\frac{\\partial}{\\partial w_1}l(w)  & \\frac{\\partial}{\\partial w_N}\\frac{\\partial}{\\partial w_2}l(w) &  \\ldots     & \\frac{\\partial^2}{\\partial w_N}l(w) \\\\\n",
    "     \\end{bmatrix}\n",
    "$$\n",
    "\n",
    "$$ w \\leftarrow w + \\eta \\cdot \\underbrace{\\mathbf{H}[l(w)]^{-1}}_{\\text{inverse Hessian}}\\cdot\\underbrace{\\nabla l(w)}_{\\text{gradient}}$$\n",
    "\n",
    "For logistic regression\n",
    "$$ \\mathbf{H}_{j,k}[l(w)] = -\\sum_{i=1}^M g(x^{(i)})(1-g(x^{(i)}){x_k}^{(i)}{x_j}^{(i)}   $$\n",
    "\n",
    "You can see the full derivation of the Hessian in my notes here:\n",
    "- https://raw.githubusercontent.com/eclarson/MachineLearningNotebooks/master/PDF_Slides/HessianCalculation.pdf\n",
    "\n",
    "$$ \\mathbf{H}[l(w)] =  X^T \\cdot \\text{diag}[g(x^{(i)})(1-g(x^{(i)})]\\cdot X $$\n",
    "\n",
    "$$ w \\leftarrow w + \\eta [X^T \\cdot \\text{diag}[g(x^{(i)})(1-g(x^{(i)})]\\cdot X]^{-1}\\cdot X*y_{diff}$$\n",
    "\n",
    "So let's code this up using numpy:"
   ]
  },
  {
   "cell_type": "code",
   "execution_count": 6,
   "metadata": {
    "collapsed": false
   },
   "outputs": [
    {
     "name": "stdout",
     "output_type": "stream",
     "text": [
      "CPU times: user 7.23 ms, sys: 1.72 ms, total: 8.95 ms\n",
      "Wall time: 5.35 ms\n",
      "Binary Logistic Regression Object with coefficients:\n",
      "[[-14.08319984]\n",
      " [ -1.59714009]\n",
      " [ -2.20181703]\n",
      " [  3.81731771]\n",
      " [  7.04317257]]\n",
      "Accuracy of:  0.98\n"
     ]
    }
   ],
   "source": [
    "class HessianBinaryLogisticRegression(BinaryLogisticRegression):\n",
    "    # just overwrite fit function\n",
    "    def fit(self, X, y):\n",
    "        num_samples, num_features = X.shape\n",
    "        \n",
    "        self.w_ = np.zeros((num_features,1))\n",
    "        for _ in range(self.iters):\n",
    "            g = self.predict_proba(X).ravel() # get sigmoid value for all classes\n",
    "            hessian = X.T @ np.diag(g*(1-g)) @ X # calculate the hessian\n",
    "            \n",
    "            ydiff = y-g # get y difference\n",
    "            gradient = np.sum(X * ydiff[:,np.newaxis], axis=0) # make ydiff a column vector and multiply through\n",
    "            gradient = gradient.reshape(self.w_.shape)#/len(y)\n",
    "            \n",
    "            self.w_ += self.eta * np.linalg.pinv(hessian) @ gradient # add with learning rate\n",
    "            \n",
    "hlr = HessianBinaryLogisticRegression(1,5) # note that we need only a few iterations here\n",
    "\n",
    "%time hlr.fit(Xb,y)\n",
    "yhat = hlr.predict(Xb)\n",
    "print(hlr)\n",
    "print('Accuracy of: ',accuracy(y,yhat))"
   ]
  },
  {
   "cell_type": "markdown",
   "metadata": {},
   "source": [
    "___\n",
    "But, as we discussed, the hessian can sometimes be ill formed for these problems and can also be highly computational. Thus, we need to approximate the Hessain, and also use some heuristics (like momentum) to better control the steps we make and directions we use. \n",
    "\n",
    "We won't explicitly program the BFGS algorithm--instead we can take advantage of scipy's calculations to do it for us. \n",
    "\n",
    "### BFGS"
   ]
  },
  {
   "cell_type": "code",
   "execution_count": 7,
   "metadata": {
    "collapsed": false
   },
   "outputs": [
    {
     "name": "stdout",
     "output_type": "stream",
     "text": [
      "CPU times: user 8.02 ms, sys: 971 µs, total: 8.99 ms\n",
      "Wall time: 6.44 ms\n",
      "Binary Logistic Regression Object with coefficients:\n",
      "[[-0.11114818]\n",
      " [-0.2677297 ]\n",
      " [-0.37792715]\n",
      " [ 0.49339159]\n",
      " [ 0.28635464]]\n",
      "Accuracy of:  0.98\n"
     ]
    }
   ],
   "source": [
    "# for this, we won't perform our own BFGS implementation (it takes a good deal of code and understanding of the algorithm)\n",
    "# luckily for us, scipy has its own BFGS implementation:\n",
    "from scipy.optimize import fmin_bfgs\n",
    "class BFGSBinaryLogisticRegression(BinaryLogisticRegression):\n",
    "    # just overwrite fit function\n",
    "    def fit(self, X, y):\n",
    "        num_samples, num_features = X.shape\n",
    "        \n",
    "        def objective_function(w,X,y):\n",
    "            g = (1/(1+np.exp(-X @ w)))\n",
    "            return -np.sum(np.log(g[y==1]))-np.sum(np.log(1-g[y==0])) #-np.sum(y*np.log(g)+(1-y)*np.log(1-g))\n",
    "        \n",
    "        def objective_gradient(w,X,y):\n",
    "            g = (1/(1+np.exp(-X @ w)))\n",
    "            yhat = g #(g>0.5).astype(np.int)\n",
    "            ydiff = y-yhat # get y difference\n",
    "            gradient = np.sum(X * ydiff[:,np.newaxis], axis=0)\n",
    "            gradient = gradient.reshape(w.shape)/len(y)\n",
    "            return -gradient\n",
    "        \n",
    "        self.w_ = fmin_bfgs(objective_function, \n",
    "                            np.zeros((num_features,1)), \n",
    "                            fprime=objective_gradient, \n",
    "                            args=(X,y),gtol=1e-03,\n",
    "                            maxiter=self.iters,\n",
    "                            disp=False).reshape((num_features,1))\n",
    "            \n",
    "bfgslr = BFGSBinaryLogisticRegression(0.1,2) # note that we need only a few iterations here\n",
    "\n",
    "%time bfgslr.fit(Xb,y)\n",
    "yhat = bfgslr.predict(Xb)\n",
    "print(bfgslr)\n",
    "print('Accuracy of: ',accuracy(y,yhat))"
   ]
  },
  {
   "cell_type": "markdown",
   "metadata": {},
   "source": [
    "## BFGS for Multiclass Logistic Regression\n",
    "Now let's add BFGS to non-binary classification. As before, we will use one-versus-all."
   ]
  },
  {
   "cell_type": "code",
   "execution_count": 8,
   "metadata": {
    "collapsed": false
   },
   "outputs": [
    {
     "name": "stdout",
     "output_type": "stream",
     "text": [
      "CPU times: user 11.9 ms, sys: 426 µs, total: 12.3 ms\n",
      "Wall time: 6.83 ms\n",
      "MultiClass Logistic Regression Object with coefficients:\n",
      "[[ 0.52228397  0.94092592  2.81252107 -4.20625865 -1.90723814]\n",
      " [ 0.78427265  1.16013913 -2.66583412  0.56585043 -2.1566517 ]\n",
      " [-2.31059509 -5.09367038 -5.38233776  8.07959037  5.94573873]]\n",
      "Accuracy of:  0.98\n"
     ]
    }
   ],
   "source": [
    "class MultiClassLogisticRegression:\n",
    "    def __init__(self, eta, iterations=20):\n",
    "        self.eta = eta\n",
    "        self.iters = iterations\n",
    "        self.classifiers_ = []\n",
    "        # internally we will store the weights as self.w_ to keep with sklearn conventions\n",
    "    \n",
    "    def __str__(self):\n",
    "        if(hasattr(self,'w_')):\n",
    "            return 'MultiClass Logistic Regression Object with coefficients:\\n'+ str(self.w_) # is we have trained the object\n",
    "        else:\n",
    "            return 'Untrained MultiClass Logistic Regression Object'\n",
    "        \n",
    "    def fit(self,X,y):\n",
    "        num_samples, num_features = X.shape\n",
    "        self.unique_ = np.sort(np.unique(y)) # get each unique class value\n",
    "        num_unique_classes = len(self.unique_)\n",
    "        self.classifiers_ = []\n",
    "        for i,yval in enumerate(self.unique_): # for each unique value\n",
    "            y_binary = y==yval # create a binary problem\n",
    "            # train the binary classifier for this class\n",
    "            hblr = BFGSBinaryLogisticRegression(self.eta,self.iters)\n",
    "            hblr.fit(X,y_binary)\n",
    "            #print(accuracy(y_binary,hblr.predict(X)))\n",
    "            # add the trained classifier to the list\n",
    "            self.classifiers_.append(hblr)\n",
    "            \n",
    "        # save all the weights into one matrix, separate column for each class\n",
    "        self.w_ = np.hstack([x.w_ for x in self.classifiers_]).T\n",
    "        \n",
    "    def predict_proba(self,X):\n",
    "        probs = []\n",
    "        for hblr in self.classifiers_:\n",
    "            probs.append(hblr.predict_proba(X).reshape((len(X),1))) # get probability for each classifier\n",
    "        \n",
    "        return np.hstack(probs) # make into single matrix\n",
    "    \n",
    "    def predict(self,X):\n",
    "        return np.argmax(self.predict_proba(X),axis=1) # take argmax along row\n",
    "    \n",
    "ds = load_iris()\n",
    "X = ds.data\n",
    "y_not_binary = ds.target # note problem is NOT binary anymore, there are three classes!\n",
    "Xb = np.hstack((np.ones((X.shape[0],1)),X)) # add bias term\n",
    "\n",
    "lr = MultiClassLogisticRegression(1,10)\n",
    "%time lr.fit(Xb,y_not_binary)\n",
    "print(lr)\n",
    "\n",
    "yhat = lr.predict(Xb)\n",
    "print('Accuracy of: ',accuracy(y_not_binary,yhat))\n"
   ]
  },
  {
   "cell_type": "code",
   "execution_count": 9,
   "metadata": {
    "collapsed": false
   },
   "outputs": [
    {
     "name": "stdout",
     "output_type": "stream",
     "text": [
      "CPU times: user 28.2 ms, sys: 1.01 ms, total: 29.2 ms\n",
      "Wall time: 17 ms\n",
      "[[-0.44524582  0.89469401 -2.32542777 -0.97869151]\n",
      " [-0.18587061 -2.11489439  0.69770617 -1.25139648]\n",
      " [-0.39444575 -0.5132796   2.93082545  2.41710589]]\n",
      "Accuracy of:  0.953333333333\n"
     ]
    }
   ],
   "source": [
    "# how do we compare now to sklearn?\n",
    "from sklearn.linear_model import LogisticRegression\n",
    "\n",
    "lr_sk = LogisticRegression(solver='lbfgs',n_jobs=1) # all params default\n",
    "# note that sklearn is optimized for using the liblinear library with logistic regression\n",
    "# ...and its faster than our implementation here\n",
    "\n",
    "%time lr_sk.fit(X,y_not_binary) # no need to add bias term, sklearn does it internally!!\n",
    "print(lr_sk.coef_)\n",
    "yhat = lr_sk.predict(X)\n",
    "print('Accuracy of: ',accuracy(y_not_binary,yhat))"
   ]
  },
  {
   "cell_type": "code",
   "execution_count": 10,
   "metadata": {
    "collapsed": false
   },
   "outputs": [
    {
     "name": "stdout",
     "output_type": "stream",
     "text": [
      "CPU times: user 3.27 ms, sys: 2.4 ms, total: 5.67 ms\n",
      "Wall time: 4.48 ms\n",
      "[[ 0.41498833  1.46129739 -2.26214118 -1.0290951 ]\n",
      " [ 0.41663969 -1.60083319  0.57765763 -1.38553843]\n",
      " [-1.70752515 -1.53426834  2.47097168  2.55538211]]\n",
      "Accuracy of:  0.96\n"
     ]
    }
   ],
   "source": [
    "# actually, we aren't nearly as good as the lib linear implementation\n",
    "# how do we compare now to sklearn?\n",
    "from sklearn.linear_model import LogisticRegression\n",
    "\n",
    "lr_sk = LogisticRegression(solver='liblinear',n_jobs=1) \n",
    "\n",
    "%time lr_sk.fit(X,y_not_binary) # no need to add bias term, sklearn does it internally!!\n",
    "print(lr_sk.coef_)\n",
    "yhat = lr_sk.predict(X)\n",
    "print('Accuracy of: ',accuracy(y_not_binary,yhat))"
   ]
  },
  {
   "cell_type": "code",
   "execution_count": 11,
   "metadata": {
    "collapsed": false
   },
   "outputs": [
    {
     "name": "stdout",
     "output_type": "stream",
     "text": [
      "CPU times: user 15.6 ms, sys: 418 µs, total: 16 ms\n",
      "Wall time: 8.59 ms\n",
      "MultiClass Logistic Regression Object with coefficients:\n",
      "[[ 0.52228397  0.94092592  2.81252107 -4.20625865 -1.90723814]\n",
      " [ 0.78427265  1.16013913 -2.66583412  0.56585043 -2.1566517 ]\n",
      " [-2.31059509 -5.09367038 -5.38233776  8.07959037  5.94573873]]\n",
      "Accuracy of:  0.98\n"
     ]
    }
   ],
   "source": [
    "# its still faster! Can we fix that?\n",
    "from joblib import Parallel, delayed\n",
    "\n",
    "def par_logistic(yval,eta,iters,X,y):\n",
    "    y_binary = y==yval # create a binary problem\n",
    "    # train the binary classifier for this class\n",
    "    hblr = BFGSBinaryLogisticRegression(eta,iters)\n",
    "    hblr.fit(X,y_binary)\n",
    "    return hblr\n",
    "\n",
    "class ParallelMultiClassLogisticRegression(MultiClassLogisticRegression):\n",
    "    def fit(self,X,y):\n",
    "        num_samples, num_features = X.shape\n",
    "        self.unique_ = np.sort(np.unique(y)) # get each unique class value\n",
    "        num_unique_classes = len(self.unique_)\n",
    "        backend = 'threading' #'multiprocessing'\n",
    "        self.classifiers_ = Parallel(n_jobs=1,backend=backend)(\n",
    "            delayed(par_logistic)(yval,self.eta,self.iters,X,y) for yval in self.unique_)\n",
    "            \n",
    "        # save all the weights into one matrix, separate column for each class\n",
    "        self.w_ = np.hstack([x.w_ for x in self.classifiers_]).T\n",
    "        \n",
    "plr = ParallelMultiClassLogisticRegression(1,10)\n",
    "%time plr.fit(Xb,y_not_binary)\n",
    "print(plr)\n",
    "\n",
    "yhat = plr.predict(Xb)\n",
    "print('Accuracy of: ',accuracy(y_not_binary,yhat))"
   ]
  },
  {
   "cell_type": "markdown",
   "metadata": {},
   "source": [
    "___\n",
    "Please note that the overhead of parallelization is not worth it for this problem!!"
   ]
  },
  {
   "cell_type": "code",
   "execution_count": null,
   "metadata": {
    "collapsed": true
   },
   "outputs": [],
   "source": []
  }
 ],
 "metadata": {
  "anaconda-cloud": {},
  "kernelspec": {
   "display_name": "Python [MLEnv]",
   "language": "python",
   "name": "Python [MLEnv]"
  },
  "language_info": {
   "codemirror_mode": {
    "name": "ipython",
    "version": 3
   },
   "file_extension": ".py",
   "mimetype": "text/x-python",
   "name": "python",
   "nbconvert_exporter": "python",
   "pygments_lexer": "ipython3",
   "version": "3.5.2"
  }
 },
 "nbformat": 4,
 "nbformat_minor": 0
}
